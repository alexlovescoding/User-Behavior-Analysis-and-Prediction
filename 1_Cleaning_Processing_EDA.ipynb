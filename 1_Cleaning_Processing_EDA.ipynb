{
 "cells": [
  {
   "cell_type": "markdown",
   "metadata": {},
   "source": [
    "##  Project Overall Objects\n",
    "\n",
    "This notebook file would approach and achieve the objects highlighted in **black**. Those in *<font color=grey>grey</font>* would be accomplished in later analysis.\n",
    "\n",
    "- Clean dirty log data and transform it for analytics.\n",
    "- Exploratory Data Analysis (EDA)\n",
    "- Find the conversion rate of users, identify key factors that bottleneck the conversion rate.\n",
    "\n",
    "- <font color=grey> Propose any hypothesis and test through analyzing features. </font>\n",
    "- <font color=grey> Build machine learning models to predict user behaviors, including but not limited to signup, churn, etc. </font>\n",
    "- <font color=grey> Discover interesting insights in the dataset and suggest how to improve the user signup rate. </font>\n",
    "\n",
    "This notebook file is meant to facilitate the analyst to dive deep into the dataset, given the results from Summary_Statistics. Some of the analysis might appear to be repetitive and or similar to what has been achieved in 0_Summary_Statistics, but the analysis are in fact being applied on different parts/keys of the whole dataset. \n",
    "\n",
    "The previous step is to give the analyst a quick understanding of the overall performance of the given dataset by looking into the distribution of data within each type. In this phase, we would be doing real data cleaning, and EDA to transform the dataset into one that's more readable and understandable for members in other teams. \n",
    "\n",
    "The outpuf of this notebook is a well-cleaned dataset, after EDA, with most of the originally features/keys remaining, together with a conversion rate chart of different events."
   ]
  },
  {
   "cell_type": "code",
   "execution_count": 1,
   "metadata": {},
   "outputs": [],
   "source": [
    "import pandas as pd\n",
    "import json\n",
    "import os\n",
    "import datetime\n",
    "import numpy as np\n",
    "import warnings\n",
    "warnings.filterwarnings('ignore')"
   ]
  },
  {
   "cell_type": "code",
   "execution_count": 2,
   "metadata": {},
   "outputs": [],
   "source": [
    "def to_date(epoch):\n",
    "    return datetime.datetime.fromtimestamp(epoch/1000).strftime(\"%Y-%m-%d\")\n",
    "# first convert from milliseconds to seconds, and then convert format from time stamp"
   ]
  },
  {
   "cell_type": "code",
   "execution_count": 3,
   "metadata": {},
   "outputs": [],
   "source": [
    "# this finds our txt files\n",
    "filename = \"data/UBA_sample_data.txt\"\n",
    "data = []\n",
    "for line in open(filename, 'r'):\n",
    "    data.append(json.loads(line))"
   ]
  },
  {
   "cell_type": "code",
   "execution_count": 4,
   "metadata": {
    "scrolled": true
   },
   "outputs": [
    {
     "data": {
      "text/plain": [
       "75092"
      ]
     },
     "execution_count": 4,
     "metadata": {},
     "output_type": "execute_result"
    }
   ],
   "source": [
    "# total number of rows\n",
    "len(data)"
   ]
  },
  {
   "cell_type": "markdown",
   "metadata": {},
   "source": [
    "hash: change from browser and cookie id to protect user privacy, randomnized id, can be used to conduct unbiased experiments/tran test split"
   ]
  },
  {
   "cell_type": "code",
   "execution_count": 5,
   "metadata": {},
   "outputs": [],
   "source": [
    "# here I define my pandas Dataframe with the columns I want to get from the text\n",
    "# If any of the following features are out of your interest\n",
    "# simple just remove the array creation here, and the value assignment in the following cell.\n",
    "nocache = []\n",
    "dist_id = []\n",
    "event = []\n",
    "\n",
    "browser = []\n",
    "browser_v = []\n",
    "ip = []\n",
    "is_fd = []\n",
    "is_ft = []\n",
    "latest_r = []\n",
    "latest_rh = []\n",
    "latest_ch = []\n",
    "latest_utm_campaign = []\n",
    "latest_utm_content = []\n",
    "latest_utm_m = []\n",
    "latest_utm_s = []\n",
    "latest_utm_t = []\n",
    "model = []\n",
    "os = []\n",
    "os_version = []\n",
    "screen_h = []\n",
    "screen_w = []\n",
    "session_r = []\n",
    "session_rh = []\n",
    "time = []\n",
    "day = []\n",
    "\n",
    "pageP = []\n",
    "pageS = []\n",
    "pageUrl = []\n",
    "session_p = []\n",
    "name = []\n",
    "requestBtn = []\n",
    "isSuccess = []\n",
    "isMsg = []\n",
    "page = []\n",
    "site_url = []\n",
    "from_url = []\n",
    "referrerUrl = []\n",
    "referrHostUrl = []\n",
    "siteUrl = []\n",
    "url_path = []\n",
    "url = []\n",
    "title = []\n",
    "result = []\n",
    "referrer = []\n",
    "refer_Host = []\n",
    "title = []\n",
    "ch = []\n",
    "tp = []"
   ]
  },
  {
   "cell_type": "code",
   "execution_count": 6,
   "metadata": {},
   "outputs": [],
   "source": [
    "#define NA and use get to assign NA when the key value not found \n",
    "na = None\n",
    "\n",
    "for i in range(len(data)):\n",
    "    tp.append(data[i].get('type',na))\n",
    "    nocache.append(data[i].get('_nocache',na)) \n",
    "    dist_id.append(data[i]['distinct_id'])\n",
    "    event.append(data[i].get('event',na))\n",
    "    pageP.append(data[i]['properties'].get('pagePosition',na))\n",
    "    pageS.append(data[i]['properties'].get('pageStayTime',na))\n",
    "    pageUrl.append(data[i]['properties'].get('pageUrl',na))\n",
    "    session_p.append(data[i]['properties'].get('session_page_url',na))\n",
    "    latest_r.append(data[i]['properties'].get('$latest_referrer',na)) \n",
    "    latest_rh.append(data[i]['properties'].get('$latest_referrer_host',na))\n",
    "    latest_ch.append(data[i]['properties'].get('_latest_ch',na))\n",
    "    latest_utm_campaign.append(data[i]['properties'].get('$latest_utm_campaign',na))\n",
    "    latest_utm_content.append(data[i]['properties'].get('$latest_utm_content',na))\n",
    "    latest_utm_m.append(data[i]['properties'].get('$latest_utm_medium',na))\n",
    "    latest_utm_s.append(data[i]['properties'].get('$latest_utm_source',na))\n",
    "    latest_utm_t.append(data[i]['properties'].get('$latest_utm_term',na))\n",
    "    name.append(data[i]['properties'].get('name',na))\n",
    "    requestBtn.append(data[i]['properties'].get('requestBtn',na))\n",
    "    isSuccess.append(data[i]['properties'].get('isSuccess',na))\n",
    "    isMsg.append(data[i]['properties'].get('isMsg',na))\n",
    "    page.append(data[i]['properties'].get('page',na))\n",
    "    site_url.append(data[i]['properties'].get('site_url',na))\n",
    "    from_url.append(data[i]['properties'].get('from_url',na))\n",
    "    referrerUrl.append(data[i]['properties'].get('referrerUrl',na))\n",
    "    referrHostUrl.append(data[i]['properties'].get('referrHostUrl',na))\n",
    "    siteUrl.append(data[i]['properties'].get('siteUrl',na))\n",
    "    url_path.append(data[i]['properties'].get('$url_path',na))\n",
    "    url.append(data[i]['properties'].get('$url',na))\n",
    "    result.append(data[i]['properties'].get('result',na))\n",
    "    referrer.append(data[i]['properties'].get('$referrer',na))\n",
    "    refer_Host.append(data[i]['properties'].get('$referrer_host',na))\n",
    "    title.append(data[i]['properties'].get('$title',na))\n",
    "    ch.append(data[i]['properties'].get('$referrer_host',na))        \n",
    "    browser.append(data[i]['properties'].get('$browser',na)) \n",
    "    browser_v.append(data[i]['properties'].get('$browser_version',na)) \n",
    "    ip.append(data[i]['properties'].get('$ip',na)) \n",
    "    is_fd.append(data[i]['properties'].get('$is_first_day',na)) \n",
    "    is_ft.append(data[i]['properties'].get('$is_first_time',na))      \n",
    "    model.append(data[i]['properties'].get('$model',na))\n",
    "    os.append(data[i]['properties'].get('$os',na))\n",
    "    os_version.append(data[i]['properties'].get('$os_version',na))\n",
    "    screen_h.append(data[i]['properties'].get('$screen_height',na))\n",
    "    screen_w.append(data[i]['properties'].get('$screen_width',na))\n",
    "    session_r.append(data[i]['properties'].get('_session_referrer',na))\n",
    "    session_rh.append(data[i]['properties'].get('_session_referrer_host',na))\n",
    "    time.append(data[i]['time'])\n",
    "    day.append(to_date(data[i]['time']))"
   ]
  },
  {
   "cell_type": "code",
   "execution_count": 7,
   "metadata": {},
   "outputs": [],
   "source": [
    "#generate pandas dataframe\n",
    "df = pd.DataFrame({'nocache':nocache, \n",
    "    'dist_id': dist_id,\n",
    "    'event':event,\n",
    "    'browser':browser,\n",
    "    'browser_v':browser_v,\n",
    "    'ip':ip,\n",
    "    'is_fd':is_fd,\n",
    "    'is_ft':is_ft,\n",
    "    'latest_r':latest_r,\n",
    "    'latest_rh':latest_rh,\n",
    "    'latest_ch':latest_ch,\n",
    "    'latest_utm_campaign':latest_utm_campaign,\n",
    "    'latest_utm_content':latest_utm_content,\n",
    "    'latest_utm_m':latest_utm_m,\n",
    "    'latest_utm_s':latest_utm_s,\n",
    "    'latest_utm_t':latest_utm_t,\n",
    "    'model':model,\n",
    "    'os':os,\n",
    "    'os_version':os_version,\n",
    "    'screen_h':screen_h,\n",
    "    'screen_w':screen_w,\n",
    "    'screen_r':session_r,\n",
    "    'screen_rh':session_rh,\n",
    "    'time':time,\n",
    "    'pageP':pageP,\n",
    "    'pageS':pageS,\n",
    "    'pageUrl':pageUrl,\n",
    "    'session_p':session_p,\n",
    "    'name':name,\n",
    "    'requestBtn':requestBtn,\n",
    "    'isSuccess':isSuccess,\n",
    "    'isMsg':isMsg,\n",
    "    'page':page,\n",
    "    'site_url':site_url,\n",
    "    'from_url':from_url,\n",
    "    'referrerUrl':referrerUrl,\n",
    "    'referrHostUrl':referrHostUrl,\n",
    "    'siteUrl':siteUrl,\n",
    "    'url_path':url_path,\n",
    "    'url':url,\n",
    "    'title':title,\n",
    "    'result':result,\n",
    "    'referrer':referrer,\n",
    "    'refer_Host':refer_Host,\n",
    "    'ch':ch,\n",
    "    'tp':tp,\n",
    "    'day':day})"
   ]
  },
  {
   "cell_type": "code",
   "execution_count": 8,
   "metadata": {},
   "outputs": [
    {
     "data": {
      "text/html": [
       "<div>\n",
       "<style scoped>\n",
       "    .dataframe tbody tr th:only-of-type {\n",
       "        vertical-align: middle;\n",
       "    }\n",
       "\n",
       "    .dataframe tbody tr th {\n",
       "        vertical-align: top;\n",
       "    }\n",
       "\n",
       "    .dataframe thead th {\n",
       "        text-align: right;\n",
       "    }\n",
       "</style>\n",
       "<table border=\"1\" class=\"dataframe\">\n",
       "  <thead>\n",
       "    <tr style=\"text-align: right;\">\n",
       "      <th></th>\n",
       "      <th>browser</th>\n",
       "      <th>browser_v</th>\n",
       "      <th>ch</th>\n",
       "      <th>day</th>\n",
       "      <th>dist_id</th>\n",
       "      <th>event</th>\n",
       "      <th>from_url</th>\n",
       "      <th>ip</th>\n",
       "      <th>isMsg</th>\n",
       "      <th>isSuccess</th>\n",
       "      <th>...</th>\n",
       "      <th>screen_rh</th>\n",
       "      <th>screen_w</th>\n",
       "      <th>session_p</th>\n",
       "      <th>siteUrl</th>\n",
       "      <th>site_url</th>\n",
       "      <th>time</th>\n",
       "      <th>title</th>\n",
       "      <th>tp</th>\n",
       "      <th>url</th>\n",
       "      <th>url_path</th>\n",
       "    </tr>\n",
       "  </thead>\n",
       "  <tbody>\n",
       "    <tr>\n",
       "      <th>0</th>\n",
       "      <td>chrome</td>\n",
       "      <td>56</td>\n",
       "      <td>None</td>\n",
       "      <td>2017-03-06</td>\n",
       "      <td>595466e9a8e733434ce08de16e927d985e0b5d48</td>\n",
       "      <td>index_leave</td>\n",
       "      <td>None</td>\n",
       "      <td>219.135.131.99</td>\n",
       "      <td>None</td>\n",
       "      <td>None</td>\n",
       "      <td>...</td>\n",
       "      <td>www.baidu.com</td>\n",
       "      <td>1280.0</td>\n",
       "      <td>https://www.sensorsdata.cn/?utm_source=baidu&amp;u...</td>\n",
       "      <td>None</td>\n",
       "      <td>None</td>\n",
       "      <td>1488791047953</td>\n",
       "      <td>None</td>\n",
       "      <td>track</td>\n",
       "      <td>None</td>\n",
       "      <td>None</td>\n",
       "    </tr>\n",
       "    <tr>\n",
       "      <th>1</th>\n",
       "      <td>None</td>\n",
       "      <td>None</td>\n",
       "      <td>None</td>\n",
       "      <td>2017-03-31</td>\n",
       "      <td>9939d3e087bca29c42334d96dccd25ca0e06652a</td>\n",
       "      <td>None</td>\n",
       "      <td>None</td>\n",
       "      <td>None</td>\n",
       "      <td>None</td>\n",
       "      <td>None</td>\n",
       "      <td>...</td>\n",
       "      <td>None</td>\n",
       "      <td>NaN</td>\n",
       "      <td>None</td>\n",
       "      <td>None</td>\n",
       "      <td>None</td>\n",
       "      <td>1490958296645</td>\n",
       "      <td>None</td>\n",
       "      <td>profile_set_once</td>\n",
       "      <td>None</td>\n",
       "      <td>None</td>\n",
       "    </tr>\n",
       "    <tr>\n",
       "      <th>2</th>\n",
       "      <td>chrome</td>\n",
       "      <td>56</td>\n",
       "      <td></td>\n",
       "      <td>2017-03-06</td>\n",
       "      <td>9939d3e087bca29c42334d96dccd25ca0e06652a</td>\n",
       "      <td>$pageview</td>\n",
       "      <td>None</td>\n",
       "      <td>111.204.198.242</td>\n",
       "      <td>None</td>\n",
       "      <td>None</td>\n",
       "      <td>...</td>\n",
       "      <td></td>\n",
       "      <td>1366.0</td>\n",
       "      <td>https://sensorsdata.cn/?ch=demo</td>\n",
       "      <td>None</td>\n",
       "      <td>None</td>\n",
       "      <td>1488791050856</td>\n",
       "      <td>神策数据 | Sensors Data - 国内领先的用户行为分析产品</td>\n",
       "      <td>track</td>\n",
       "      <td>https://sensorsdata.cn/?ch=demo</td>\n",
       "      <td>/</td>\n",
       "    </tr>\n",
       "    <tr>\n",
       "      <th>3</th>\n",
       "      <td>chrome</td>\n",
       "      <td>56</td>\n",
       "      <td>None</td>\n",
       "      <td>2017-03-06</td>\n",
       "      <td>9939d3e087bca29c42334d96dccd25ca0e06652a</td>\n",
       "      <td>btnClick</td>\n",
       "      <td>None</td>\n",
       "      <td>111.204.198.242</td>\n",
       "      <td>None</td>\n",
       "      <td>None</td>\n",
       "      <td>...</td>\n",
       "      <td></td>\n",
       "      <td>1366.0</td>\n",
       "      <td>https://sensorsdata.cn/?ch=demo</td>\n",
       "      <td>None</td>\n",
       "      <td>None</td>\n",
       "      <td>1488791051772</td>\n",
       "      <td>None</td>\n",
       "      <td>track</td>\n",
       "      <td>None</td>\n",
       "      <td>None</td>\n",
       "    </tr>\n",
       "    <tr>\n",
       "      <th>4</th>\n",
       "      <td>chrome</td>\n",
       "      <td>56</td>\n",
       "      <td>None</td>\n",
       "      <td>2017-03-06</td>\n",
       "      <td>9939d3e087bca29c42334d96dccd25ca0e06652a</td>\n",
       "      <td>btnClick</td>\n",
       "      <td>None</td>\n",
       "      <td>111.204.198.242</td>\n",
       "      <td>None</td>\n",
       "      <td>None</td>\n",
       "      <td>...</td>\n",
       "      <td></td>\n",
       "      <td>1366.0</td>\n",
       "      <td>https://sensorsdata.cn/?ch=demo</td>\n",
       "      <td>None</td>\n",
       "      <td>None</td>\n",
       "      <td>1488791056032</td>\n",
       "      <td>None</td>\n",
       "      <td>track</td>\n",
       "      <td>None</td>\n",
       "      <td>None</td>\n",
       "    </tr>\n",
       "  </tbody>\n",
       "</table>\n",
       "<p>5 rows × 47 columns</p>\n",
       "</div>"
      ],
      "text/plain": [
       "  browser browser_v    ch         day  \\\n",
       "0  chrome        56  None  2017-03-06   \n",
       "1    None      None  None  2017-03-31   \n",
       "2  chrome        56        2017-03-06   \n",
       "3  chrome        56  None  2017-03-06   \n",
       "4  chrome        56  None  2017-03-06   \n",
       "\n",
       "                                    dist_id        event from_url  \\\n",
       "0  595466e9a8e733434ce08de16e927d985e0b5d48  index_leave     None   \n",
       "1  9939d3e087bca29c42334d96dccd25ca0e06652a         None     None   \n",
       "2  9939d3e087bca29c42334d96dccd25ca0e06652a    $pageview     None   \n",
       "3  9939d3e087bca29c42334d96dccd25ca0e06652a     btnClick     None   \n",
       "4  9939d3e087bca29c42334d96dccd25ca0e06652a     btnClick     None   \n",
       "\n",
       "                ip isMsg isSuccess   ...         screen_rh screen_w  \\\n",
       "0   219.135.131.99  None      None   ...     www.baidu.com   1280.0   \n",
       "1             None  None      None   ...              None      NaN   \n",
       "2  111.204.198.242  None      None   ...                     1366.0   \n",
       "3  111.204.198.242  None      None   ...                     1366.0   \n",
       "4  111.204.198.242  None      None   ...                     1366.0   \n",
       "\n",
       "                                           session_p siteUrl site_url  \\\n",
       "0  https://www.sensorsdata.cn/?utm_source=baidu&u...    None     None   \n",
       "1                                               None    None     None   \n",
       "2                    https://sensorsdata.cn/?ch=demo    None     None   \n",
       "3                    https://sensorsdata.cn/?ch=demo    None     None   \n",
       "4                    https://sensorsdata.cn/?ch=demo    None     None   \n",
       "\n",
       "            time                                title                tp  \\\n",
       "0  1488791047953                                 None             track   \n",
       "1  1490958296645                                 None  profile_set_once   \n",
       "2  1488791050856  神策数据 | Sensors Data - 国内领先的用户行为分析产品             track   \n",
       "3  1488791051772                                 None             track   \n",
       "4  1488791056032                                 None             track   \n",
       "\n",
       "                               url url_path  \n",
       "0                             None     None  \n",
       "1                             None     None  \n",
       "2  https://sensorsdata.cn/?ch=demo        /  \n",
       "3                             None     None  \n",
       "4                             None     None  \n",
       "\n",
       "[5 rows x 47 columns]"
      ]
     },
     "execution_count": 8,
     "metadata": {},
     "output_type": "execute_result"
    }
   ],
   "source": [
    "df.head()"
   ]
  },
  {
   "cell_type": "code",
   "execution_count": 9,
   "metadata": {},
   "outputs": [],
   "source": [
    "# Create Pandas DataFrame filters based on different events\n",
    "df_ileave = df.loc[df.event == 'index_leave']\n",
    "df_btnclick = df.loc[df.event == 'btnClick']\n",
    "df_aleave = df.loc[df.event == 'about_leave']\n",
    "df_form = df.loc[df.event == 'formSubmit']\n",
    "df_submit = df.loc[df.event == 'clickSubmit']\n",
    "df_cleave = df.loc[df.event == 'courses_leave']\n",
    "df_dleave = df.loc[df.event == 'demo_leave']\n",
    "df_playleave = df.loc[df.event == 'courses_play_leave']\n",
    "df_close = df.loc[df.event == 'page_close']\n",
    "df_view = df.loc[df.event == '$pageview']\n",
    "df_send = df.loc[df.event == 'click_send_cellphone']\n",
    "df_verify = df.loc[df.event == 'verify_cellphone_code']"
   ]
  },
  {
   "cell_type": "code",
   "execution_count": 10,
   "metadata": {},
   "outputs": [],
   "source": [
    "# save DataFrame to csv file\n",
    "ileave = 'data/index_leave.csv'\n",
    "df_ileave.to_csv(ileave, index=False)\n",
    "btnclick = 'data/btnClick.csv'\n",
    "df_btnclick.to_csv(btnclick, index=False)\n",
    "aleave = 'data/about_leave.csv'\n",
    "df_aleave.to_csv(aleave, index=False)\n",
    "form = 'data/formSubmit.csv'\n",
    "df_form.to_csv(form, index=False)\n",
    "submit = 'data/clickSubmit.csv'\n",
    "df_submit.to_csv(submit, index=False)\n",
    "cleave = 'data/courses_leave.csv'\n",
    "df_cleave.to_csv(cleave, index=False)\n",
    "dleave = 'data/demo_leave.csv'\n",
    "df_dleave.to_csv(dleave, index=False)\n",
    "playleave = 'data/courses_play_leave.csv'\n",
    "df_playleave.to_csv(playleave, index=False)\n",
    "close = 'data/page_close.csv'\n",
    "df_close.to_csv(close, index=False)\n",
    "view = 'data/pageview.csv'\n",
    "df_view.to_csv(view, index=False)\n",
    "send = 'data/click_send_cellphone.csv'\n",
    "df_send.to_csv(send, index=False)\n",
    "verify = 'data/verify_cellphone_code.csv'\n",
    "df_verify.to_csv(verify, index=False)"
   ]
  },
  {
   "cell_type": "code",
   "execution_count": 11,
   "metadata": {},
   "outputs": [],
   "source": [
    "# Export the selected features for future quick reference\n",
    "data_all = 'data/data_all.csv'\n",
    "df.to_csv(data_all, index=False)"
   ]
  },
  {
   "cell_type": "code",
   "execution_count": 12,
   "metadata": {},
   "outputs": [
    {
     "data": {
      "text/plain": [
       "track               65673\n",
       "profile_set_once     9419\n",
       "Name: tp, dtype: int64"
      ]
     },
     "execution_count": 12,
     "metadata": {},
     "output_type": "execute_result"
    }
   ],
   "source": [
    "df['tp'].value_counts()"
   ]
  },
  {
   "cell_type": "markdown",
   "metadata": {},
   "source": [
    "track: keep track of an event, as shown in events below\n",
    "profile set once: used for first time activate, register, ignored when profile already exist"
   ]
  },
  {
   "cell_type": "code",
   "execution_count": 13,
   "metadata": {},
   "outputs": [
    {
     "data": {
      "text/plain": [
       "$pageview                32620\n",
       "btnClick                 13866\n",
       "index_leave              10394\n",
       "demo_leave                3411\n",
       "about_leave               1032\n",
       "courses_leave              906\n",
       "formSubmit                 791\n",
       "courses_play_leave         747\n",
       "click_send_cellphone       600\n",
       "verify_cellphone_code      563\n",
       "clickSubmit                513\n",
       "page_close                 230\n",
       "Name: event, dtype: int64"
      ]
     },
     "execution_count": 13,
     "metadata": {},
     "output_type": "execute_result"
    }
   ],
   "source": [
    "df['event'].value_counts()"
   ]
  },
  {
   "cell_type": "markdown",
   "metadata": {},
   "source": [
    "- possible user behavior analysis: pageview, btnClick\n",
    "- funnel analysis: page view > formSubmit(791) > click_send_cellphone(600) > verify_cellphone_code(563) > clickSubmit(513)"
   ]
  },
  {
   "cell_type": "code",
   "execution_count": 14,
   "metadata": {},
   "outputs": [
    {
     "data": {
      "text/plain": [
       "count                                        75092\n",
       "unique                                       11756\n",
       "top       835cc4405ee7e42e5b401a25e65b4830b02af7d3\n",
       "freq                                           254\n",
       "Name: dist_id, dtype: object"
      ]
     },
     "execution_count": 14,
     "metadata": {},
     "output_type": "execute_result"
    }
   ],
   "source": [
    "df['dist_id'].describe()"
   ]
  },
  {
   "cell_type": "code",
   "execution_count": 15,
   "metadata": {},
   "outputs": [
    {
     "data": {
      "text/plain": [
       "count             75092\n",
       "unique            75065\n",
       "top       7104818490333\n",
       "freq                  7\n",
       "Name: nocache, dtype: object"
      ]
     },
     "execution_count": 15,
     "metadata": {},
     "output_type": "execute_result"
    }
   ],
   "source": [
    "df['nocache'].describe()"
   ]
  },
  {
   "cell_type": "code",
   "execution_count": 16,
   "metadata": {},
   "outputs": [
    {
     "data": {
      "text/plain": [
       "count               65673\n",
       "unique               9870\n",
       "top       113.208.116.250\n",
       "freq                 1399\n",
       "Name: ip, dtype: object"
      ]
     },
     "execution_count": 16,
     "metadata": {},
     "output_type": "execute_result"
    }
   ],
   "source": [
    "df['ip'].describe()"
   ]
  },
  {
   "cell_type": "markdown",
   "metadata": {},
   "source": [
    "Above are some sample looks at some selected features. Always to be sure to check the highlevel summary of a list of data of a feature before diving into deeper selection of identifier and or EDA."
   ]
  },
  {
   "cell_type": "markdown",
   "metadata": {},
   "source": [
    "##  Choice of identifier\n",
    "- distinct_id, hash: change from browser and cookie id to protect user privacy; 11756 distinct values\n",
    "- nocache: might be simplified identifier. The number of distinct nocache is 75065. The frequency is too low. \n",
    "- ip: 9870 distinct values, each ip address can have multiple users\n",
    "- distinct_id is a better identifier，it is random，and can be used for unbiased experiments/tran test split"
   ]
  },
  {
   "cell_type": "code",
   "execution_count": 17,
   "metadata": {},
   "outputs": [],
   "source": [
    "import matplotlib.pyplot as plt\n",
    "% matplotlib inline"
   ]
  },
  {
   "cell_type": "code",
   "execution_count": 18,
   "metadata": {},
   "outputs": [
    {
     "data": {
      "text/plain": [
       "count          75092\n",
       "unique            10\n",
       "top       2017-03-09\n",
       "freq           10304\n",
       "Name: day, dtype: object"
      ]
     },
     "execution_count": 18,
     "metadata": {},
     "output_type": "execute_result"
    }
   ],
   "source": [
    "df['day'].describe()"
   ]
  },
  {
   "cell_type": "code",
   "execution_count": 19,
   "metadata": {},
   "outputs": [
    {
     "data": {
      "text/plain": [
       "<matplotlib.axes._subplots.AxesSubplot at 0x122b067b8>"
      ]
     },
     "execution_count": 19,
     "metadata": {},
     "output_type": "execute_result"
    },
    {
     "data": {
      "image/png": "[encoded data removed]",
      "text/plain": [
       "<Figure size 432x288 with 1 Axes>"
      ]
     },
     "metadata": {},
     "output_type": "display_data"
    }
   ],
   "source": [
    "df[\"day\"] = df[\"day\"].astype(\"datetime64\")\n",
    "df[\"day\"].groupby(df[\"day\"].dt.day).count().plot(kind=\"bar\")"
   ]
  },
  {
   "cell_type": "markdown",
   "metadata": {},
   "source": [
    "2017 March, 11th and 12th are weekends, have the least number of counts"
   ]
  },
  {
   "cell_type": "code",
   "execution_count": 20,
   "metadata": {
    "scrolled": true
   },
   "outputs": [
    {
     "data": {
      "text/plain": [
       "<matplotlib.axes._subplots.AxesSubplot at 0x12f9517f0>"
      ]
     },
     "execution_count": 20,
     "metadata": {},
     "output_type": "execute_result"
    },
    {
     "data": {
      "image/png": "[encoded data removed]",
      "text/plain": [
       "<Figure size 432x288 with 1 Axes>"
      ]
     },
     "metadata": {},
     "output_type": "display_data"
    }
   ],
   "source": [
    "df[\"day\"].groupby(df[\"day\"].dt.month).count().plot(kind=\"bar\")"
   ]
  },
  {
   "cell_type": "markdown",
   "metadata": {},
   "source": [
    "- All the data collected on March 2017, and only distribute in 6th-14th and 31st\n",
    "- 31st is a wrong data, should be eliminated from the dataset"
   ]
  },
  {
   "cell_type": "code",
   "execution_count": 21,
   "metadata": {},
   "outputs": [],
   "source": [
    "df = df[df.day != \"2017-03-31\"]"
   ]
  },
  {
   "cell_type": "markdown",
   "metadata": {},
   "source": [
    "Check missing data and propose possible missing data imputation"
   ]
  },
  {
   "cell_type": "code",
   "execution_count": 22,
   "metadata": {},
   "outputs": [
    {
     "name": "stdout",
     "output_type": "stream",
     "text": [
      "<class 'pandas.core.frame.DataFrame'>\n",
      "Int64Index: 65673 entries, 0 to 75090\n",
      "Data columns (total 47 columns):\n",
      "browser                65673 non-null object\n",
      "browser_v              65673 non-null object\n",
      "ch                     32335 non-null object\n",
      "day                    65673 non-null datetime64[ns]\n",
      "dist_id                65673 non-null object\n",
      "event                  65673 non-null object\n",
      "from_url               982 non-null object\n",
      "ip                     65673 non-null object\n",
      "isMsg                  469 non-null object\n",
      "isSuccess              791 non-null object\n",
      "is_fd                  65673 non-null object\n",
      "is_ft                  65673 non-null object\n",
      "latest_ch              8537 non-null object\n",
      "latest_r               64862 non-null object\n",
      "latest_rh              64862 non-null object\n",
      "latest_utm_campaign    39903 non-null object\n",
      "latest_utm_content     38763 non-null object\n",
      "latest_utm_m           39691 non-null object\n",
      "latest_utm_s           40583 non-null object\n",
      "latest_utm_t           39095 non-null object\n",
      "model                  65673 non-null object\n",
      "name                   15170 non-null object\n",
      "nocache                65673 non-null object\n",
      "os                     65673 non-null object\n",
      "os_version             65673 non-null object\n",
      "page                   11716 non-null object\n",
      "pageP                  16490 non-null float64\n",
      "pageS                  16720 non-null float64\n",
      "pageUrl                30356 non-null object\n",
      "refer_Host             32335 non-null object\n",
      "referrHostUrl          469 non-null object\n",
      "referrer               32334 non-null object\n",
      "referrerUrl            469 non-null object\n",
      "requestBtn             4271 non-null object\n",
      "result                 1163 non-null object\n",
      "screen_h               65673 non-null float64\n",
      "screen_r               63046 non-null object\n",
      "screen_rh              63039 non-null object\n",
      "screen_w               65673 non-null float64\n",
      "session_p              62766 non-null object\n",
      "siteUrl                469 non-null object\n",
      "site_url               982 non-null object\n",
      "time                   65673 non-null int64\n",
      "title                  32620 non-null object\n",
      "tp                     65673 non-null object\n",
      "url                    32598 non-null object\n",
      "url_path               32620 non-null object\n",
      "dtypes: datetime64[ns](1), float64(4), int64(1), object(41)\n",
      "memory usage: 24.1+ MB\n"
     ]
    }
   ],
   "source": [
    "df.info()"
   ]
  },
  {
   "cell_type": "code",
   "execution_count": 23,
   "metadata": {},
   "outputs": [
    {
     "data": {
      "text/plain": [
       "browser                    0\n",
       "browser_v                  0\n",
       "ch                     33338\n",
       "day                        0\n",
       "dist_id                    0\n",
       "event                      0\n",
       "from_url               64691\n",
       "ip                         0\n",
       "isMsg                  65204\n",
       "isSuccess              64882\n",
       "is_fd                      0\n",
       "is_ft                      0\n",
       "latest_ch              57136\n",
       "latest_r                 811\n",
       "latest_rh                811\n",
       "latest_utm_campaign    25770\n",
       "latest_utm_content     26910\n",
       "latest_utm_m           25982\n",
       "latest_utm_s           25090\n",
       "latest_utm_t           26578\n",
       "model                      0\n",
       "name                   50503\n",
       "nocache                    0\n",
       "os                         0\n",
       "os_version                 0\n",
       "page                   53957\n",
       "pageP                  49183\n",
       "pageS                  48953\n",
       "pageUrl                35317\n",
       "refer_Host             33338\n",
       "referrHostUrl          65204\n",
       "referrer               33339\n",
       "referrerUrl            65204\n",
       "requestBtn             61402\n",
       "result                 64510\n",
       "screen_h                   0\n",
       "screen_r                2627\n",
       "screen_rh               2634\n",
       "screen_w                   0\n",
       "session_p               2907\n",
       "siteUrl                65204\n",
       "site_url               64691\n",
       "time                       0\n",
       "title                  33053\n",
       "tp                         0\n",
       "url                    33075\n",
       "url_path               33053\n",
       "dtype: int64"
      ]
     },
     "execution_count": 23,
     "metadata": {},
     "output_type": "execute_result"
    }
   ],
   "source": [
    "df.isnull().sum()"
   ]
  },
  {
   "cell_type": "markdown",
   "metadata": {},
   "source": [
    "The rows with \"profile_set_once\" were exactly the mistake 31st dates that were deleted (9419 rows)\n",
    "Features that have null value only at \"profile_set_once\" type: \n",
    "browser, browser_v, event, ip, is_fd, is_ft, model, os, os_version, screen_h, screen_w\n",
    "if we consider event, all these features including time, dist_id might be useful"
   ]
  },
  {
   "cell_type": "markdown",
   "metadata": {},
   "source": [
    "### Conversion Rate (the percentage of users who take a desired action) Analyses"
   ]
  },
  {
   "cell_type": "code",
   "execution_count": 24,
   "metadata": {},
   "outputs": [
    {
     "data": {
      "text/plain": [
       "$pageview                32620\n",
       "btnClick                 13866\n",
       "index_leave              10394\n",
       "demo_leave                3411\n",
       "about_leave               1032\n",
       "courses_leave              906\n",
       "formSubmit                 791\n",
       "courses_play_leave         747\n",
       "click_send_cellphone       600\n",
       "verify_cellphone_code      563\n",
       "clickSubmit                513\n",
       "page_close                 230\n",
       "Name: event, dtype: int64"
      ]
     },
     "execution_count": 24,
     "metadata": {},
     "output_type": "execute_result"
    }
   ],
   "source": [
    "df['event'].value_counts()"
   ]
  },
  {
   "cell_type": "code",
   "execution_count": 25,
   "metadata": {},
   "outputs": [
    {
     "data": {
      "text/plain": [
       "11708"
      ]
     },
     "execution_count": 25,
     "metadata": {},
     "output_type": "execute_result"
    }
   ],
   "source": [
    "nall = df.dist_id.nunique()\n",
    "nall"
   ]
  },
  {
   "cell_type": "code",
   "execution_count": 26,
   "metadata": {},
   "outputs": [
    {
     "data": {
      "text/plain": [
       "11587"
      ]
     },
     "execution_count": 26,
     "metadata": {},
     "output_type": "execute_result"
    }
   ],
   "source": [
    "nview = df_view.dist_id.nunique()\n",
    "nview"
   ]
  },
  {
   "cell_type": "code",
   "execution_count": 27,
   "metadata": {},
   "outputs": [
    {
     "data": {
      "text/plain": [
       "6946"
      ]
     },
     "execution_count": 27,
     "metadata": {},
     "output_type": "execute_result"
    }
   ],
   "source": [
    "nileave = df_ileave.dist_id.nunique()\n",
    "nileave"
   ]
  },
  {
   "cell_type": "code",
   "execution_count": 28,
   "metadata": {},
   "outputs": [
    {
     "data": {
      "text/plain": [
       "4501"
      ]
     },
     "execution_count": 28,
     "metadata": {},
     "output_type": "execute_result"
    }
   ],
   "source": [
    "nclick = df_btnclick.dist_id.nunique()\n",
    "nclick"
   ]
  },
  {
   "cell_type": "code",
   "execution_count": 29,
   "metadata": {},
   "outputs": [
    {
     "data": {
      "text/plain": [
       "1436"
      ]
     },
     "execution_count": 29,
     "metadata": {},
     "output_type": "execute_result"
    }
   ],
   "source": [
    "ndleave = df_dleave.dist_id.nunique()\n",
    "ndleave"
   ]
  },
  {
   "cell_type": "code",
   "execution_count": 30,
   "metadata": {},
   "outputs": [
    {
     "data": {
      "text/plain": [
       "712"
      ]
     },
     "execution_count": 30,
     "metadata": {},
     "output_type": "execute_result"
    }
   ],
   "source": [
    "naleave = df_aleave.dist_id.nunique()\n",
    "naleave"
   ]
  },
  {
   "cell_type": "code",
   "execution_count": 31,
   "metadata": {},
   "outputs": [
    {
     "data": {
      "text/plain": [
       "692"
      ]
     },
     "execution_count": 31,
     "metadata": {},
     "output_type": "execute_result"
    }
   ],
   "source": [
    "ncleave = df_cleave.dist_id.nunique()\n",
    "ncleave"
   ]
  },
  {
   "cell_type": "code",
   "execution_count": 32,
   "metadata": {},
   "outputs": [
    {
     "data": {
      "text/plain": [
       "370"
      ]
     },
     "execution_count": 32,
     "metadata": {},
     "output_type": "execute_result"
    }
   ],
   "source": [
    "npleave = df_playleave.dist_id.nunique()\n",
    "npleave"
   ]
  },
  {
   "cell_type": "code",
   "execution_count": 33,
   "metadata": {},
   "outputs": [
    {
     "data": {
      "text/plain": [
       "501"
      ]
     },
     "execution_count": 33,
     "metadata": {},
     "output_type": "execute_result"
    }
   ],
   "source": [
    "nsend = df_send.dist_id.nunique()\n",
    "nsend"
   ]
  },
  {
   "cell_type": "code",
   "execution_count": 34,
   "metadata": {},
   "outputs": [
    {
     "data": {
      "text/plain": [
       "472"
      ]
     },
     "execution_count": 34,
     "metadata": {},
     "output_type": "execute_result"
    }
   ],
   "source": [
    "nverify = df_verify.dist_id.nunique()\n",
    "nverify"
   ]
  },
  {
   "cell_type": "code",
   "execution_count": 35,
   "metadata": {},
   "outputs": [
    {
     "data": {
      "text/plain": [
       "count     563\n",
       "unique      3\n",
       "top        正确\n",
       "freq      528\n",
       "Name: result, dtype: object"
      ]
     },
     "execution_count": 35,
     "metadata": {},
     "output_type": "execute_result"
    }
   ],
   "source": [
    "df_verify['result'].describe()"
   ]
  },
  {
   "cell_type": "code",
   "execution_count": 36,
   "metadata": {},
   "outputs": [
    {
     "data": {
      "text/plain": [
       "471"
      ]
     },
     "execution_count": 36,
     "metadata": {},
     "output_type": "execute_result"
    }
   ],
   "source": [
    "df_verify[df_verify['result']=='正确'].dist_id.nunique()"
   ]
  },
  {
   "cell_type": "markdown",
   "metadata": {},
   "source": [
    "Only one user from 472 users has wrong verification code, and never has correct verification code"
   ]
  },
  {
   "cell_type": "code",
   "execution_count": 37,
   "metadata": {},
   "outputs": [
    {
     "data": {
      "text/plain": [
       "497"
      ]
     },
     "execution_count": 37,
     "metadata": {},
     "output_type": "execute_result"
    }
   ],
   "source": [
    "nform = df_form.dist_id.nunique()\n",
    "nform"
   ]
  },
  {
   "cell_type": "code",
   "execution_count": 38,
   "metadata": {},
   "outputs": [
    {
     "data": {
      "text/plain": [
       "461"
      ]
     },
     "execution_count": 38,
     "metadata": {},
     "output_type": "execute_result"
    }
   ],
   "source": [
    "nsubmit = df_submit.dist_id.nunique()\n",
    "nsubmit"
   ]
  },
  {
   "cell_type": "code",
   "execution_count": 39,
   "metadata": {},
   "outputs": [
    {
     "data": {
      "text/plain": [
       "97"
      ]
     },
     "execution_count": 39,
     "metadata": {},
     "output_type": "execute_result"
    }
   ],
   "source": [
    "nclose = df_close.dist_id.nunique()\n",
    "nclose"
   ]
  },
  {
   "cell_type": "code",
   "execution_count": 40,
   "metadata": {},
   "outputs": [
    {
     "name": "stdout",
     "output_type": "stream",
     "text": [
      "conversation rate of click send cellphone:\n",
      "0.04279125384352579\n"
     ]
    }
   ],
   "source": [
    "print(\"conversation rate of click send cellphone:\")\n",
    "print(nsend/nall)"
   ]
  },
  {
   "cell_type": "code",
   "execution_count": 41,
   "metadata": {},
   "outputs": [
    {
     "name": "stdout",
     "output_type": "stream",
     "text": [
      "conversation rate of verify cellphone code:\n",
      "0.040314314998291766\n"
     ]
    }
   ],
   "source": [
    "print(\"conversation rate of verify cellphone code:\")\n",
    "print(nverify/nall)"
   ]
  },
  {
   "cell_type": "markdown",
   "metadata": {},
   "source": [
    "The conversation rate from verify cellphone code to form submit increase: it is not neccessary to send verification code for form submit"
   ]
  },
  {
   "cell_type": "code",
   "execution_count": 42,
   "metadata": {},
   "outputs": [
    {
     "name": "stdout",
     "output_type": "stream",
     "text": [
      "conversation rate of form submit:\n",
      "0.04244960710625213\n"
     ]
    }
   ],
   "source": [
    "print(\"conversation rate of form submit:\")\n",
    "print(nform/nall)"
   ]
  },
  {
   "cell_type": "code",
   "execution_count": 43,
   "metadata": {},
   "outputs": [
    {
     "name": "stdout",
     "output_type": "stream",
     "text": [
      "conversation rate of click submit:\n",
      "0.0393747864707892\n"
     ]
    }
   ],
   "source": [
    "print(\"conversation rate of click submit:\")\n",
    "print(nsubmit/nall)"
   ]
  },
  {
   "cell_type": "code",
   "execution_count": 44,
   "metadata": {},
   "outputs": [
    {
     "name": "stdout",
     "output_type": "stream",
     "text": [
      "conversation rate of demo leave:\n",
      "0.12265117868124359\n"
     ]
    }
   ],
   "source": [
    "print(\"conversation rate of demo leave:\")\n",
    "print(ndleave/nall)"
   ]
  },
  {
   "cell_type": "code",
   "execution_count": 45,
   "metadata": {},
   "outputs": [
    {
     "data": {
      "image/png": "[encoded data removed]",
      "text/plain": [
       "<Figure size 640x480 with 1 Axes>"
      ]
     },
     "metadata": {},
     "output_type": "display_data"
    }
   ],
   "source": [
    "import matplotlib.pyplot as plt; plt.rcdefaults()\n",
    "import numpy as np\n",
    "import matplotlib.pyplot as plt\n",
    " \n",
    "objects = ('close','play leave','click submit','verify code','form submit','send cellphone', 'course leave', \n",
    "           'about leave', 'demo leave', 'btn click', 'index leave','page view')\n",
    "y_pos = np.arange(len(objects))\n",
    "performance = [nclose/nall,npleave/nall,nsubmit/nall,nverify/nall,nform/nall,nsend/nall,ncleave/nall,\n",
    "               naleave/nall,ndleave/nall,nclick/nall,nileave/nall,nview/nall]\n",
    " \n",
    "plt.barh(y_pos, performance, align='center', alpha=0.5)\n",
    "plt.yticks(y_pos, objects)\n",
    "plt.xlabel('event')\n",
    "plt.title('Conversation Rate') \n",
    "plt.savefig('conversationrate.png',bbox_inches=\"tight\",dpi=500)\n",
    "plt.show()"
   ]
  },
  {
   "cell_type": "markdown",
   "metadata": {},
   "source": [
    "The key factors that bottleneck the conversion rate is sign up/send celpphone verification"
   ]
  },
  {
   "cell_type": "markdown",
   "metadata": {},
   "source": [
    "We can also look into why users view the page but never click"
   ]
  },
  {
   "cell_type": "code",
   "execution_count": 46,
   "metadata": {},
   "outputs": [],
   "source": [
    "#create a new data frame to check the user read page but do not click\n",
    "df_vtc = df_view[~df_view.dist_id.isin(df_btnclick.dist_id)]"
   ]
  },
  {
   "cell_type": "code",
   "execution_count": 47,
   "metadata": {},
   "outputs": [
    {
     "data": {
      "text/plain": [
       "count                                         9441\n",
       "unique                                        7088\n",
       "top       651397ce6ca369703bfa0f67342058c26cc1f4b9\n",
       "freq                                            32\n",
       "Name: dist_id, dtype: object"
      ]
     },
     "execution_count": 47,
     "metadata": {},
     "output_type": "execute_result"
    }
   ],
   "source": [
    "df_vtc['dist_id'].describe()"
   ]
  },
  {
   "cell_type": "markdown",
   "metadata": {},
   "source": [
    "Among the user viewd page but do not click: most user only view once and never click"
   ]
  },
  {
   "cell_type": "code",
   "execution_count": 48,
   "metadata": {},
   "outputs": [
    {
     "name": "stdout",
     "output_type": "stream",
     "text": [
      "神策数据 | Sensors Data - 国内领先的用户行为分析产品                                                                                                                                                                                                                                                                                                                                                                                                                                                                                     5633\n",
      "介绍 · Sensors Analytics 使用手册                                                                                                                                                                                                                                                                                                                                                                                                                                                                                              676\n",
      "神策分析|Sensors Analytics-帮你实现数据驱动－demo                                                                                                                                                                                                                                                                                                                                                                                                                                                                                     368\n",
      "神策分析|Sensors Analytics-帮你实现数据驱动－B轮融资发布会                                                                                                                                                                                                                                                                                                                                                                                                                                                                                  245\n",
      "神策分析|Sensors Analytics-帮你实现数据驱动-视频列表                                                                                                                                                                                                                                                                                                                                                                                                                                                                                     177\n",
      "神策分析|Sensors Analytics-帮你实现数据驱动－产品                                                                                                                                                                                                                                                                                                                                                                                                                                                                                       113\n",
      "数据模型 · Sensors Analytics 使用手册                                                                                                                                                                                                                                                                                                                                                                                                                                                                                            105\n",
      "JavaScript SDK · Sensors Analytics 使用手册                                                                                                                                                                                                                                                                                                                                                                                                                                                                                  104\n",
      "可视化埋点 · Sensors Analytics 使用手册                                                                                                                                                                                                                                                                                                                                                                                                                                                                                           103\n",
      "神策分析|Sensors Analytics-帮你实现数据驱动-网址构建工具                                                                                                                                                                                                                                                                                                                                                                                                                                                                                    97\n",
      "weixin://private/setresult/SCENE_FETCHQUEUE&eyJmdW5jIjoibG9nIiwicGFyYW1zIjp7Im1zZyI6Il9ydW5PbjNyZEFwaUxpc3QgOiBtZW51OnNoYXJlOnRpbWVsaW5lLG1lbnU6c2hhcmU6YXBwbWVzc2FnZSxvblZvaWNlUmVjb3JkRW5kLG9uVm9pY2VQbGF5QmVnaW4sb25Wb2ljZVBsYXlFbmQsb25Mb2NhbEltYWdlVXBsb2FkUHJvZ3Jlc3Msb25JbWFnZURvd25sb2FkUHJvZ3Jlc3Msb25Wb2ljZVVwbG9hZFByb2dyZXNzLG9uVm9pY2VEb3dubG9hZFByb2dyZXNzLG1lbnU6c2V0Zm9udCxtZW51OnNoYXJlOndlaWJvLG1lbnU6c2hhcmU6ZW1haWwsd3hkb3dubG9hZDpzdGF0ZV9jaGFuZ2UsaGRPbkRldmljZVN0YXRlQ2hhbmdlZCxhY3Rpdml0eTpz      93\n",
      "事件分析 · Sensors Analytics 使用手册                                                                                                                                                                                                                                                                                                                                                                                                                                                                                             89\n",
      "Android SDK · Sensors Analytics 使用手册                                                                                                                                                                                                                                                                                                                                                                                                                                                                                      84\n",
      "惠州网站建设|惠州网站设计|惠州网站制作|网站设计-微斯诺科技                                                                                                                                                                                                                                                                                                                                                                                                                                                                                           81\n",
      "数据接入 · Sensors Analytics 使用手册                                                                                                                                                                                                                                                                                                                                                                                                                                                                                             76\n",
      "神策分析|Sensors Analytics-帮你实现数据驱动－关于                                                                                                                                                                                                                                                                                                                                                                                                                                                                                        74\n",
      "数据格式 · Sensors Analytics 使用手册                                                                                                                                                                                                                                                                                                                                                                                                                                                                                             72\n",
      "如何准确的标识用户 · Sensors Analytics 使用手册                                                                                                                                                                                                                                                                                                                                                                                                                                                                                        64\n",
      "神策分析|Sensors Analytics-帮你实现数据驱动－视频播放                                                                                                                                                                                                                                                                                                                                                                                                                                                                                      61\n",
      "漏斗分析 · Sensors Analytics 使用手册                                                                                                                                                                                                                                                                                                                                                                                                                                                                                             54\n",
      "iOS SDK · Sensors Analytics 使用手册                                                                                                                                                                                                                                                                                                                                                                                                                                                                                          51\n",
      "用户分群 · Sensors Analytics 使用手册                                                                                                                                                                                                                                                                                                                                                                                                                                                                                             49\n",
      "weixin://private/setresult/SCENE_HANDLEMSGFROMWX&eyJfX2Vycl9jb2RlIjoiY2I0MDQifQ==                                                                                                                                                                                                                                                                                                                                                                                                                                         49\n",
      "留存分析 · Sensors Analytics 使用手册                                                                                                                                                                                                                                                                                                                                                                                                                                                                                             48\n",
      "自定义查询 · Sensors Analytics 使用手册                                                                                                                                                                                                                                                                                                                                                                                                                                                                                            45\n",
      "Java SDK · Sensors Analytics 使用手册                                                                                                                                                                                                                                                                                                                                                                                                                                                                                         43\n",
      "用户路径分析 · Sensors Analytics 使用手册                                                                                                                                                                                                                                                                                                                                                                                                                                                                                           36\n",
      "查询 API · Sensors Analytics 使用手册                                                                                                                                                                                                                                                                                                                                                                                                                                                                                           34\n",
      "数据清理工具使用说明 · Sensors Analytics 使用手册                                                                                                                                                                                                                                                                                                                                                                                                                                                                                       32\n",
      "PHP SDK · Sensors Analytics 使用手册                                                                                                                                                                                                                                                                                                                                                                                                                                                                                          30\n",
      "                                                                                                                                                                                                                                                                                                                                                                                                                                                                                                                        ... \n",
      "电商类产品 · Sensors Analytics 使用手册                                                                                                                                                                                                                                                                                                                                                                                                                                                                                             6\n",
      "数据接入基本原则 · Sensors Analytics 使用手册                                                                                                                                                                                                                                                                                                                                                                                                                                                                                          5\n",
      "书签和数据概览 · Sensors Analytics 使用手册                                                                                                                                                                                                                                                                                                                                                                                                                                                                                           5\n",
      "推荐分享 · Sensors Analytics 使用手册                                                                                                                                                                                                                                                                                                                                                                                                                                                                                              5\n",
      "从外部 Kafka 接入数据的方案 · Sensors Analytics 使用手册                                                                                                                                                                                                                                                                                                                                                                                                                                                                                 5\n",
      "权限管理 · Sensors Analytics 使用手册                                                                                                                                                                                                                                                                                                                                                                                                                                                                                              5\n",
      "Ruby SDK · Sensors Analytics 使用手册                                                                                                                                                                                                                                                                                                                                                                                                                                                                                          5\n",
      "关于我们 · Sensors Analytics 使用手册                                                                                                                                                                                                                                                                                                                                                                                                                                                                                              4\n",
      "HdfsImporter · Sensors Analytics 使用手册                                                                                                                                                                                                                                                                                                                                                                                                                                                                                      4\n",
      "数据接入 API · Sensors Analytics 使用手册                                                                                                                                                                                                                                                                                                                                                                                                                                                                                          4\n",
      "产品视频 · Sensors Analytics 使用手册                                                                                                                                                                                                                                                                                                                                                                                                                                                                                              4\n",
      "第三方登录 · Sensors Analytics 使用手册                                                                                                                                                                                                                                                                                                                                                                                                                                                                                             3\n",
      "基础指标解释和配置 · Sensors Analytics 使用手册                                                                                                                                                                                                                                                                                                                                                                                                                                                                                         3\n",
      "导入实时查看 · Sensors Analytics 使用手册                                                                                                                                                                                                                                                                                                                                                                                                                                                                                            3\n",
      "企业服务类产品 · Sensors Analytics 使用手册                                                                                                                                                                                                                                                                                                                                                                                                                                                                                           3\n",
      "典型场景数据接入方案 · Sensors Analytics 使用手册                                                                                                                                                                                                                                                                                                                                                                                                                                                                                        3\n",
      "微信小程序 SDK · Sensors Analytics 使用手册                                                                                                                                                                                                                                                                                                                                                                                                                                                                                         3\n",
      "多项目 · Sensors Analytics 使用手册                                                                                                                                                                                                                                                                                                                                                                                                                                                                                               3\n",
      "神策分析相关名词 · Sensors Analytics 使用手册                                                                                                                                                                                                                                                                                                                                                                                                                                                                                          3\n",
      "功能 API · Sensors Analytics 使用手册                                                                                                                                                                                                                                                                                                                                                                                                                                                                                            3\n",
      "CustomUserSegmenter 使用说明 · Sensors Analytics 使用手册                                                                                                                                                                                                                                                                                                                                                                                                                                                                          3\n",
      "APICloud SDK · Sensors Analytics 使用手册                                                                                                                                                                                                                                                                                                                                                                                                                                                                                      3\n",
      "订阅实时数据 · Sensors Analytics 使用手册                                                                                                                                                                                                                                                                                                                                                                                                                                                                                            3\n",
      "查询抽样 · Sensors Analytics 使用手册                                                                                                                                                                                                                                                                                                                                                                                                                                                                                              3\n",
      "数据导入常见问题 · Sensors Analytics 使用手册                                                                                                                                                                                                                                                                                                                                                                                                                                                                                          2\n",
      "Java SDK Demo · Sensors Analytics 使用手册                                                                                                                                                                                                                                                                                                                                                                                                                                                                                     2\n",
      "分析师事件权限设置工具 · Sensors Analytics 使用手册                                                                                                                                                                                                                                                                                                                                                                                                                                                                                       1\n",
      "导入辅助工具 · Sensors Analytics 使用手册                                                                                                                                                                                                                                                                                                                                                                                                                                                                                            1\n",
      "进阶使用场景 · Sensors Analytics 使用手册                                                                                                                                                                                                                                                                                                                                                                                                                                                                                            1\n",
      "Sensor Analytics - help you implement data drivers                                                                                                                                                                                                                                                                                                                                                                                                                                                                         1\n",
      "Name: title, Length: 97, dtype: int64\n"
     ]
    }
   ],
   "source": [
    "print(df_vtc.title.value_counts(dropna=False))"
   ]
  },
  {
   "cell_type": "code",
   "execution_count": 49,
   "metadata": {},
   "outputs": [
    {
     "data": {
      "text/plain": [
       "count                                        32620\n",
       "unique                                       11587\n",
       "top       08ba9b365da9b395ab2a03ed1a76b97e01716a39\n",
       "freq                                           152\n",
       "Name: dist_id, dtype: object"
      ]
     },
     "execution_count": 49,
     "metadata": {},
     "output_type": "execute_result"
    }
   ],
   "source": [
    "df_view['dist_id'].describe()"
   ]
  },
  {
   "cell_type": "code",
   "execution_count": 50,
   "metadata": {},
   "outputs": [
    {
     "name": "stdout",
     "output_type": "stream",
     "text": [
      "神策数据 | Sensors Data - 国内领先的用户行为分析产品                                                                                                                                                                                                                                                                                                                                                                                                                                                                                     13700\n",
      "神策分析|Sensors Analytics-帮你实现数据驱动－demo                                                                                                                                                                                                                                                                                                                                                                                                                                                                                     4148\n",
      "介绍 · Sensors Analytics 使用手册                                                                                                                                                                                                                                                                                                                                                                                                                                                                                              3542\n",
      "神策分析|Sensors Analytics-帮你实现数据驱动－产品                                                                                                                                                                                                                                                                                                                                                                                                                                                                                       2455\n",
      "神策分析|Sensors Analytics-帮你实现数据驱动－B轮融资发布会                                                                                                                                                                                                                                                                                                                                                                                                                                                                                  1899\n",
      "神策分析|Sensors Analytics-帮你实现数据驱动－关于                                                                                                                                                                                                                                                                                                                                                                                                                                                                                       1183\n",
      "神策分析|Sensors Analytics-帮你实现数据驱动-视频列表                                                                                                                                                                                                                                                                                                                                                                                                                                                                                     1129\n",
      "神策分析|Sensors Analytics-帮你实现数据驱动－视频播放                                                                                                                                                                                                                                                                                                                                                                                                                                                                                      830\n",
      "数据模型 · Sensors Analytics 使用手册                                                                                                                                                                                                                                                                                                                                                                                                                                                                                             232\n",
      "JavaScript SDK · Sensors Analytics 使用手册                                                                                                                                                                                                                                                                                                                                                                                                                                                                                   214\n",
      "事件分析 · Sensors Analytics 使用手册                                                                                                                                                                                                                                                                                                                                                                                                                                                                                             152\n",
      "数据格式 · Sensors Analytics 使用手册                                                                                                                                                                                                                                                                                                                                                                                                                                                                                             150\n",
      "可视化埋点 · Sensors Analytics 使用手册                                                                                                                                                                                                                                                                                                                                                                                                                                                                                            148\n",
      "神策分析|Sensors Analytics-帮你实现数据驱动-网址构建工具                                                                                                                                                                                                                                                                                                                                                                                                                                                                                    147\n",
      "weixin://private/setresult/SCENE_FETCHQUEUE&eyJmdW5jIjoibG9nIiwicGFyYW1zIjp7Im1zZyI6Il9ydW5PbjNyZEFwaUxpc3QgOiBtZW51OnNoYXJlOnRpbWVsaW5lLG1lbnU6c2hhcmU6YXBwbWVzc2FnZSxvblZvaWNlUmVjb3JkRW5kLG9uVm9pY2VQbGF5QmVnaW4sb25Wb2ljZVBsYXlFbmQsb25Mb2NhbEltYWdlVXBsb2FkUHJvZ3Jlc3Msb25JbWFnZURvd25sb2FkUHJvZ3Jlc3Msb25Wb2ljZVVwbG9hZFByb2dyZXNzLG9uVm9pY2VEb3dubG9hZFByb2dyZXNzLG1lbnU6c2V0Zm9udCxtZW51OnNoYXJlOndlaWJvLG1lbnU6c2hhcmU6ZW1haWwsd3hkb3dubG9hZDpzdGF0ZV9jaGFuZ2UsaGRPbkRldmljZVN0YXRlQ2hhbmdlZCxhY3Rpdml0eTpz      142\n",
      "数据接入 · Sensors Analytics 使用手册                                                                                                                                                                                                                                                                                                                                                                                                                                                                                             139\n",
      "Android SDK · Sensors Analytics 使用手册                                                                                                                                                                                                                                                                                                                                                                                                                                                                                      132\n",
      "电商类产品 · Sensors Analytics 使用手册                                                                                                                                                                                                                                                                                                                                                                                                                                                                                            120\n",
      "iOS SDK · Sensors Analytics 使用手册                                                                                                                                                                                                                                                                                                                                                                                                                                                                                          118\n",
      "神策分析|Sensors Analytics-帮你实现数据驱动-JavaScript SDK 自动生成工具                                                                                                                                                                                                                                                                                                                                                                                                                                                                     110\n",
      "整体使用流程 · Sensors Analytics 使用手册                                                                                                                                                                                                                                                                                                                                                                                                                                                                                           100\n",
      "如何准确的标识用户 · Sensors Analytics 使用手册                                                                                                                                                                                                                                                                                                                                                                                                                                                                                         96\n",
      "惠州网站建设|惠州网站设计|惠州网站制作|网站设计-微斯诺科技                                                                                                                                                                                                                                                                                                                                                                                                                                                                                            81\n",
      "漏斗分析 · Sensors Analytics 使用手册                                                                                                                                                                                                                                                                                                                                                                                                                                                                                              78\n",
      "用户分群 · Sensors Analytics 使用手册                                                                                                                                                                                                                                                                                                                                                                                                                                                                                              76\n",
      "Java SDK · Sensors Analytics 使用手册                                                                                                                                                                                                                                                                                                                                                                                                                                                                                          67\n",
      "留存分析 · Sensors Analytics 使用手册                                                                                                                                                                                                                                                                                                                                                                                                                                                                                              67\n",
      "weixin://private/setresult/SCENE_HANDLEMSGFROMWX&eyJfX2Vycl9jb2RlIjoiY2I0MDQifQ==                                                                                                                                                                                                                                                                                                                                                                                                                                          60\n",
      "自定义查询 · Sensors Analytics 使用手册                                                                                                                                                                                                                                                                                                                                                                                                                                                                                             58\n",
      "用户路径分析 · Sensors Analytics 使用手册                                                                                                                                                                                                                                                                                                                                                                                                                                                                                            50\n",
      "                                                                                                                                                                                                                                                                                                                                                                                                                                                                                                                        ...  \n",
      "数据接入 API · Sensors Analytics 使用手册                                                                                                                                                                                                                                                                                                                                                                                                                                                                                           7\n",
      "功能 API · Sensors Analytics 使用手册                                                                                                                                                                                                                                                                                                                                                                                                                                                                                             7\n",
      "订阅实时数据 · Sensors Analytics 使用手册                                                                                                                                                                                                                                                                                                                                                                                                                                                                                             7\n",
      "微信小程序 SDK · Sensors Analytics 使用手册                                                                                                                                                                                                                                                                                                                                                                                                                                                                                          7\n",
      "关于我们 · Sensors Analytics 使用手册                                                                                                                                                                                                                                                                                                                                                                                                                                                                                               6\n",
      "从外部 Kafka 接入数据的方案 · Sensors Analytics 使用手册                                                                                                                                                                                                                                                                                                                                                                                                                                                                                  6\n",
      "数据接入基本原则 · Sensors Analytics 使用手册                                                                                                                                                                                                                                                                                                                                                                                                                                                                                           6\n",
      "Ruby SDK · Sensors Analytics 使用手册                                                                                                                                                                                                                                                                                                                                                                                                                                                                                           6\n",
      "推荐分享 · Sensors Analytics 使用手册                                                                                                                                                                                                                                                                                                                                                                                                                                                                                               5\n",
      "CustomUserSegmenter 使用说明 · Sensors Analytics 使用手册                                                                                                                                                                                                                                                                                                                                                                                                                                                                           5\n",
      "第三方登录 · Sensors Analytics 使用手册                                                                                                                                                                                                                                                                                                                                                                                                                                                                                              5\n",
      "APICloud SDK · Sensors Analytics 使用手册                                                                                                                                                                                                                                                                                                                                                                                                                                                                                       4\n",
      "Java SDK Demo · Sensors Analytics 使用手册                                                                                                                                                                                                                                                                                                                                                                                                                                                                                      4\n",
      "基础指标解释和配置 · Sensors Analytics 使用手册                                                                                                                                                                                                                                                                                                                                                                                                                                                                                          3\n",
      "元数据创建工具使用说明 · Sensors Analytics 使用手册                                                                                                                                                                                                                                                                                                                                                                                                                                                                                        3\n",
      "查询抽样 · Sensors Analytics 使用手册                                                                                                                                                                                                                                                                                                                                                                                                                                                                                               3\n",
      "3 神策数据 | Sensors Data - 国内领先的用户行为分析产品                                                                                                                                                                                                                                                                                                                                                                                                                                                                                       3\n",
      "数据校验及元数据创建 · Sensors Analytics 使用手册                                                                                                                                                                                                                                                                                                                                                                                                                                                                                         2\n",
      "导入辅助工具 · Sensors Analytics 使用手册                                                                                                                                                                                                                                                                                                                                                                                                                                                                                             2\n",
      "3 神策分析|Sensors Analytics-帮你实现数据驱动－产品                                                                                                                                                                                                                                                                                                                                                                                                                                                                                        2\n",
      "3 神策分析|Sensors Analytics-帮你实现数据驱动－demo                                                                                                                                                                                                                                                                                                                                                                                                                                                                                      1\n",
      "神策分析 | Sensors Analytics - 帮你实现数据驱动－B 轮融资发布会                                                                                                                                                                                                                                                                                                                                                                                                                                                                                1\n",
      "C SDK · Sensors Analytics 使用手册                                                                                                                                                                                                                                                                                                                                                                                                                                                                                              1\n",
      "分析师事件权限设置工具 · Sensors Analytics 使用手册                                                                                                                                                                                                                                                                                                                                                                                                                                                                                        1\n",
      "4 介绍 · Sensors Analytics 使用手册                                                                                                                                                                                                                                                                                                                                                                                                                                                                                               1\n",
      "进阶使用场景 · Sensors Analytics 使用手册                                                                                                                                                                                                                                                                                                                                                                                                                                                                                             1\n",
      "3 神策分析|Sensors Analytics-帮你实现数据驱动－关于                                                                                                                                                                                                                                                                                                                                                                                                                                                                                        1\n",
      "其他辅助工具 · Sensors Analytics 使用手册                                                                                                                                                                                                                                                                                                                                                                                                                                                                                             1\n",
      "导入状态 · Sensors Analytics 使用手册                                                                                                                                                                                                                                                                                                                                                                                                                                                                                               1\n",
      "Sensor Analytics - help you implement data drivers                                                                                                                                                                                                                                                                                                                                                                                                                                                                          1\n",
      "Name: title, Length: 108, dtype: int64\n"
     ]
    }
   ],
   "source": [
    "print(df_view.title.value_counts(dropna=False))"
   ]
  },
  {
   "cell_type": "markdown",
   "metadata": {},
   "source": [
    "Compare the view data frame and view but not click dataframe:\n",
    "Most users stpped at the main page, people seems to have much interest in demo and product than B round of financing conference"
   ]
  },
  {
   "cell_type": "markdown",
   "metadata": {},
   "source": [
    "Possible useful feature: session_r, session_rh, session_page_url, pageStayTime, pagePosition, pageUrl, latest_utm_s, latest_utm_s, latest_utm_t"
   ]
  },
  {
   "cell_type": "code",
   "execution_count": 51,
   "metadata": {},
   "outputs": [
    {
     "data": {
      "text/plain": [
       "https://www.sensorsdata.cn/                                                                                                                                                                                                                                                                                                                                                                             16910\n",
       "https://www.sensorsdata.cn/?utm_source=baidu&utm_medium=cpc&utm_term=%E7%A5%9E%E7%AD%96&utm_content=%E5%93%81%E7%89%8C%2D%E7%A5%9E%E7%AD%96&utm_campaign=%E5%93%81%E7%89%8C%E8%AF%8D                                                                                                                                                                                                                     5419\n",
       "https://www.sensorsdata.cn/?utm_source=baidu&utm_medium=cpc&utm_term=%E7%94%A8%E6%88%B7%E7%94%BB%E5%83%8F&utm_content=%E9%80%9A%E7%94%A8%2D%E7%94%A8%E6%88%B7%E7%94%BB%E5%83%8F&utm_campaign=%E9%80%9A%E7%94%A8%E8%AF%8D                                                                                                                                                                                 4837\n",
       "https://sensorsdata.cn/                                                                                                                                                                                                                                                                                                                                                                                  4289\n",
       "https://www.sensorsdata.cn/?utm_source=baidu&utm_medium=cpc&utm_term=%E7%A5%9E%E7%AD%96%E6%95%B0%E6%8D%AE&utm_content=%E5%93%81%E7%89%8C%2D%E7%A5%9E%E7%AD%96&utm_campaign=%E5%93%81%E7%89%8C%E8%AF%8D                                                                                                                                                                                                   2365\n",
       "https://www.sensorsdata.cn/demo.html                                                                                                                                                                                                                                                                                                                                                                     1717\n",
       "https://www.sensorsdata.cn/index.html                                                                                                                                                                                                                                                                                                                                                                    1010\n",
       "https://www.sensorsdata.cn/?utm_source=sogou&utm_medium=mcpc&utm_term=%e6%95%b0%e6%8d%ae%e5%88%86%e6%9e%90&utm_content=%e9%80%9a%e7%94%a8-%e6%95%b0%e6%8d%ae%e5%88%86%e6%9e%90&utm_campaign=S-%e9%80%9a%e7%94%a8%e8%af%8d                                                                                                                                                                                 953\n",
       "https://www.sensorsdata.cn/?utm_source=baidu&utm_medium=mfeed&utm_term=%E9%A6%96%E9%A1%B5-%E9%80%9A%E7%94%A8%E8%AF%8D-%E4%B8%89%E5%9B%BE-%E5%9B%BE1&utm_content=%E9%80%9A%E7%94%A8%E8%AF%8D-%E4%B8%89%E5%9B%BE&utm_campaign=%E9%A6%96%E9%A1%B5                                                                                                                                                            924\n",
       "https://www.sensorsdata.cn/?utm_source=baidu&utm_medium=cpc&utm_term=%E7%94%A8%E6%88%B7%E5%88%86%E6%9E%90&utm_content=%E9%80%9A%E7%94%A8%2D%E7%94%A8%E6%88%B7%E5%88%86%E6%9E%90&utm_campaign=%E9%80%9A%E7%94%A8%E8%AF%8D                                                                                                                                                                                  741\n",
       "https://www.sensorsdata.cn/?utm_source=baidu&utm_medium=cpc&utm_term=%E7%94%B5%E5%AD%90%E5%95%86%E5%8A%A1%E6%95%B0%E6%8D%AE&utm_content=%E9%80%9A%E7%94%A8%2D%E7%94%B5%E5%95%86%E8%BF%90%E8%90%A5&utm_campaign=%E9%80%9A%E7%94%A8%E8%AF%8D                                                                                                                                                                575\n",
       "https://www.sensorsdata.cn/?utm_source=baidu&utm_medium=cpc&utm_term=%E7%A5%9E%E7%AD%96%E5%88%86%E6%9E%90&utm_content=%E5%93%81%E7%89%8C%2D%E7%A5%9E%E7%AD%96&utm_campaign=%E5%93%81%E7%89%8C%E8%AF%8D                                                                                                                                                                                                    525\n",
       "https://www.sensorsdata.cn/?utm_source=baidu&utm_medium=cpc&utm_term=%E5%A4%A7%E6%95%B0%E6%8D%AE%E5%88%86%E6%9E%90&utm_content=%E9%80%9A%E7%94%A8%2D%E6%95%B0%E6%8D%AE%E5%88%86%E6%9E%90&utm_campaign=%E9%80%9A%E7%94%A8%E8%AF%8D                                                                                                                                                                         511\n",
       "https://sensorsdata.cn/demo.html                                                                                                                                                                                                                                                                                                                                                                          510\n",
       "https://www.sensorsdata.cn/?utm_source=baidu&utm_medium=cpc&utm_term=%E7%BD%91%E7%AB%99%E8%BF%90%E8%90%A5%E6%95%B0%E6%8D%AE%E5%88%86%E6%9E%90&utm_content=%E9%80%9A%E7%94%A8%2D%E6%95%B0%E6%8D%AE%E5%88%86%E6%9E%90%2D%E8%BF%90%E8%90%A5&utm_campaign=%E9%80%9A%E7%94%A8%E8%AF%8D                                                                                                                         486\n",
       "https://www.sensorsdata.cn/?utm_source=baidu&utm_medium=cpc&utm_term=%E4%BA%A7%E5%93%81%E6%95%B0%E6%8D%AE%E5%88%86%E6%9E%90&utm_content=%E9%80%9A%E7%94%A8%2D%E6%95%B0%E6%8D%AE%E5%88%86%E6%9E%90&utm_campaign=%E9%80%9A%E7%94%A8%E8%AF%8D                                                                                                                                                                450\n",
       "https://www.sensorsdata.cn/?utm_source=baidu&utm_medium=cpc&utm_term=%E7%BD%91%E7%AB%99%E6%95%B0%E6%8D%AE%E7%BB%9F%E8%AE%A1&utm_content=%E9%80%9A%E7%94%A8%2D%E6%95%B0%E6%8D%AE%E7%BB%9F%E8%AE%A1&utm_campaign=%E9%80%9A%E7%94%A8%E8%AF%8D                                                                                                                                                                430\n",
       "https://www.sensorsdata.cn/?utm_source=baidu&utm_medium=cpc&utm_term=%E6%95%B0%E6%8D%AE%E5%88%86%E6%9E%90&utm_content=%E9%80%9A%E7%94%A8%2D%E6%95%B0%E6%8D%AE%E5%88%86%E6%9E%90&utm_campaign=%E9%80%9A%E7%94%A8%E8%AF%8D                                                                                                                                                                                  384\n",
       "https://www.sensorsdata.cn/?utm_source=baidu&utm_medium=cpc&utm_term=%E6%97%85%E6%B8%B8%E5%A4%A7%E6%95%B0%E6%8D%AE&utm_content=%E9%80%9A%E7%94%A8%2D%E5%A4%A7%E6%95%B0%E6%8D%AE%2D%E8%A1%8C%E4%B8%9A&utm_campaign=%E9%80%9A%E7%94%A8%E8%AF%8D                                                                                                                                                             384\n",
       "https://www.sensorsdata.cn/?utm_source=baidu&utm_medium=cpc&utm_term=%E7%94%A8%E6%88%B7%E7%94%BB%E5%83%8F%E5%88%86%E6%9E%90&utm_content=%E9%80%9A%E7%94%A8%2D%E7%94%A8%E6%88%B7%E7%94%BB%E5%83%8F%2D%E4%BA%A7%E5%93%81&utm_campaign=%E9%80%9A%E7%94%A8%E8%AF%8D                                                                                                                                           368\n",
       "https://www.sensorsdata.cn/?utm_source=baidu&utm_medium=cpc&utm_term=%E8%81%9A%E7%B1%BB%E5%88%86%E6%9E%90&utm_content=%E9%80%9A%E7%94%A8%2D%E6%95%B0%E6%8D%AE%E5%88%86%E6%9E%90&utm_campaign=%E9%80%9A%E7%94%A8%E8%AF%8D                                                                                                                                                                                  357\n",
       "https://www.sensorsdata.cn/?utm_source=baidu&utm_medium=cpc&utm_term=app%E6%95%B0%E6%8D%AE&utm_content=%E9%80%9A%E7%94%A8%2DAPP%E8%BF%90%E8%90%A5&utm_campaign=%E9%80%9A%E7%94%A8%E8%AF%8D                                                                                                                                                                                                                357\n",
       "https://sensorsdata.cn/?ch=demo                                                                                                                                                                                                                                                                                                                                                                           318\n",
       "https://www.sensorsdata.cn/?utm_source=baidu&utm_medium=cpc&utm_term=%E6%95%B0%E6%8D%AE%E5%88%86%E6%9E%90%E7%B3%BB%E7%BB%9F&utm_content=%E9%80%9A%E7%94%A8%2D%E6%95%B0%E6%8D%AE%E5%88%86%E6%9E%90%2D%E4%BA%A7%E5%93%81&utm_campaign=%E9%80%9A%E7%94%A8%E8%AF%8D                                                                                                                                           315\n",
       "https://www.sensorsdata.cn/product.html                                                                                                                                                                                                                                                                                                                                                                   313\n",
       "https://sensorsdata.cn/index.html                                                                                                                                                                                                                                                                                                                                                                         308\n",
       "https://sensorsdata.cn/b-round.html                                                                                                                                                                                                                                                                                                                                                                       304\n",
       "https://www.sensorsdata.cn/?utm_source=baidu&utm_medium=cpc&utm_term=%E5%AE%A2%E6%88%B7%E7%94%BB%E5%83%8F&utm_content=%E9%80%9A%E7%94%A8%2D%E7%94%A8%E6%88%B7%E7%94%BB%E5%83%8F&utm_campaign=%E9%80%9A%E7%94%A8%E8%AF%8D                                                                                                                                                                                  289\n",
       "https://www.sensorsdata.cn/?utm_source=baidu&utm_medium=cpc&utm_term=app%E5%88%86%E6%9E%90&utm_content=%E9%80%9A%E7%94%A8%2DAPP%E8%BF%90%E8%90%A5&utm_campaign=%E9%80%9A%E7%94%A8%E8%AF%8D                                                                                                                                                                                                                277\n",
       "https://www.sensorsdata.cn/courses/                                                                                                                                                                                                                                                                                                                                                                       253\n",
       "                                                                                                                                                                                                                                                                                                                                                                                                        ...  \n",
       "https://www.sensorsdata.cn/?utm_source=baidu&utm_medium=cpc&utm_term=%E5%A4%9A%E7%BB%B4%E6%95%B0%E6%8D%AE%E5%88%86%E6%9E%90%E7%B3%BB%E7%BB%9F&utm_content=%E9%80%9A%E7%94%A8-%E6%95%B0%E6%8D%AE%E5%88%86%E6%9E%90-%E4%BA%A7%E5%93%81&utm_campaign=%E9%80%9A%E7%94%A8%E8%AF%8D                                                                                                                               1\n",
       "https://www.sensorsdata.cn/?utm_source=baidu&utm_medium=cpc&utm_term=%E7%94%B5%E5%95%86%E8%A1%8C%E4%B8%9A%E6%95%B0%E6%8D%AE%E5%88%86%E6%9E%90&utm_content=%E9%80%9A%E7%94%A8-%E6%95%B0%E6%8D%AE%E5%88%86%E6%9E%90-%E7%94%B5%E5%95%86&utm_campaign=%E9%80%9A%E7%94%A8%E8%AF%8D                                                                                                                               1\n",
       "https://www.sensorsdata.cn/?utm_source=baidu&utm_medium=cpc&utm_term=%E5%A4%A7%E6%95%B0%E6%8D%AE%E5%88%86%E6%9E%90%20%E5%B9%B3%E5%8F%B0&utm_content=%E9%80%9A%E7%94%A8-%E6%95%B0%E6%8D%AE%E5%88%86%E6%9E%90-%E4%BA%A7%E5%93%81&utm_campaign=%E9%80%9A%E7%94%A8%E8%AF%8D                                                                                                                                     1\n",
       "https://www.sensorsdata.cn/?utm_source=baidu&utm_medium=cpc&utm_term=%E6%95%B0%E6%8D%AE%E5%88%86%E6%9E%90%E8%A7%A3%E5%86%B3%E6%96%B9%E6%A1%88&utm_content=%E9%80%9A%E7%94%A8-%E6%95%B0%E6%8D%AE%E5%88%86%E6%9E%90-%E6%96%B9%E6%A1%88&utm_campaign=%E9%80%9A%E7%94%A8%E8%AF%8D                                                                                                                               1\n",
       "https://www.sensorsdata.cn/?utm_source=baidu&utm_medium=cpc&utm_term=%E6%95%B0%E6%8D%AE%E5%88%86%E6%9E%90%E5%85%AC%E5%8F%B8&utm_content=%E9%80%9A%E7%94%A8-%E6%95%B0%E6%8D%AE%E5%88%86%E6%9E%90-%E5%85%AC%E5%8F%B8&utm_campaign=%E9%80%9A%E7%94%A8%E8%AF%8D                                                                                                                                                 1\n",
       "https://www.sensorsdata.cn/?utm_source=baidu&utm_medium=mcpc&utm_term=%E7%BD%91%E7%AB%99%E8%BF%90%E8%90%A5%E6%95%B0%E6%8D%AE%E5%88%86%E6%9E%90&utm_content=%E9%80%9A%E7%94%A8-%E6%95%B0%E6%8D%AE%E5%88%86%E6%9E%90-%E8%BF%90%E8%90%A5&utm_campaign=%E9%80%9A%E7%94%A8%E8%AF%8D                                                                                                                              1\n",
       "https://www.sensorsdata.cn/?utm_source=baidu&utm_medium=cpc&utm_term=%E7%BD%91%E7%AB%99%E5%88%86%E6%9E%90%E5%B7%A5%E5%85%B7&utm_content=%E9%80%9A%E7%94%A8-%E7%BD%91%E7%AB%99%E8%BF%90%E8%90%A5&utm_campaign=%E9%80%9A%E7%94%A8%E8%AF%8D                                                                                                                                                                    1\n",
       "https://www.sensorsdata.cn/?utm_source=baidu&utm_medium=cpc&utm_term=%E8%81%9A%E7%B1%BB%E5%88%86%E6%9E%90&utm_content=%E9%80%9A%E7%94%A8-%E6%95%B0%E6%8D%AE%E5%88%86%E6%9E%90&utm_campaign=%E9%80%9A%E7%94%A8%E8%AF%8D                                                                                                                                                                                      1\n",
       "https://www.sensorsdata.cn/?utm_source=sogou&utm_medium=mcpc&utm_term=%e5%a4%a7%e6%95%b0%e6%8d%ae%e5%88%86%e6%9e%90&utm_content=%e9%80%9a%e7%94%a8-%e6%95%b0%e6%8d%ae%e5%88%86%e6%9e%90&utm_campaign=S-%e9%80%9a%e7%94%a8%e8%af%8d&from=groupmessage&isappinstalled=1                                                                                                                                       1\n",
       "https://www.sensorsdata.cn/?utm_source=baidu&utm_medium=cpc&utm_term=%E7%94%A8%E6%88%B7%E8%A1%8C%E4%B8%BA%E5%88%86%E6%9E%90%E5%B7%A5%E5%85%B7&utm_content=%E9%80%9A%E7%94%A8-%E7%94%A8%E6%88%B7%E8%A1%8C%E4%B8%BA%E5%88%86%E6%9E%90-%E7%B3%BB%E7%BB%9F&utm_campaign=%E9%80%9A%E7%94%A8%E8%AF%8D                                                                                                             1\n",
       "https://www.sensorsdata.cn/?utm_source=baidu&utm_medium=cpc&utm_term=%E7%94%A8%E6%88%B7%E5%88%86%E6%9E%90&utm_content=%E9%80%9A%E7%94%A8-%E7%94%A8%E6%88%B7%E5%88%86%E6%9E%90&utm_campaign=%E9%80%9A%E7%94%A8%E8%AF%8D                                                                                                                                                                                      1\n",
       "https://www.sensorsdata.cn/?utm_source=baidu&utm_medium=cpc&utm_term=%E7%A7%81%E6%9C%89%E5%8C%96%E9%83%A8%E7%BD%B2&utm_content=&utm_campaign=%E5%87%A4%E5%B7%A2%E5%A4%B4%E6%9D%A1                                                                                                                                                                                                                           1\n",
       "https://sensorsdata.cn/b-round.html?from=groupmessage                                                                                                                                                                                                                                                                                                                                                       1\n",
       "https://www.sensorsdata.cn/?utm_source=baidu&utm_medium=cpc&utm_term=%E7%BD%91%E7%AB%99%E8%BF%90%E8%90%A5%E5%88%86%E6%9E%90&utm_content=%E9%80%9A%E7%94%A8-%E7%BD%91%E7%AB%99%E8%BF%90%E8%90%A5&utm_campaign=%E9%80%9A%E7%94%A8%E8%AF%8D                                                                                                                                                                    1\n",
       "https://www.sensorsdata.cn/?utm_source=baidu&utm_medium=cpc&utm_term=%E7%BD%91%E7%AB%99%E8%BF%90%E8%90%A5%E6%95%B0%E6%8D%AE%E5%88%86%E6%9E%90&utm_content=%E9%80%9A%E7%94%A8-%E6%95%B0%E6%8D%AE%E5%88%86%E6%9E%90-%E8%BF%90%E8%90%A5&utm_campaign=%E9%80%9A%E7%94%A8%E8%AF%8D                                                                                                                               1\n",
       "https://www.sensorsdata.cn/?utm_source=baidu&utm_medium=cpc&utm_term=%E7%9B%B4%E6%92%AD%E5%B9%B3%E5%8F%B0%E6%95%B0%E6%8D%AE%E5%88%86%E6%9E%90&utm_content=%E9%80%9A%E7%94%A8-%E6%95%B0%E6%8D%AE%E5%88%86%E6%9E%90-%E8%A1%8C%E4%B8%9A&utm_campaign=%E9%80%9A%E7%94%A8%E8%AF%8D                                                                                                                               1\n",
       "https://www.sensorsdata.cn/?utm_source=sogou&utm_medium=mcpc&utm_term=%e6%95%b0%e6%8d%ae%e5%ad%98%e5%82%a8&utm_content=%e9%80%9a%e7%94%a8-%e6%95%b0%e6%8d%ae%e5%a4%84%e7%90%86&utm_campaign=S-%e9%80%9a%e7%94%a8%e8%af%8d                                                                                                                                                                                   1\n",
       "https://www.sensorsdata.cn/?utm_source=baidu&utm_medium=cpc&utm_term=%E7%94%B5%E5%95%86%E6%95%B0%E6%8D%AE%E5%88%86%E6%9E%90%E5%B7%A5%E5%85%B7&utm_content=%E9%80%9A%E7%94%A8-%E6%95%B0%E6%8D%AE%E5%88%86%E6%9E%90-%E4%BA%A7%E5%93%81&utm_campaign=%E9%80%9A%E7%94%A8%E8%AF%8D                                                                                                                               1\n",
       "https://www.sensorsdata.cn/?utm_source=baidu&utm_medium=mcpc&utm_term=%E4%BA%A7%E5%93%81%E6%95%B0%E6%8D%AE%E5%88%86%E6%9E%90&utm_content=%E9%80%9A%E7%94%A8-%E6%95%B0%E6%8D%AE%E5%88%86%E6%9E%90&utm_campaign=%E9%80%9A%E7%94%A8%E8%AF%8D                                                                                                                                                                   1\n",
       "https://www.sensorsdata.cn/?utm_source=baidu&utm_medium=cpc&utm_term=%E6%95%B0%E6%8D%AE%E9%87%87%E9%9B%86&utm_content=%E9%80%9A%E7%94%A8-%E6%95%B0%E6%8D%AE%E9%87%87%E9%9B%86&utm_campaign=%E9%80%9A%E7%94%A8%E8%AF%8D                                                                                                                                                                                      1\n",
       "https://www.sensorsdata.cn/?utm_source=baidu&utm_medium=cpc&utm_term=App%E8%BF%90%E8%90%A5&utm_content=%E9%80%9A%E7%94%A8-APP%E8%BF%90%E8%90%A5&utm_campaign=%E9%80%9A%E7%94%A8%E8%AF%8D                                                                                                                                                                                                                    1\n",
       "https://www.sensorsdata.cn/?utm_source=baidu&utm_medium=cpc&utm_term=%E5%AE%A2%E6%88%B7%E7%94%BB%E5%83%8F&utm_content=%E9%80%9A%E7%94%A8-%E7%94%A8%E6%88%B7%E7%94%BB%E5%83%8F&utm_campaign=%E9%80%9A%E7%94%A8%E8%AF%8D                                                                                                                                                                                      1\n",
       "https://www.sensorsdata.cn/?utm_source=baidu&utm_medium=cpc&utm_term=%E8%BF%90%E8%90%A5%20%E6%95%B0%E6%8D%AE%E5%88%86%E6%9E%90&utm_content=%E9%80%9A%E7%94%A8-%E6%95%B0%E6%8D%AE%E5%88%86%E6%9E%90-%E8%BF%90%E8%90%A5&utm_campaign=%E9%80%9A%E7%94%A8%E8%AF%8D                                                                                                                                              1\n",
       "https://www.sensorsdata.cn/?utm_source=baidu&utm_medium=mcpc&utm_campaign=%e7%a5%9e%e7%ad%96-%e7%a7%bb%e5%8a%a8%e6%8e%a8%e5%b9%bf&utm_content=%e9%80%9a%e7%94%a8%e8%af%8d-M&utm_term=app%e6%95%b0%e6%8d%ae%e5%88%86%e6%9e%90#|src_%E8%8B%B9%E6%9E%9Capp%E6%A0%B9%E6%8D%AE%E6%95%B0%E6%8D%AE%E7%94%9F%E6%88%90%E6%9B%B2%E7%BA%BF%E5%9B%BE%E5%BD%A2|sa_tb&word=app%E6%95%B0%E6%8D%AE%E5%88%86%E6%9E%90        1\n",
       "https://www.sensorsdata.cn/?utm_source=baidu&utm_medium=cpc&utm_term=%E5%9C%A8%E7%BA%BF%E6%95%B0%E6%8D%AE%E5%88%86%E6%9E%90%E5%B7%A5%E5%85%B7&utm_content=%E9%80%9A%E7%94%A8-%E6%95%B0%E6%8D%AE%E5%88%86%E6%9E%90-%E4%BA%A7%E5%93%81&utm_campaign=%E9%80%9A%E7%94%A8%E8%AF%8D                                                                                                                               1\n",
       "https://www.sensorsdata.cn/?utm_source=baidu&utm_medium=mcpc&utm_campaign=%E7%A5%9E%E7%AD%96-%E7%A7%BB%E5%8A%A8%E6%8E%A8%E5%B9%BF&utm_content=%E9%80%9A%E7%94%A8%E8%AF%8D-M&utm_term=%E6%95%B0%E6%8D%AE%E5%88%86%E6%9E%90%E8%BD%AF%E4%BB%B6%E4%B8%8B%E8%BD%BD                                                                                                                                               1\n",
       "https://www.sensorsdata.cn/?utm_source=sogou&utm_medium=mcpc&utm_term=%e6%95%b0%e6%8d%ae%e5%88%86%e6%9e%90%e6%a8%a1%e5%9e%8b&utm_content=%e9%80%9a%e7%94%a8-%e6%95%b0%e6%8d%ae%e5%88%86%e6%9e%90-%e5%85%b6%e4%bb%96&utm_campaign=S-%e9%80%9a%e7%94%a8%e8%af%8d                                                                                                                                              1\n",
       "https://www.sensorsdata.cn/?utm_source=baidu&utm_medium=cpc&utm_term=%E7%94%B5%E5%95%86%E8%BF%90%E8%90%A5%E6%95%B0%E6%8D%AE%E5%88%86%E6%9E%90&utm_content=%E9%80%9A%E7%94%A8-%E6%95%B0%E6%8D%AE%E5%88%86%E6%9E%90-%E7%94%B5%E5%95%86&utm_campaign=%E9%80%9A%E7%94%A8%E8%AF%8D                                                                                                                               1\n",
       "https://www.sensorsdata.cn/?utm_source=baidu&utm_medium=cpc&utm_term=%E7%94%B5%E5%95%86%E6%95%B0%E6%8D%AE%E5%88%86%E6%9E%90&utm_content=%E9%80%9A%E7%94%A8-%E6%95%B0%E6%8D%AE%E5%88%86%E6%9E%90-%E8%A1%8C%E4%B8%9A&utm_campaign=%E9%80%9A%E7%94%A8%E8%AF%8D                                                                                                                                                 1\n",
       "https://www.sensorsdata.cn/?utm_source=baidu&utm_medium=cpc&utm_term=%E5%88%86%E6%9E%90%E5%A4%A7%E6%95%B0%E6%8D%AE&utm_content=%E9%80%9A%E7%94%A8-%E5%A4%A7%E6%95%B0%E6%8D%AE-%E5%85%B6%E4%BB%96&utm_campaign=%E9%80%9A%E7%94%A8%E8%AF%8D                                                                                                                                                                   1\n",
       "Name: session_p, Length: 669, dtype: int64"
      ]
     },
     "execution_count": 51,
     "metadata": {},
     "output_type": "execute_result"
    }
   ],
   "source": [
    "df.session_p.value_counts(dropna=True)"
   ]
  },
  {
   "cell_type": "code",
   "execution_count": 52,
   "metadata": {},
   "outputs": [
    {
     "data": {
      "text/plain": [
       "https://www.baidu.com/baidu.php                                                                                                                                                                             24908\n",
       "                                                                                                                                                                                                            16034\n",
       "https://www.baidu.com/link                                                                                                                                                                                   4998\n",
       "https://www.baidu.com/s                                                                                                                                                                                      1919\n",
       "https://www.google.com.hk/                                                                                                                                                                                    907\n",
       "https://www.google.com/                                                                                                                                                                                       783\n",
       "http://36kr.com/                                                                                                                                                                                              654\n",
       "https://www.sensorsdata.cn/                                                                                                                                                                                   371\n",
       "https://sensorsdata.cn/                                                                                                                                                                                       328\n",
       "https://www.google.co.jp/                                                                                                                                                                                     266\n",
       "https://www.sensorsdata.cn/manual/                                                                                                                                                                            200\n",
       "http://www.sensorsdata.cn/                                                                                                                                                                                    155\n",
       "https://www.sensorsdata.cn/manual/use_feature_video.html                                                                                                                                                      113\n",
       "http://www.itjuzi.com/company/16088                                                                                                                                                                           108\n",
       "https://www.sensorsdata.cn/manual/js_sdk.html                                                                                                                                                                 104\n",
       "https://link.zhihu.com/?target=https%3A//www.sensorsdata.cn                                                                                                                                                    98\n",
       "https://www.sensorsdata.cn/manual/event_ana.html                                                                                                                                                               89\n",
       "http://www.baidu.com/baidu.php?sc.7aTK00jwDwyKypmLhdEg8w50FJ0BMPOYV4r5HF1rrlnp7z0Di6zsomBfv6LjpPDYiHWM4m_9M06nuxWX5vctX9jotLfXoLKi6xRFseEIG1o5bLoVe9aVB_yqlzaYy4cXr7qShDjDMz62rAxRlUMUgPJ08rCD4IDXszL4h-       79\n",
       "https://link.zhihu.com/?target=https%3A//sensorsdata.cn/                                                                                                                                                       77\n",
       "https://www.sensorsdata.cn/manual/java_sdk.html                                                                                                                                                                77\n",
       "https://m.baidu.com/?from=844b&vit=fps                                                                                                                                                                         76\n",
       "https://www.sensorsdata.cn/demo.html                                                                                                                                                                           74\n",
       "https://www.sogou.com/link?url=DSOYnZeCC_reF_V0215oSdRkvO5tusgbxcLO2TQn7Ac.&query=%E7%A5%9E%E7%AD%96%E6%95%B0%E6%8D%AE                                                                                         74\n",
       "http://www.baidu.com/link?url=cqJ-HumjNapy4uRvaPvhHq05o4UMeVX_T3jLa0rkymicU1ZegoRzBQd8Or6cD1h4&wd=&eqid=f18597fa000314990000000658c261fc                                                                       70\n",
       "https://www.baidu.com/                                                                                                                                                                                         70\n",
       "http://www.woshipm.com/pmd/314444.html                                                                                                                                                                         70\n",
       "https://www.sensorsdata.cn/manual/query.html                                                                                                                                                                   70\n",
       "http://www.baidu.com/baidu.php?sc.IBTK00jyNUHxgmbNsRNO9pwmCW85unoZ3RhY2LA2yYSIy_P_a2rpHF5Zfm3aK0gihACpb2uofjfdgZRsOOEuvUOyAkfOXqqepIc29omYi45Xz8W9GLtwRV3z95qkf9L8sUUhSJZy8T3JHqCw07_EkWHGsnIy6WlObvKeJa       67\n",
       "http://www.woshipm.com/operate/409320.html                                                                                                                                                                     61\n",
       "https://www.sogou.com/link?url=DSOYnZeCC_reF_V0215oSdRkvO5tusgbxcLO2TQn7Ac.&query=%E7%A5%9E%E7%AD%96                                                                                                           59\n",
       "                                                                                                                                                                                                            ...  \n",
       "https://m.baidu.com/baidu.php?sc.xBTK00j_KTV_8t_F3ugkr5Sf7t91AJFhfTHVFw1ffJt8LkudsNJ71t2BO7L_ePYE6hQrUpXBL9bLTDtbfbsQko6xUcJh2wziW8fhfnXJDvT2GF0PWP0buQu5_6kfE8D2BTjRMNNxm9XC-KInwEVtxOTMZWHJF7WUbDbPqlw        1\n",
       "https://m.baidu.com/baidu.php?sc.JaTK00jxqNNmOUxPriS2KCCQ3TmDA9vfLWlJ3HhlHcG-sZbX5-30g3q8OC8vFPDsYszB4cX0mL92i9F9KAfSigiP4Vbz_5qoS2p0g96UqDbH8btdamFgOuvLJp3rEzOAxMj_268nhyVIo-EHdpRmeIBsLhEEBgbgpUuUJ2R        1\n",
       "https://m.sogou.com/bill_cpc?v=1&p=WJhHUrma919tBXwiae6Kh2ktzTGQkSvghM87wEGblOBAwZrgLWkMBr2xdI4GJXpCDWwqzAgfxMkCzAKgWwTcnaOjyF7qJpX7xv7VctjBWau87X3pMWbEsHdssd@jbm6fLIkrsKcp0r5VHKqEcdavMmPUdNz2PL7l5EE@t        1\n",
       "https://wap.sogou.com/bill_cpc?v=1&p=WJhHUFC711lYCb6IbUfOyAtpBJYhSGry2nK95sd96BkyjZ3IpZsciieYcJ@cXwblUOwQuR$eGGRvkYuxojfw4h9PZtRykvOPyVLS3A4xqlO@vUGEGgpQTXTsKt@smdGHTAGsiebK@1xXMauH@tW0c7$RZYgh6DCXde4        1\n",
       "https://m.baidu.com/baidu.php?sc.5iTK00KLHPINx0K4TjQ06skCj7vBWm4eDX5eWcMgbxH3tV_-f7AYShnjlghIcmt-7O5wddKt-L3qQkM3tJbpCMh63Cw26Gu_y9-GxaTewukv_cLY6a5XEfr1-EUKhh9uDeMK6tX3D8CVVWTQm4XULVaT19zUuyBUfH7ICKt        1\n",
       "https://m.baidu.com/baidu.php?sc.060000jGh81MTAUtHpuQhmpi4_tE_9sg2emywr4ZliEqfpNqBEb-Irex86MbzRtJ7GPH_t0MC6zbdiUfBtW5mc3RS2WdvoNQej16RSMNIKraZddA94FcSM32UER98P942fdr6YmfNTjb4_kkMlM8Tqjd599NrqZuZsI36jL        1\n",
       "https://m.baidu.com/from=1000539d/bd_page_type=1/ssid=0/uid=0/pu=usm%401%2Csz%401320_2001%2Cta%40iphone_1_10.2_3_602/baiduid=87FF2EDB78C4D54F293287F76A737CE4/w=0_10_/t=iphone/l=1/tc?ref=www_iphone&lid        1\n",
       "https://m.baidu.com/from=1012852r/bd_page_type=1/ssid=0/uid=0/pu=usm%401%2Csz%40320_1004%2Cta%40iphone_2_7.0_11_8.6/baiduid=C43444F17C1CE3FF36456170EB7D0AA7/w=0_10_/t=iphone/l=1/tc?ref=www_iphone&lid=        1\n",
       "https://m.baidu.com/baidu.php?sc.5z6K00jOXyLs0Ah5Ihs7VmW2bzdOtFNik7rJxtbjGHDOxiSONBsFIUY6aE_2amlSz7SMoMINdLH7KQohZVi89-KOQDDzlCfJAr3CHRPe5n142kKtsVkvvIVIIyovrEKDFjuxWqBv69IR_vC54TRxf20bBSutFfZwZBpA5CQ        1\n",
       "http://www.baidu.com/baidu.php?sc.K00000a8hhZIFVKni8B5AsXdF3mFZdEr4PiTUYVVZA018ccyK0sMC_TcxcD2MechCn_pk0Wc6RwvK3ci6BFhANeEhOPAL8arRy0LdNsFFigZ18aiBYjFigq0ubc9xRTLtxQ8KjMit9HUY4fZ0KWGB07JUKQgRMIpF4x4o4        1\n",
       "https://m.sogou.com/bill_cpc?v=1&p=WJedU0C711lYCYQ92VBxfjB6O0J9hOlTV@@WnYr9P2A3Pa$ZZ5OhAv2AnD6iRYpVV3BnQBRYfGRw8ekJmoVy9ykQe9vgAl1JZYJY65xBNNGhdjZ@s@WMETsTRqffjMWXOsiDxMtL80dDGXCFQIXGaCYudTYulnCML4Oze        1\n",
       "http://m.sogou.com/web/searchList.jsp?keyword=%E6%95%B0%E6%8D%AE%E5%88%86%E6%9E%90&uID=HSX5kGtcESSYoCOD&dp=1&pid=sogou-mobb-d2dc6368837861b4-0007&v=5&w=1282&htpos=11&s_from=hint_last&htindex=1&htdbg=i        1\n",
       "https://wap.sogou.com/bill_cpc?v=1&p=WJhHUFLw919YBKBhJPOU0AO9CmB9lP4GBKB@N6alv$ZDZtipdLtLLt0MJanippT1H243SP7aeQmVyejm9y75xyg5S$hvJHrB33PXtMxnmJ0nhPXu8gsKdDCEeBvmohtaINdKZSwEWs@akCVIMKb6W5gP0ttTlKEZKK2        1\n",
       "https://wap.sogou.com/bill_cpc?v=1&p=WJh26bdrV99UeiLd0gWTSIpIZHIttTjjOisBg8NrnalvnZQe9UVTiMBmVd6KmBXapQTnI2J3eVJw@kQr2xwUetwAIawexLJ0JqkJVoa88ASAwMEjNdEXKNdD4DsQ4mRXONrrrM070zq4bi@Nz0ht2OI5IdHFS4E7KIO        1\n",
       "https://m.baidu.com/from=2001a/bd_page_type=1/ssid=0/uid=0/pu=usm%402%2Csz%40320_1003%2Cta%40iphone_2_5.1_1_11.4/baiduid=E0A5F5F89F62B823EBE43FB226B15439/w=0_10_/t=iphone/l=3/tc?ref=www_iphone&lid=878        1\n",
       "https://m.baidu.com/baidu.php?sc.5iTK00KLHPINx0K4TKHfOKvi3ZbWpDNgdkJJ7nngEvcYaqSehQhpBXt8ER6KO7ZljYD2Wonfe3A3l0qdSuhRDBtVE3mtaurvcIeArWo3GCbt8m5Rbvq7Jg7qG74vH9Y1V2uf9K0dN1ttmVShaPBM6ZuWwuMNebOLlGoNlM9        1\n",
       "https://m.baidu.com/baidu.php?sc.dzTK00KNNEU476x5n_LtejgAodJ_dzUWqKsUDl4QB7tEgRNZZ1A2SjjAhKtd0qWo-xOofWCgkjFansV5Ps7UgrXFWjCGUtBpm2UwPB3nB7Y8lkjod2YlV_iqBR1VB3S6o_xtqI-5T0wPiMHGLD4AUbVAS15zA18teFYntVi        1\n",
       "https://m.baidu.com/from=1000539d/s?word=%E7%A5%9E%E7%AD%96%E6%95%B0%E6%8D%AE%E6%80%8E%E4%B9%88%E7%94%A8&rq=%E7%A5%9E%E7%AD%96%E6%95%B0%E6%8D%AE&sa=brs_5&rsf=4&pqid=14668821531038309651&rqid=146688215        1\n",
       "https://m.baidu.com/baidu.php?url=Dz6K00jryFP_QGxCox3PTg2wfRGnO_6Rds3LJCotkGF2TV4nsuErJ4xw1Af-O_YYz7YBZLs14sreeCY3hE8omWw4WihMJery9GWBCsvME4TzXVrOZsxXXks5a0hk8EL6E_dIgFZ3ShY8OZc1GDeCmVSXvdxE8JeV1VucXu        1\n",
       "https://wap.sogou.com/bill_cpc?v=1&p=WJhHUFVs11lUiPhgJ$BVCULqQbJ9h6jzNcEHL3xwFwk2JGvj6nxfNc6Hi202gSoovCoLJIAYU56aj3yhwjSlY6jj7qn8wVY9YujrPVDoBQ5AFsrWdETsTKWp$df0Fhrq2C@JhrgqEvM5bdvTI@guEsFIOGj5bh@LOf2        1\n",
       "http://cpro.baidu.com/cpro/ui/uijs.php?en=mywWUA71T1YsFh7sT7qGujYsFhPh5Hn4FhPC5H0huAbqniuGTdq9TZ0qnauJp1YYnH0krAR4nvm4PjmzPHThp1Y-fYD-wbf-fbR-wDf-fWT-wjm-fYR-wWmhp10qFRPKFRuDFRF7FRwDFRcLFRfvFRP7FRmvFh        1\n",
       "https://m.baidu.com/baidu.php?sc.060000awvWtUrzip4eQWWFVdv92zA6UW_wGiwujybBK7fmGINzZFHcLaG4Lx8-VcEHhE1DO-uzoBECYXNG9MRt_81UefHIy3aLMj6pxLNa8QB7HBssHCKI4CIgdWS0IVqV-DY0PdeAOnlaoVcpycV4fEl8XtaWWkXVB5_f3        1\n",
       "https://m.sogou.com/bill_cpc?v=1&p=WJhHUbds989YONnUJoYAijEoQGoy3U5FMjciXTCSJjb9k6j$QV0lmFAiA2eNpODzrOLzGG4U@Zj9LxVFVDyljl6ya9AN6$UrjenUoSaTIbMYuajOi@KWd@OdOI8bw7@XtkKK1zUEO1tsNAziiN4czXp1@Qh9faK5WZWa@        1\n",
       "https://m.baidu.com/baidu.php?sc.kzTK00KViRCvFKCtUPQP9MV_oQYNKP4jSd0aR7umF2F5ofK_Q8Ug1G1wvGy069ZS9W1z1rt3bYLccKVLWmei8c3Tjju3ilrUNQGznoUA9M_4z7kk5Z20x0PfAj5ylU7S54pMRYQ4Xxy_YdgpGnAEgH8LOwg-fFzDOjdFJ8F        1\n",
       "https://m.baidu.com/baidu.php?sc.JaTK000f_Pak3IFPgduTTKNNp0omYZDq3TMISJbMUJXN58l8ujwdNY-d6ht-mp2C4IAmd4nWtb9IzBxCAnZWN1D7kXdY5IzU3eXAPKtAJO6UIJLhheqMMcDocXBPiDDduSlV4ueE0keeOka8ab-5QbZeZXP1GibL8WjxGZD        1\n",
       "https://m.baidu.com/baidu.php?sc.0s0000KlmKuCTsdU2fsEI-RREmvQAZtu6KsEH48oxrHg6N1p_deL10Q2AP7WcuVdNCpYFOEpUJwckmW1v1NmqqRcFYMxoo-9oLg_8bK7K3WHqlHleHNJ5VzhCgXouZBut2FLb8rjLJlH5Wog-8q0qqqiXf9I6tQHKli9kCe        1\n",
       "https://m.baidu.com/baidu.php?sc.5iTK00KLHPINx0K4TPbQc1r3Vo-fzNfTqCHEnREebtuWDJrgIrQN_TT4ORazAo8A4HzhM84_3OJcHan3sneDJ4DQQ-711L2d5d4D5dtnzf6PKKV2ICDqogQbVfI-0objmVjquJd2pr6MNb8zvKIZvarGze9_trvXdskoDC3        1\n",
       "http://wap.sogou.com/waprdt?query=%B4%F3%CA%FD%BE%DD%D3%A6%D3%C3&clickid=a4280a1437541fb88878a99d045a5b7c                                                                                                       1\n",
       "http://m.sogou.com/bill_cpc?v=1&p=WJhVUbMa919YBQJA66gOX9J6bzcJIaPtBXd2B0t9rGSpV3f81NX2b4YeMhGEucsSeIezz4QVKcltOoJYhRQjhGXJkz0VwYJT8FU$kk0jYvnc9ina20oRbdiETT8spi0vNbPL$5F0jiP0J1t5qXN3DEKL0ON42Mf5l2I@ss        1\n",
       "https://m.baidu.com/from=1000953f/bd_page_type=1/ssid=0/uid=0/pu=sz%401320_1002%2Cta%40iphone_2_4.4_2_7.3%2Cusm%400/baiduid=9568A5C7123BAE5C5C17A633D5F0A68D/w=0_10_/t=iphone/l=3/tc?ref=www_iphone&lid=        1\n",
       "Name: screen_r, Length: 2089, dtype: int64"
      ]
     },
     "execution_count": 52,
     "metadata": {},
     "output_type": "execute_result"
    }
   ],
   "source": [
    "df.screen_r.value_counts(dropna=True)"
   ]
  },
  {
   "cell_type": "code",
   "execution_count": 53,
   "metadata": {},
   "outputs": [
    {
     "data": {
      "text/plain": [
       "www.baidu.com                             33510\n",
       "                                          16028\n",
       "www.sensorsdata.cn                         2047\n",
       "www.sogou.com                              1743\n",
       "m.baidu.com                                1467\n",
       "36kr.com                                   1453\n",
       "www.google.com.hk                           926\n",
       "www.google.com                              817\n",
       "www.so.com                                  578\n",
       "sensorsdata.cn                              569\n",
       "link.zhihu.com                              447\n",
       "www.google.co.jp                            252\n",
       "cn.bing.com                                 250\n",
       "m.sogou.com                                 214\n",
       "wap.sogou.com                               199\n",
       "www.woshipm.com                             142\n",
       "image.baidu.com                             117\n",
       "class.sanjieke.cn                           112\n",
       "www.itjuzi.com                              108\n",
       "passport.36kr.com                            78\n",
       "googleads.g.doubleclick.net                  76\n",
       "wenku.baidu.com                              72\n",
       "youxuan.baidu.com                            63\n",
       "www.sanjieke.cn                              56\n",
       "www.google.com.ph                            55\n",
       "www.mulumu.com                               54\n",
       "qiye.aliyun.com                              54\n",
       "zhidao.baidu.com                             54\n",
       "mp.weixinbridge.com                          53\n",
       "zhengbangchuangyi.cloud.sensorsdata.cn       49\n",
       "                                          ...  \n",
       "www.tianyancha.com                            4\n",
       "rong.36kr.com                                 3\n",
       "hao.199it.com                                 3\n",
       "wap.baidu.com                                 3\n",
       "www.jiuzhilan.com                             3\n",
       "vincentt.baijia.baidu.com                     3\n",
       "ch.cloud.sensorsdata.cn                       3\n",
       "www.3lian.com                                 3\n",
       "h5.wps.cn                                     2\n",
       "uc.36kr.com                                   2\n",
       "www.xfz.cn                                    2\n",
       "dp.g.doubleclick.net                          2\n",
       "ad.bytedance.net                              2\n",
       "www.google.co.kr                              2\n",
       "datadang.com                                  2\n",
       "huaban.com                                    2\n",
       "geek.csdn.net                                 2\n",
       "sd.int.jumei.com                              2\n",
       "sensors.ymt360.com                            2\n",
       "bohui.cloud.sensorsdata.cn                    2\n",
       "data.gotokeep.com                             2\n",
       "duckduckgo.com                                1\n",
       "sas.foneshare.cn                              1\n",
       "m.sp.sm.cn                                    1\n",
       "data.corp.36kr.com                            1\n",
       "haomaiyi.cloud.sensorsdata.cn                 1\n",
       "lnkd.in                                       1\n",
       "cache.baiducontent.com                        1\n",
       "www.imgeek.org                                1\n",
       "www.google.co.zm                              1\n",
       "Name: screen_rh, Length: 139, dtype: int64"
      ]
     },
     "execution_count": 53,
     "metadata": {},
     "output_type": "execute_result"
    }
   ],
   "source": [
    "df.screen_rh.value_counts(dropna=True)"
   ]
  },
  {
   "cell_type": "markdown",
   "metadata": {},
   "source": [
    "session_page_url extract referrer data to session_r, and further clean the data to session_rh. \n",
    "We can see how the session_r/session_rh classify as empty"
   ]
  },
  {
   "cell_type": "code",
   "execution_count": 54,
   "metadata": {},
   "outputs": [
    {
     "data": {
      "text/plain": [
       "2                          https://sensorsdata.cn/?ch=demo\n",
       "3                          https://sensorsdata.cn/?ch=demo\n",
       "4                          https://sensorsdata.cn/?ch=demo\n",
       "8                          https://sensorsdata.cn/?ch=demo\n",
       "15                    https://www.sensorsdata.cn/demo.html\n",
       "16                    https://www.sensorsdata.cn/demo.html\n",
       "17                         https://sensorsdata.cn/?ch=demo\n",
       "23                         https://sensorsdata.cn/?ch=demo\n",
       "25                         https://sensorsdata.cn/?ch=demo\n",
       "31                    https://www.sensorsdata.cn/demo.html\n",
       "32                         https://sensorsdata.cn/?ch=demo\n",
       "33                    https://www.sensorsdata.cn/demo.html\n",
       "34                    https://www.sensorsdata.cn/demo.html\n",
       "35                    https://www.sensorsdata.cn/demo.html\n",
       "38                    https://www.sensorsdata.cn/demo.html\n",
       "39                    https://www.sensorsdata.cn/demo.html\n",
       "40                    https://www.sensorsdata.cn/demo.html\n",
       "41                    https://www.sensorsdata.cn/demo.html\n",
       "42                    https://www.sensorsdata.cn/demo.html\n",
       "43                    https://www.sensorsdata.cn/demo.html\n",
       "44                         https://sensorsdata.cn/?ch=demo\n",
       "45                         https://sensorsdata.cn/?ch=demo\n",
       "46                         https://sensorsdata.cn/?ch=demo\n",
       "47                    https://www.sensorsdata.cn/demo.html\n",
       "48                    https://www.sensorsdata.cn/demo.html\n",
       "49                    https://www.sensorsdata.cn/demo.html\n",
       "50                    https://www.sensorsdata.cn/demo.html\n",
       "54                    https://www.sensorsdata.cn/demo.html\n",
       "55                    https://www.sensorsdata.cn/demo.html\n",
       "56                    https://www.sensorsdata.cn/demo.html\n",
       "                               ...                        \n",
       "74976                          https://www.sensorsdata.cn/\n",
       "74994                          https://www.sensorsdata.cn/\n",
       "74995                          https://www.sensorsdata.cn/\n",
       "74996                          https://www.sensorsdata.cn/\n",
       "74997                          https://www.sensorsdata.cn/\n",
       "75001                          https://www.sensorsdata.cn/\n",
       "75002                          https://www.sensorsdata.cn/\n",
       "75003                          https://www.sensorsdata.cn/\n",
       "75004                          https://www.sensorsdata.cn/\n",
       "75005                          https://www.sensorsdata.cn/\n",
       "75006                          https://www.sensorsdata.cn/\n",
       "75007                          https://www.sensorsdata.cn/\n",
       "75008                          https://www.sensorsdata.cn/\n",
       "75009                          https://www.sensorsdata.cn/\n",
       "75010                          https://www.sensorsdata.cn/\n",
       "75031                  https://sensorsdata.cn/b-round.html\n",
       "75032                              https://sensorsdata.cn/\n",
       "75040    https://www.sensorsdata.cn/?utm_source=baidu&u...\n",
       "75041    https://www.sensorsdata.cn/?utm_source=baidu&u...\n",
       "75049                          https://www.sensorsdata.cn/\n",
       "75050                          https://www.sensorsdata.cn/\n",
       "75051                          https://www.sensorsdata.cn/\n",
       "75052                          https://www.sensorsdata.cn/\n",
       "75053                          https://www.sensorsdata.cn/\n",
       "75054                          https://www.sensorsdata.cn/\n",
       "75064                          https://www.sensorsdata.cn/\n",
       "75065                          https://www.sensorsdata.cn/\n",
       "75067                          https://www.sensorsdata.cn/\n",
       "75072    https://www.sensorsdata.cn/?utm_source=baidu&u...\n",
       "75075                  https://sensorsdata.cn/b-round.html\n",
       "Name: session_p, Length: 16034, dtype: object"
      ]
     },
     "execution_count": 54,
     "metadata": {},
     "output_type": "execute_result"
    }
   ],
   "source": [
    "df['session_p'].loc[df['screen_r'] == '']"
   ]
  },
  {
   "cell_type": "markdown",
   "metadata": {},
   "source": [
    "most of empty session_r and session_rh are directly from sensordata website, a few have utm_s: baidu"
   ]
  },
  {
   "cell_type": "code",
   "execution_count": 55,
   "metadata": {},
   "outputs": [
    {
     "data": {
      "text/plain": [
       "baidu                 36085\n",
       "NaN                   25090\n",
       "sogou                  1943\n",
       "sales4c                 441\n",
       "wechat                  432\n",
       "google                  393\n",
       "admin                   374\n",
       "sanjieke.cn             273\n",
       "next.36kr.com            68\n",
       "sunwenliang              65\n",
       "mulumu.com               57\n",
       "tianguang                56\n",
       "liuyaozhou               38\n",
       "liujinbo1                38\n",
       "gaoxiaoqing              34\n",
       "zhihu                    34\n",
       "hao.caibaojian.com       33\n",
       "sina                     31\n",
       "admin10                  22\n",
       "toutiao.io               20\n",
       "analytics_test           15\n",
       "shenyulong               15\n",
       "guohongyao               11\n",
       "demo                     11\n",
       "linhuiyong               10\n",
       "yupan                     9\n",
       "email                     9\n",
       "sunjiaqian                7\n",
       "qiye.36kr.com             7\n",
       "gongxinrong               4\n",
       "zhoushunzhou              4\n",
       "hzcaibin                  4\n",
       "23h5                      4\n",
       "diaopeng                  4\n",
       "liquantao                 3\n",
       "wangcheng                 3\n",
       "zhangyuejiao              2\n",
       "lijiong                   2\n",
       "prd_luzhaobo              2\n",
       "xueting                   2\n",
       "dichang                   2\n",
       "Jeremy                    2\n",
       "sidashidai                2\n",
       "liyizi                    2\n",
       "xiangc                    1\n",
       "xiuxin                    1\n",
       "jonson                    1\n",
       "zhangji                   1\n",
       "wangxuelin                1\n",
       "quqianshun                1\n",
       "lingchentian              1\n",
       "huangkan                  1\n",
       "lul                       1\n",
       "fuyu                      1\n",
       "Name: latest_utm_s, dtype: int64"
      ]
     },
     "execution_count": 55,
     "metadata": {},
     "output_type": "execute_result"
    }
   ],
   "source": [
    "df.latest_utm_s.value_counts(dropna=False)"
   ]
  },
  {
   "cell_type": "markdown",
   "metadata": {},
   "source": [
    "latest_utm_s has 25090 empty, they come from sesordata website directly\n",
    "considering the number, we can bin this feature as baidu and not baidu"
   ]
  },
  {
   "cell_type": "code",
   "execution_count": 56,
   "metadata": {},
   "outputs": [
    {
     "data": {
      "text/plain": [
       "cpc                   34623\n",
       "NaN                   25982\n",
       "mcpc                   3255\n",
       "mfeed                   934\n",
       "default                 538\n",
       "answer                  133\n",
       "banner                   67\n",
       "hao.caibaojian.com       33\n",
       "production               27\n",
       "sidonghui                24\n",
       "toutiao.io               20\n",
       "referral                 15\n",
       "youjian                   8\n",
       "lixinya                   6\n",
       "customer_m                5\n",
       "sidashidai                2\n",
       "edm                       1\n",
       "Name: latest_utm_m, dtype: int64"
      ]
     },
     "execution_count": 56,
     "metadata": {},
     "output_type": "execute_result"
    }
   ],
   "source": [
    "df.latest_utm_m.value_counts(dropna=False)"
   ]
  },
  {
   "cell_type": "code",
   "execution_count": 57,
   "metadata": {},
   "outputs": [
    {
     "data": {
      "text/plain": [
       "NaN             26578\n",
       "神策               7529\n",
       "用户画像             5349\n",
       "神策数据             3393\n",
       "数据分析             1419\n",
       "首页-通用词-三图-图1      934\n",
       "大数据分析             813\n",
       "用户分析              812\n",
       "神策分析              677\n",
       "电子商务数据            662\n",
       "聚类分析              511\n",
       "网站运营数据分析          506\n",
       "网站数据统计            494\n",
       "产品数据分析            489\n",
       "用户画像分析            455\n",
       "旅游大数据             411\n",
       "app数据             406\n",
       "数据分析系统            345\n",
       "客户画像              310\n",
       "app数据分析           293\n",
       "用户行为              288\n",
       "app分析             283\n",
       "数据挖掘              279\n",
       "数据可视化             250\n",
       "日志分析系统            248\n",
       "大数据应用             246\n",
       "电商数据分析            243\n",
       "数据分析公司            242\n",
       "数据统计平台            231\n",
       "数据分析平台            227\n",
       "                ...  \n",
       "运营商数据分析             2\n",
       "网站流量统计              2\n",
       "跨屏分析                2\n",
       "数据分析工具有哪些           2\n",
       "精益运营                2\n",
       "用户画像建模              2\n",
       "用户日志分析              2\n",
       "银行用户画像标签            2\n",
       "用户行为挖掘              2\n",
       "数据统计分析系统            2\n",
       "产业大数据分析             2\n",
       "电商精细化运营             2\n",
       "分析运营数据              2\n",
       "多数据整合               2\n",
       "营运数据分析              2\n",
       "数据分析法方法             2\n",
       "金融精准营销              2\n",
       "国内大数据分析             2\n",
       "访客数据分析              2\n",
       "用户行为日志分析            2\n",
       "广告效果监测系统            2\n",
       "神测数据                2\n",
       "用户画像平台              2\n",
       "网站用户行为分析            2\n",
       "数据收集分析系统            2\n",
       "提高转化率               1\n",
       "游戏用户留存率             1\n",
       "互联网行业数据分析           1\n",
       "数据多维分析              1\n",
       "私有化部署               1\n",
       "Name: latest_utm_t, Length: 297, dtype: int64"
      ]
     },
     "execution_count": 57,
     "metadata": {},
     "output_type": "execute_result"
    }
   ],
   "source": [
    "df.latest_utm_t.value_counts(dropna=False)"
   ]
  },
  {
   "cell_type": "code",
   "execution_count": 58,
   "metadata": {},
   "outputs": [
    {
     "data": {
      "text/plain": [
       "NaN                            25770\n",
       "通用词                            22180\n",
       "品牌词                            11929\n",
       "S-通用词                           1917\n",
       "神策-移动推广                          998\n",
       "首页                               934\n",
       "G-通用词                            391\n",
       "用户行为                             285\n",
       "caroline                         133\n",
       "gamedemo                         133\n",
       "vtrack                           118\n",
       "ebizdemo                         109\n",
       "test_fll_gxq_zgq                  73\n",
       "financedemo                       72\n",
       "spring                            68\n",
       "xingshulin_standalone             65\n",
       "golddemo                          60\n",
       "凤巢头条                              57\n",
       "数据分析                              44\n",
       "trial                             34\n",
       "jiedaibao-standalone              29\n",
       "about                             27\n",
       "皇冠子链                              26\n",
       "李彦敏                               24\n",
       "edudemo                           22\n",
       "courses                           21\n",
       "用户画像                              16\n",
       "ch                                13\n",
       "yeshen-cluster                    11\n",
       "zhibodemo                         10\n",
       "ivymobi                           10\n",
       "salestest                          8\n",
       "zhangjunfeng                       8\n",
       "iranshao                           7\n",
       "vipkid-standalone                  7\n",
       "sagreen                            6\n",
       "36kr_standalone                    5\n",
       "caicheng-standalone                5\n",
       "huangbaoche-standalone             5\n",
       "%E9%80%9A%E7%94%A8%E8%AF%8D        4\n",
       "wangba-standalone                  4\n",
       "qiyukf                             4\n",
       "jrq-standalone                     4\n",
       "test-ztx-jsl-fjj                   3\n",
       "8win_standalone                    3\n",
       "jumei-cluster                      2\n",
       "数据采集                               2\n",
       "ymt-cluster                        2\n",
       "通用词\\                               2\n",
       "flowerplus                         2\n",
       "keep-cluster                       2\n",
       "qingchengfit                       2\n",
       "yiwu-standalone                    2\n",
       "kupai-standalone                   2\n",
       "fxiaoke-cluster                    1\n",
       "haomaiyi                           1\n",
       "bqbianli-standalone                1\n",
       "Name: latest_utm_campaign, dtype: int64"
      ]
     },
     "execution_count": 58,
     "metadata": {},
     "output_type": "execute_result"
    }
   ],
   "source": [
    "df.latest_utm_campaign.value_counts(dropna=False)"
   ]
  },
  {
   "cell_type": "code",
   "execution_count": 59,
   "metadata": {},
   "outputs": [
    {
     "data": {
      "text/plain": [
       "NaN                                                                          26910\n",
       "品牌-神策                                                                        11678\n",
       "通用-用户画像                                                                       5529\n",
       "通用-数据分析                                                                       3136\n",
       "通用-数据分析-产品                                                                    1403\n",
       "通用-数据分析-行业                                                                    1242\n",
       "通用-数据分析-运营                                                                    1042\n",
       "通用-用户分析                                                                        983\n",
       "通用词-三图                                                                         934\n",
       "通用-APP运营                                                                       913\n",
       "通用词-M                                                                          795\n",
       "通用-电商运营                                                                        730\n",
       "通用-用户行为分析                                                                      696\n",
       "通用-用户画像-产品                                                                     684\n",
       "通用-数据处理                                                                        658\n",
       "通用-数据可视化                                                                       653\n",
       "通用-数据统计                                                                        589\n",
       "通用-用户留存                                                                        487\n",
       "通用-网站运营                                                                        455\n",
       "通用-大数据-行业                                                                      407\n",
       "通用-数据分析-公司                                                                     388\n",
       "通用-大数据-其他                                                                      384\n",
       "通用-用户画像-功能                                                                     331\n",
       "通用-数据系统                                                                        323\n",
       "品牌-神策-英文                                                                       315\n",
       "通用-用户行为分析-行业                                                                   306\n",
       "通用-多维分析                                                                        250\n",
       "通用-数据统计-产品                                                                     244\n",
       "通用-埋点                                                                          222\n",
       "通用-数据分析-互联网                                                                    212\n",
       "                                                                             ...  \n",
       "通用-用户留存-提升                                                                     142\n",
       "通用-数据分析法                                                                       134\n",
       "通用-大数据-方案                                                                      102\n",
       "通用-用户分析-产品                                                                     102\n",
       "通用-数据分析-方案                                                                      92\n",
       "通用-数据指标                                                                         84\n",
       "通用-数据分析-电商                                                                      64\n",
       "通用-增长黑客                                                                         57\n",
       "通用-可视化分析                                                                        53\n",
       "品牌-神策-产品词                                                                       52\n",
       "通用-用户分群                                                                         37\n",
       "right                                                                           36\n",
       "top                                                                             31\n",
       "通用-大数据-公司                                                                       31\n",
       "通用-数据驱动                                                                         28\n",
       "通用-访客分析                                                                         26\n",
       "通用-渠道追踪                                                                         21\n",
       "通用-个性化营销                                                                        18\n",
       "通用-数据仓库                                                                         18\n",
       "通用-精准营销                                                                         16\n",
       "通用-大数据-产品                                                                       14\n",
       "通用-用户细分                                                                          8\n",
       "品牌-神策-拼音                                                                         8\n",
       "通用-用户画像-应用                                                                       5\n",
       "%E9%80%9A%E7%%20...                                                              5\n",
       "品牌-                                                                              5\n",
       "%E9%80%9A%E7%94%A8-%E7%94%A8%E6%88%B7%E8%A1%8C%E4%B8%BA%E5%88%86%E6%9E%90        4\n",
       "通用-跨屏分析                                                                          2\n",
       "通用-用户行为分析-产品                                                                     2\n",
       "通用-转化优化                                                                          1\n",
       "Name: latest_utm_content, Length: 69, dtype: int64"
      ]
     },
     "execution_count": 59,
     "metadata": {},
     "output_type": "execute_result"
    }
   ],
   "source": [
    "df.latest_utm_content.value_counts(dropna=False)"
   ]
  },
  {
   "cell_type": "code",
   "execution_count": 60,
   "metadata": {},
   "outputs": [],
   "source": [
    "df['source'] = df['latest_utm_s'].fillna('sensordata')"
   ]
  },
  {
   "cell_type": "code",
   "execution_count": 61,
   "metadata": {
    "scrolled": true
   },
   "outputs": [],
   "source": [
    "df.source[~df.source.isin(['baidu','sensordata'])] = 'others'"
   ]
  },
  {
   "cell_type": "code",
   "execution_count": 62,
   "metadata": {},
   "outputs": [
    {
     "data": {
      "text/plain": [
       "baidu         36085\n",
       "sensordata    25090\n",
       "others         4498\n",
       "Name: source, dtype: int64"
      ]
     },
     "execution_count": 62,
     "metadata": {},
     "output_type": "execute_result"
    }
   ],
   "source": [
    "df.source.value_counts(dropna=False)"
   ]
  },
  {
   "cell_type": "code",
   "execution_count": 63,
   "metadata": {},
   "outputs": [],
   "source": [
    "df['medium'] = df['latest_utm_m'].fillna('ukmedium')"
   ]
  },
  {
   "cell_type": "code",
   "execution_count": 64,
   "metadata": {},
   "outputs": [],
   "source": [
    "df.medium[~df.medium.isin(['cpc','ukmedium'])] = 'others'"
   ]
  },
  {
   "cell_type": "code",
   "execution_count": 65,
   "metadata": {},
   "outputs": [
    {
     "data": {
      "text/plain": [
       "cpc         34623\n",
       "ukmedium    25982\n",
       "others       5068\n",
       "Name: medium, dtype: int64"
      ]
     },
     "execution_count": 65,
     "metadata": {},
     "output_type": "execute_result"
    }
   ],
   "source": [
    "df.medium.value_counts(dropna=False)"
   ]
  },
  {
   "cell_type": "code",
   "execution_count": 66,
   "metadata": {},
   "outputs": [],
   "source": [
    "df['content'] = df['latest_utm_content'].fillna('ukcontent')"
   ]
  },
  {
   "cell_type": "code",
   "execution_count": 67,
   "metadata": {},
   "outputs": [],
   "source": [
    "df.content[df.content.str.contains('数据')] = 'data'\n",
    "df.content[~df.content.isin(['data','ukcontent'])] = 'others'"
   ]
  },
  {
   "cell_type": "code",
   "execution_count": 68,
   "metadata": {},
   "outputs": [
    {
     "data": {
      "text/plain": [
       "ukcontent    26910\n",
       "others       26828\n",
       "data         11935\n",
       "Name: content, dtype: int64"
      ]
     },
     "execution_count": 68,
     "metadata": {},
     "output_type": "execute_result"
    }
   ],
   "source": [
    "df.content.value_counts(dropna=False)"
   ]
  },
  {
   "cell_type": "code",
   "execution_count": 69,
   "metadata": {},
   "outputs": [
    {
     "data": {
      "text/plain": [
       "https://www.sensorsdata.cn/demo.html                                                                                                                                                                                                                                                  4377\n",
       "https://www.sensorsdata.cn/                                                                                                                                                                                                                                                           3857\n",
       "https://www.sensorsdata.cn/index.html                                                                                                                                                                                                                                                 1832\n",
       "https://www.sensorsdata.cn/product.html                                                                                                                                                                                                                                               1640\n",
       "https://www.sensorsdata.cn/?utm_source=baidu&utm_medium=cpc&utm_term=%E7%94%A8%E6%88%B7%E7%94%BB%E5%83%8F&utm_content=%E9%80%9A%E7%94%A8%2D%E7%94%A8%E6%88%B7%E7%94%BB%E5%83%8F&utm_campaign=%E9%80%9A%E7%94%A8%E8%AF%8D                                                              1526\n",
       "https://www.sensorsdata.cn/about.html                                                                                                                                                                                                                                                 1485\n",
       "https://sensorsdata.cn/                                                                                                                                                                                                                                                               1318\n",
       "https://www.sensorsdata.cn/?utm_source=baidu&utm_medium=cpc&utm_term=%E7%A5%9E%E7%AD%96&utm_content=%E5%93%81%E7%89%8C%2D%E7%A5%9E%E7%AD%96&utm_campaign=%E5%93%81%E7%89%8C%E8%AF%8D                                                                                                  1235\n",
       "https://sensorsdata.cn/demo.html                                                                                                                                                                                                                                                      1222\n",
       "https://www.sensorsdata.cn/courses/                                                                                                                                                                                                                                                   1063\n",
       "https://sensorsdata.cn/?ch=demo                                                                                                                                                                                                                                                        948\n",
       "https://www.sensorsdata.cn/?utm_source=baidu&utm_medium=cpc&utm_term=%E7%A5%9E%E7%AD%96%E6%95%B0%E6%8D%AE&utm_content=%E5%93%81%E7%89%8C%2D%E7%A5%9E%E7%AD%96&utm_campaign=%E5%93%81%E7%89%8C%E8%AF%8D                                                                                 544\n",
       "https://sensorsdata.cn/index.html                                                                                                                                                                                                                                                      430\n",
       "https://sensorsdata.cn/about.html                                                                                                                                                                                                                                                      361\n",
       "https://www.sensorsdata.cn/?utm_source=sogou&utm_medium=mcpc&utm_term=%e6%95%b0%e6%8d%ae%e5%88%86%e6%9e%90&utm_content=%e9%80%9a%e7%94%a8-%e6%95%b0%e6%8d%ae%e5%88%86%e6%9e%90&utm_campaign=S-%e9%80%9a%e7%94%a8%e8%af%8d                                                              303\n",
       "https://sensorsdata.cn/product.html                                                                                                                                                                                                                                                    291\n",
       "https://www.sensorsdata.cn/courses/index.html                                                                                                                                                                                                                                          272\n",
       "https://www.sensorsdata.cn/?utm_source=baidu&utm_medium=cpc&utm_term=%E7%94%A8%E6%88%B7%E5%88%86%E6%9E%90&utm_content=%E9%80%9A%E7%94%A8%2D%E7%94%A8%E6%88%B7%E5%88%86%E6%9E%90&utm_campaign=%E9%80%9A%E7%94%A8%E8%AF%8D                                                               271\n",
       "https://sensorsdata.cn/courses/                                                                                                                                                                                                                                                        261\n",
       "https://www.sensorsdata.cn/?utm_source=baidu&utm_medium=cpc&utm_term=%E7%94%B5%E5%AD%90%E5%95%86%E5%8A%A1%E6%95%B0%E6%8D%AE&utm_content=%E9%80%9A%E7%94%A8%2D%E7%94%B5%E5%95%86%E8%BF%90%E8%90%A5&utm_campaign=%E9%80%9A%E7%94%A8%E8%AF%8D                                             223\n",
       "https://www.sensorsdata.cn/courses/play.html?v=first                                                                                                                                                                                                                                   215\n",
       "https://www.sensorsdata.cn/?utm_source=baidu&utm_medium=cpc&utm_term=%E5%A4%A7%E6%95%B0%E6%8D%AE%E5%88%86%E6%9E%90&utm_content=%E9%80%9A%E7%94%A8%2D%E6%95%B0%E6%8D%AE%E5%88%86%E6%9E%90&utm_campaign=%E9%80%9A%E7%94%A8%E8%AF%8D                                                      168\n",
       "https://www.sensorsdata.cn/?utm_source=baidu&utm_medium=mfeed&utm_term=%E9%A6%96%E9%A1%B5-%E9%80%9A%E7%94%A8%E8%AF%8D-%E4%B8%89%E5%9B%BE-%E5%9B%BE1&utm_content=%E9%80%9A%E7%94%A8%E8%AF%8D-%E4%B8%89%E5%9B%BE&utm_campaign=%E9%A6%96%E9%A1%B5                                         168\n",
       "https://www.sensorsdata.cn/b-round.html                                                                                                                                                                                                                                                167\n",
       "https://www.sensorsdata.cn/?utm_source=baidu&utm_medium=cpc&utm_term=%E4%BA%A7%E5%93%81%E6%95%B0%E6%8D%AE%E5%88%86%E6%9E%90&utm_content=%E9%80%9A%E7%94%A8%2D%E6%95%B0%E6%8D%AE%E5%88%86%E6%9E%90&utm_campaign=%E9%80%9A%E7%94%A8%E8%AF%8D                                             151\n",
       "https://www.sensorsdata.cn/?utm_source=baidu&utm_medium=cpc&utm_term=%E7%BD%91%E7%AB%99%E6%95%B0%E6%8D%AE%E7%BB%9F%E8%AE%A1&utm_content=%E9%80%9A%E7%94%A8%2D%E6%95%B0%E6%8D%AE%E7%BB%9F%E8%AE%A1&utm_campaign=%E9%80%9A%E7%94%A8%E8%AF%8D                                             137\n",
       "https://www.sensorsdata.cn/?utm_source=baidu&utm_medium=cpc&utm_term=%E7%BD%91%E7%AB%99%E8%BF%90%E8%90%A5%E6%95%B0%E6%8D%AE%E5%88%86%E6%9E%90&utm_content=%E9%80%9A%E7%94%A8%2D%E6%95%B0%E6%8D%AE%E5%88%86%E6%9E%90%2D%E8%BF%90%E8%90%A5&utm_campaign=%E9%80%9A%E7%94%A8%E8%AF%8D      128\n",
       "https://www.sensorsdata.cn/?utm_source=baidu&utm_medium=cpc&utm_term=%E8%81%9A%E7%B1%BB%E5%88%86%E6%9E%90&utm_content=%E9%80%9A%E7%94%A8%2D%E6%95%B0%E6%8D%AE%E5%88%86%E6%9E%90&utm_campaign=%E9%80%9A%E7%94%A8%E8%AF%8D                                                               128\n",
       "https://www.sensorsdata.cn/?utm_source=baidu&utm_medium=cpc&utm_term=%E6%95%B0%E6%8D%AE%E5%88%86%E6%9E%90&utm_content=%E9%80%9A%E7%94%A8%2D%E6%95%B0%E6%8D%AE%E5%88%86%E6%9E%90&utm_campaign=%E9%80%9A%E7%94%A8%E8%AF%8D                                                               128\n",
       "https://www.sensorsdata.cn/?utm_source=baidu&utm_medium=cpc&utm_term=%E6%97%85%E6%B8%B8%E5%A4%A7%E6%95%B0%E6%8D%AE&utm_content=%E9%80%9A%E7%94%A8%2D%E5%A4%A7%E6%95%B0%E6%8D%AE%2D%E8%A1%8C%E4%B8%9A&utm_campaign=%E9%80%9A%E7%94%A8%E8%AF%8D                                          128\n",
       "                                                                                                                                                                                                                                                                                      ... \n",
       "https://www.sensorsdata.cn/?utm_source=baidu&utm_medium=cpc&utm_term=%E6%B5%B7%E7%9B%97%E6%8C%87%E6%A0%87%E6%B3%95&utm_content=%E9%80%9A%E7%94%A8%2D%E6%95%B0%E6%8D%AE%E5%88%86%E6%9E%90%E6%B3%95&utm_campaign=%E9%80%9A%E7%94%A8%E8%AF%8D                                               1\n",
       "https://www.sensorsdata.cn/about.html?utm_source=wechat&utm_medium=cpc&utm_campaign=about&winzoom=1                                                                                                                                                                                      1\n",
       "https://www.sensorsdata.cn/?utm_source=baidu&utm_medium=cpc&utm_term=%E8%AE%BF%E5%AE%A2%E6%95%B0%E6%8D%AE%E5%88%86%E6%9E%90&utm_content=%E9%80%9A%E7%94%A8%2D%E6%95%B0%E6%8D%AE%E5%88%86%E6%9E%90%2D%E8%BF%90%E8%90%A5&utm_campaign=%E9%80%9A%E7%94%A8%E8%AF%8D                          1\n",
       "https://www.sensorsdata.cn/?utm_source=baidu&utm_medium=cpc&utm_term=%E4%BA%92%E8%81%94%E7%BD%91%E4%BA%BA%E7%89%A9%E7%94%BB%E5%83%8F&utm_content=%E9%80%9A%E7%94%A8%2D%E7%94%A8%E6%88%B7%E7%94%BB%E5%83%8F%2D%E8%A1%8C%E4%B8%9A&utm_campaign=%E9%80%9A%E7%94%A8%E8%AF%8D                 1\n",
       "https://www.sensorsdata.cn/?utm_source=baidu&utm_medium=mcpc&utm_term=%E7%BD%91%E7%BB%9C%E8%BF%90%E8%90%A5%E6%95%B0%E6%8D%AE%E5%88%86%E6%9E%90&utm_content=%E9%80%9A%E7%94%A8%2D%E6%95%B0%E6%8D%AE%E5%88%86%E6%9E%90%2D%E8%BF%90%E8%90%A5&utm_campaign=%E9%80%9A%E7%94%A8%E8%AF%8D       1\n",
       "https://www.sensorsdata.cn/?utm_source=baidu&utm_medium=mcpc&utm_campaign=%e7%a5%9e%e7%ad%96-%e7%a7%bb%e5%8a%a8%e6%8e%a8%e5%b9%bf&utm_content=%e9%80%9a%e7%94%a8%e8%af%8d-M&utm_term=%e9%87%91%e8%9e%8d%e5%a4%a7%e6%95%b0%e6%8d%ae%e5%88%86%e6%9e%90                                     1\n",
       "https://www.sensorsdata.cn/?utm_source=sogou&utm_medium=mcpc&utm_term=%e7%94%a8%e6%88%b7%e5%88%86%e6%9e%90&utm_content=%e9%80%9a%e7%94%a8-%e7%94%a8%e6%88%b7%e5%88%86%e6%9e%90&utm_campaign=S-%e9%80%9a%e7%94%a8%e8%af%8d                                                                1\n",
       "https://www.sensorsdata.cn/?utm_source=baidu&utm_medium=cpc&utm_term=%E7%94%A8%E6%88%B7%E8%A1%8C%E4%B8%BA%E6%97%A5%E5%BF%97%E5%88%86%E6%9E%90&utm_content=%E9%80%9A%E7%94%A8%2D%E7%94%A8%E6%88%B7%E8%A1%8C%E4%B8%BA%E5%88%86%E6%9E%90&utm_campaign=%E9%80%9A%E7%94%A8%E8%AF%8D           1\n",
       "https://www.sensorsdata.cn/?utm_source=google&utm_medium=cpc&utm_term=%E6%95%B0%E6%8D%AE%E5%A4%84%E7%90%86&utm_content=%E9%80%9A%E7%94%A8-%E6%95%B0%E6%8D%AE%E5%A4%84%E7%90%86&utm_campaign=G-%E9%80%9A%E7%94%A8%E8%AF%8D                                                                1\n",
       "https://www.sensorsdata.cn/?utm_source=sogou&utm_medium=mcpc&utm_term=%e7%94%a8%e6%88%b7%e8%a1%8c%e4%b8%ba%e5%88%86%e6%9e%90&utm_content=%e9%80%9a%e7%94%a8-%e7%94%a8%e6%88%b7%e8%a1%8c%e4%b8%ba%e5%88%86%e6%9e%90&utm_campaign=S-%e9%80%9a%e7%94%a8%e8%af%8d                            1\n",
       "https://www.sensorsdata.cn/?utm_source=baidu&utm_medium=cpc&utm_term=%e6%89%8b%e6%9c%ba%e7%94%a8%e6%88%b7%e8%a1%8c%e4%b8%ba%e5%88%86%e6%9e%90&utm_content=%e9%80%9a%e7%94%a8-%e6%95%b0%e6%8d%ae%e5%88%86%e6%9e%90-%e4%ba%a7%e5%93%81&utm_campaign=%e9%80%9a%e7%94%a8%e8%af%8d            1\n",
       "https://www.sensorsdata.cn/?utm_source=baidu&utm_medium=cpc&utm_term=%E4%BA%A7%E4%B8%9A%E5%A4%A7%E6%95%B0%E6%8D%AE%E5%88%86%E6%9E%90&utm_content=%E9%80%9A%E7%94%A8%2D%E6%95%B0%E6%8D%AE%E5%88%86%E6%9E%90&utm_campaign=%E9%80%9A%E7%94%A8%E8%AF%8D                                      1\n",
       "https://www.sensorsdata.cn/?utm_source=baidu&utm_medium=cpc&utm_term=%E7%94%B5%E5%95%86%E8%BF%90%E8%90%A5%E6%95%B0%E6%8D%AE%E5%88%86%E6%9E%90&utm_content=%E9%80%9A%E7%94%A8%2D%E6%95%B0%E6%8D%AE%E5%88%86%E6%9E%90%2D%E7%94%B5%E5%95%86&utm_campaign=%E9%80%9A%E7%94%A8%E8%AF%8D        1\n",
       "https://www.sensorsdata.cn/?utm_source=baidu&utm_medium=cpc&utm_term=%E7%A5%9E%E7%AD%96%E5%88%86%E6%9E%90%E5%B7%A5%E5%85%B7&utm_content=%E5%93%81%E7%89%8C%2D%E7%A5%9E%E7%AD%96%2D%E4%BA%A7%E5%93%81%E8%AF%8D&utm_campaign=%E5%93%81%E7%89%8C%E8%AF%8D                                   1\n",
       "https://www.sensorsdata.cn/?utm_source=baidu&utm_medium=cpc&utm_term=%E5%A4%9A%E6%95%B0%E6%8D%AE%E6%95%B4%E5%90%88&utm_content=%E9%80%9A%E7%94%A8%2D%E5%A4%9A%E7%BB%B4%E5%88%86%E6%9E%90&utm_campaign=%E9%80%9A%E7%94%A8%E8%AF%8D                                                        1\n",
       "https://www.sensorsdata.cn/?utm_source=sogou&utm_medium=mcpc&utm_term=%e6%95%b0%e6%8d%ae%e5%88%86%e6%9e%90%e5%b7%a5%e5%85%b7&utm_content=%e9%80%9a%e7%94%a8-%e6%95%b0%e6%8d%ae%e5%88%86%e6%9e%90-%e4%ba%a7%e5%93%81&utm_campaign=S-%e9%80%9a%e7%94%a8%e8%af%8d                           1\n",
       "https://www.sensorsdata.cn/?utm_source=baidu&utm_medium=cpc&utm_term=%E5%88%86%E6%9E%90%E8%BF%90%E8%90%A5%E6%95%B0%E6%8D%AE&utm_content=%E9%80%9A%E7%94%A8%2D%E7%BD%91%E7%AB%99%E8%BF%90%E8%90%A5&utm_campaign=%E9%80%9A%E7%94%A8%E8%AF%8D                                               1\n",
       "https://www.sensorsdata.cn/?utm_source=google&utm_medium=cpc&utm_term=%E5%A4%9A%E7%BB%B4%E5%88%86%E6%9E%90&utm_content=%E9%80%9A%E7%94%A8-%E5%A4%9A%E7%BB%B4%E5%88%86%E6%9E%90&utm_campaign=G-%E9%80%9A%E7%94%A8%E8%AF%8D                                                                1\n",
       "https://www.sensorsdata.cn/?utm_source=baidu&utm_medium=cpc&utm_term=%E7%94%A8%E6%88%B7%E7%94%BB%E5%83%8F%E5%B9%B3%E5%8F%B0&utm_content=%E9%80%9A%E7%94%A8%2D%E7%94%A8%E6%88%B7%E7%94%BB%E5%83%8F%2D%E4%BA%A7%E5%93%81&utm_campaign=%E9%80%9A%E7%94%A8%E8%AF%8D                          1\n",
       "https://www.sensorsdata.cn/?utm_source=baidu&utm_medium=cpc&utm_term=%E7%99%BD%E9%A2%86%E7%94%A8%E6%88%B7%E7%94%BB%E5%83%8F&utm_content=%E9%80%9A%E7%94%A8%2D%E7%94%A8%E6%88%B7%E7%94%BB%E5%83%8F%2D%E8%A1%8C%E4%B8%9A&utm_campaign=%E9%80%9A%E7%94%A8%E8%AF%8D                          1\n",
       "https://www.sensorsdata.cn/?utm_source=baidu&utm_medium=cpc&utm_term=%e7%bd%91%e7%ab%99%e6%b5%81%e9%87%8f%e7%bb%9f%e8%ae%a1&utm_content=%e9%80%9a%e7%94%a8-%e7%bd%91%e7%ab%99%e8%bf%90%e8%90%a5&utm_campaign=%e9%80%9a%e7%94%a8%e8%af%8d                                                 1\n",
       "https://www.sensorsdata.cn/?utm_source=baidu&utm_medium=mcpc&utm_campaign=%e7%a5%9e%e7%ad%96-%e7%a7%bb%e5%8a%a8%e6%8e%a8%e5%b9%bf&utm_content=%e9%80%9a%e7%94%a8%e8%af%8d-M&utm_term=%e6%95%b0%e6%8d%ae%e5%9f%8b%e7%82%b9                                                                1\n",
       "https://sensorsdata.cn/?utm_source=sanjieke.cn&winzoom=1                                                                                                                                                                                                                                 1\n",
       "https://www.sensorsdata.cn/?utm_source=baidu&utm_medium=cpc&utm_term=%E5%9B%BD%E5%86%85%E6%95%B0%E6%8D%AE%E5%8F%AF%E8%A7%86%E5%8C%96%E5%85%AC%E5%8F%B8&utm_content=%E9%80%9A%E7%94%A8%2D%E6%95%B0%E6%8D%AE%E5%8F%AF%E8%A7%86%E5%8C%96&utm_campaign=%E9%80%9A%E7%94%A8%E8%AF%8D           1\n",
       "https://www.sensorsdata.cn/?utm_source=baidu&utm_medium=cpc&utm_term=%E9%93%B6%E8%A1%8C%E7%94%A8%E6%88%B7%E7%94%BB%E5%83%8F%E6%A0%87%E7%AD%BE&utm_content=%E9%80%9A%E7%94%A8%2D%E7%94%A8%E6%88%B7%E7%94%BB%E5%83%8F%2D%E8%A1%8C%E4%B8%9A&utm_campaign=%E9%80%9A%E7%94%A8%E8%AF%8D        1\n",
       "https://www.sensorsdata.cn/?utm_source=baidu&utm_medium=cpc&utm_term=%E6%97%A5%E5%BF%97%E5%88%86%E6%9E%90%E7%B3%BB%E7%BB%9F&utm_content=%E9%80%9A%E7%94%A8-%E6%95%B0%E6%8D%AE%E7%B3%BB%E7%BB%9F&utm_campaign=%E9%80%9A%E7%94%A8%E8%AF%8D                                                 1\n",
       "https://www.sensorsdata.cn/?utm_source=baidu&utm_medium=cpc&utm_campaign=%e7%a5%9e%e7%ad%96-%e7%a7%bb%e5%8a%a8%e6%8e%a8%e5%b9%bf&utm_content=%e9%80%9a%e7%94%a8%e8%af%8d-M&utm_term=%e7%94%a8%e6%88%b7%e7%94%bb%e5%83%8f                                                                 1\n",
       "https://www.sensorsdata.cn/?utm_source=baidu&utm_medium=cpc&utm_term=%E8%90%A5%E9%94%80%E4%B8%AA%E6%80%A7%E5%8C%96&utm_content=%E9%80%9A%E7%94%A8%2D%E4%B8%AA%E6%80%A7%E5%8C%96%E8%90%A5%E9%94%80&utm_campaign=%E9%80%9A%E7%94%A8%E8%AF%8D                                               1\n",
       "https://www.sensorsdata.cn/?utm_source=baidu&utm_medium=cpc&utm_term=%E6%95%B0%E6%8D%AE%E7%B3%BB%E7%BB%9F%E5%BB%BA%E8%AE%BE&utm_content=%E9%80%9A%E7%94%A8%2D%E6%95%B0%E6%8D%AE%E7%B3%BB%E7%BB%9F&utm_campaign=%E9%80%9A%E7%94%A8%E8%AF%8D                                               1\n",
       "https://www.sensorsdata.cn/?utm_source=sogou&utm_medium=mcpc&utm_term=%e8%81%9a%e7%b1%bb%e5%88%86%e6%9e%90&utm_content=%e9%80%9a%e7%94%a8-%e6%95%b0%e6%8d%ae%e5%88%86%e6%9e%90&utm_campaign=S-%e9%80%9a%e7%94%a8%e8%af%8d                                                                1\n",
       "Name: pageUrl, Length: 500, dtype: int64"
      ]
     },
     "execution_count": 69,
     "metadata": {},
     "output_type": "execute_result"
    }
   ],
   "source": [
    "df.pageUrl.value_counts(dropna=True)"
   ]
  },
  {
   "cell_type": "code",
   "execution_count": 70,
   "metadata": {},
   "outputs": [
    {
     "data": {
      "text/plain": [
       "NaN     49183\n",
       " 1.0    10679\n",
       " 2.0     4032\n",
       " 3.0      898\n",
       " 4.0      881\n",
       "Name: pageP, dtype: int64"
      ]
     },
     "execution_count": 70,
     "metadata": {},
     "output_type": "execute_result"
    }
   ],
   "source": [
    "df.pageP.value_counts(dropna=False)"
   ]
  },
  {
   "cell_type": "code",
   "execution_count": 71,
   "metadata": {},
   "outputs": [
    {
     "data": {
      "text/plain": [
       "index_leave    881\n",
       "Name: event, dtype: int64"
      ]
     },
     "execution_count": 71,
     "metadata": {},
     "output_type": "execute_result"
    }
   ],
   "source": [
    "df['event'].loc[df['pageP'] == 4.0].value_counts(dropna=False)"
   ]
  },
  {
   "cell_type": "markdown",
   "metadata": {},
   "source": [
    "PageUrl and PageP has the same information: which specific page interested"
   ]
  },
  {
   "cell_type": "code",
   "execution_count": 72,
   "metadata": {},
   "outputs": [
    {
     "data": {
      "text/plain": [
       "count    1.672000e+04\n",
       "mean     6.681742e+03\n",
       "std      5.343221e+04\n",
       "min      3.300000e-02\n",
       "25%      5.390750e+00\n",
       "50%      2.057950e+01\n",
       "75%      2.261860e+02\n",
       "max      2.918014e+06\n",
       "Name: pageS, dtype: float64"
      ]
     },
     "execution_count": 72,
     "metadata": {},
     "output_type": "execute_result"
    }
   ],
   "source": [
    "df.pageS.describe()"
   ]
  },
  {
   "cell_type": "markdown",
   "metadata": {},
   "source": [
    "Total number of rows in btnclick: 13866; posible features with not too much null values.\n",
    "latest_r                  78\n",
    "latest_rh                 78\n",
    "latest_utm_campaign     5227\n",
    "latest_utm_content      5451\n",
    "latest_utm_m            5263\n",
    "latest_utm_s            5069\n",
    "latest_utm_t            5383\n",
    "page                    2150\n",
    "pageUrl                    0\n",
    "screen_h                   0\n",
    "screen_r                   0\n",
    "screen_rh                  0\n",
    "screen_w                   0\n",
    "session_p                  2"
   ]
  },
  {
   "cell_type": "code",
   "execution_count": 73,
   "metadata": {},
   "outputs": [
    {
     "data": {
      "text/plain": [
       "index            7964\n",
       "demo             2242\n",
       "NaN              2150\n",
       "about             816\n",
       "courses_index     694\n",
       "Name: page, dtype: int64"
      ]
     },
     "execution_count": 73,
     "metadata": {},
     "output_type": "execute_result"
    }
   ],
   "source": [
    "df_btnclick.page.value_counts(dropna=False)"
   ]
  },
  {
   "cell_type": "code",
   "execution_count": 74,
   "metadata": {},
   "outputs": [
    {
     "data": {
      "text/plain": [
       "787"
      ]
     },
     "execution_count": 74,
     "metadata": {},
     "output_type": "execute_result"
    }
   ],
   "source": [
    "df_btnclick.loc[df_btnclick['page']=='demo'].dist_id.nunique()"
   ]
  },
  {
   "cell_type": "code",
   "execution_count": 75,
   "metadata": {},
   "outputs": [
    {
     "data": {
      "text/plain": [
       "request     2967\n",
       "demo        2783\n",
       "document    2067\n",
       "product     1942\n",
       "b-round     1245\n",
       "about        925\n",
       "blog         803\n",
       "viedo        550\n",
       "logo         508\n",
       "mail          76\n",
       "Name: name, dtype: int64"
      ]
     },
     "execution_count": 75,
     "metadata": {},
     "output_type": "execute_result"
    }
   ],
   "source": [
    "df_btnclick.name.value_counts(dropna=False)"
   ]
  },
  {
   "cell_type": "code",
   "execution_count": 76,
   "metadata": {},
   "outputs": [
    {
     "data": {
      "text/plain": [
       "1268"
      ]
     },
     "execution_count": 76,
     "metadata": {},
     "output_type": "execute_result"
    }
   ],
   "source": [
    "df_btnclick.loc[df_btnclick['name']=='demo'].dist_id.nunique()"
   ]
  },
  {
   "cell_type": "markdown",
   "metadata": {},
   "source": [
    "on the demo page, there were around 500 users did not click on anything or continue"
   ]
  },
  {
   "cell_type": "markdown",
   "metadata": {},
   "source": [
    "btnclick has 2242 demo in page and 2783 demo in name, while demo leave has 3411 items"
   ]
  },
  {
   "cell_type": "code",
   "execution_count": 77,
   "metadata": {},
   "outputs": [],
   "source": [
    "df_cts = df_btnclick[~df_btnclick.dist_id.isin(df_send.dist_id)].loc[df_btnclick['page']=='demo']"
   ]
  },
  {
   "cell_type": "code",
   "execution_count": 78,
   "metadata": {},
   "outputs": [
    {
     "data": {
      "text/plain": [
       "479"
      ]
     },
     "execution_count": 78,
     "metadata": {},
     "output_type": "execute_result"
    }
   ],
   "source": [
    "df_cts.dist_id.nunique()"
   ]
  },
  {
   "cell_type": "code",
   "execution_count": 79,
   "metadata": {},
   "outputs": [],
   "source": [
    "df_stc = df_send[~df_send.dist_id.isin(df_btnclick.loc[df_btnclick['page']=='demo'].dist_id)]"
   ]
  },
  {
   "cell_type": "code",
   "execution_count": 80,
   "metadata": {},
   "outputs": [
    {
     "data": {
      "text/plain": [
       "193"
      ]
     },
     "execution_count": 80,
     "metadata": {},
     "output_type": "execute_result"
    }
   ],
   "source": [
    "df_stc.dist_id.nunique()"
   ]
  },
  {
   "cell_type": "markdown",
   "metadata": {},
   "source": [
    "478 users click on demo but do not register\n",
    "193 users register but never click on demo"
   ]
  },
  {
   "cell_type": "code",
   "execution_count": 81,
   "metadata": {},
   "outputs": [],
   "source": [
    "df_dts = df_dleave[~df_dleave.dist_id.isin(df_send.dist_id)]"
   ]
  },
  {
   "cell_type": "code",
   "execution_count": 82,
   "metadata": {},
   "outputs": [
    {
     "data": {
      "text/plain": [
       "1027"
      ]
     },
     "execution_count": 82,
     "metadata": {},
     "output_type": "execute_result"
    }
   ],
   "source": [
    "df_dts.dist_id.nunique()"
   ]
  },
  {
   "cell_type": "code",
   "execution_count": 83,
   "metadata": {},
   "outputs": [],
   "source": [
    "df_std = df_send[~df_send.dist_id.isin(df_dleave.dist_id)]"
   ]
  },
  {
   "cell_type": "code",
   "execution_count": 84,
   "metadata": {},
   "outputs": [
    {
     "data": {
      "text/plain": [
       "92"
      ]
     },
     "execution_count": 84,
     "metadata": {},
     "output_type": "execute_result"
    }
   ],
   "source": [
    "df_std.dist_id.nunique()"
   ]
  },
  {
   "cell_type": "markdown",
   "metadata": {},
   "source": [
    "1027 users go to demo but do not register\n",
    "92 users register but never go to demo"
   ]
  },
  {
   "cell_type": "markdown",
   "metadata": {},
   "source": [
    "First, some people don't click on demo page: have no interst first\n",
    "Second, some click on demo but decide not to continue to register"
   ]
  },
  {
   "cell_type": "markdown",
   "metadata": {},
   "source": [
    "Total number of rows in page view: 32620"
   ]
  },
  {
   "cell_type": "code",
   "execution_count": 85,
   "metadata": {},
   "outputs": [
    {
     "data": {
      "text/plain": [
       "https://www.sensorsdata.cn/demo.html                                                                                                                                                                                                                                                3231\n",
       "https://www.sensorsdata.cn/                                                                                                                                                                                                                                                         2810\n",
       "https://www.sensorsdata.cn/product.html                                                                                                                                                                                                                                             2118\n",
       "https://www.sensorsdata.cn/manual/                                                                                                                                                                                                                                                  1921\n",
       "https://www.sensorsdata.cn/b-round.html                                                                                                                                                                                                                                             1287\n",
       "https://www.sensorsdata.cn/index.html                                                                                                                                                                                                                                               1164\n",
       "https://www.sensorsdata.cn/?utm_source=baidu&utm_medium=cpc&utm_term=%E7%94%A8%E6%88%B7%E7%94%BB%E5%83%8F&utm_content=%E9%80%9A%E7%94%A8%2D%E7%94%A8%E6%88%B7%E7%94%BB%E5%83%8F&utm_campaign=%E9%80%9A%E7%94%A8%E8%AF%8D                                                            1025\n",
       "https://www.sensorsdata.cn/about.html                                                                                                                                                                                                                                                950\n",
       "https://sensorsdata.cn/                                                                                                                                                                                                                                                              927\n",
       "https://sensorsdata.cn/demo.html                                                                                                                                                                                                                                                     886\n",
       "https://www.sensorsdata.cn/manual/index.html                                                                                                                                                                                                                                         800\n",
       "https://www.sensorsdata.cn/courses/                                                                                                                                                                                                                                                  724\n",
       "https://www.sensorsdata.cn/?utm_source=baidu&utm_medium=cpc&utm_term=%E7%A5%9E%E7%AD%96&utm_content=%E5%93%81%E7%89%8C%2D%E7%A5%9E%E7%AD%96&utm_campaign=%E5%93%81%E7%89%8C%E8%AF%8D                                                                                                 667\n",
       "https://www.sensorsdata.cn/?utm_source=baidu&utm_medium=mfeed&utm_term=%E9%A6%96%E9%A1%B5-%E9%80%9A%E7%94%A8%E8%AF%8D-%E4%B8%89%E5%9B%BE-%E5%9B%BE1&utm_content=%E9%80%9A%E7%94%A8%E8%AF%8D-%E4%B8%89%E5%9B%BE&utm_campaign=%E9%A6%96%E9%A1%B5                                       603\n",
       "https://sensorsdata.cn/b-round.html                                                                                                                                                                                                                                                  453\n",
       "https://sensorsdata.cn/?ch=demo                                                                                                                                                                                                                                                      448\n",
       "https://sensorsdata.cn/manual/                                                                                                                                                                                                                                                       399\n",
       "https://sensorsdata.cn/product.html                                                                                                                                                                                                                                                  346\n",
       "https://www.sensorsdata.cn/?utm_source=sogou&utm_medium=mcpc&utm_term=%e6%95%b0%e6%8d%ae%e5%88%86%e6%9e%90&utm_content=%e9%80%9a%e7%94%a8-%e6%95%b0%e6%8d%ae%e5%88%86%e6%9e%90&utm_campaign=S-%e9%80%9a%e7%94%a8%e8%af%8d                                                            318\n",
       "https://www.sensorsdata.cn/?utm_source=baidu&utm_medium=cpc&utm_term=%E7%A5%9E%E7%AD%96%E6%95%B0%E6%8D%AE&utm_content=%E5%93%81%E7%89%8C%2D%E7%A5%9E%E7%AD%96&utm_campaign=%E5%93%81%E7%89%8C%E8%AF%8D                                                                               310\n",
       "https://sensorsdata.cn/index.html                                                                                                                                                                                                                                                    277\n",
       "https://www.sensorsdata.cn/manual/#                                                                                                                                                                                                                                                  263\n",
       "https://www.sensorsdata.cn/courses/play.html?v=first                                                                                                                                                                                                                                 235\n",
       "https://www.sensorsdata.cn/courses/index.html                                                                                                                                                                                                                                        231\n",
       "https://sensorsdata.cn/about.html                                                                                                                                                                                                                                                    216\n",
       "https://www.sensorsdata.cn/?utm_source=baidu&utm_medium=cpc&utm_term=%E7%94%A8%E6%88%B7%E5%88%86%E6%9E%90&utm_content=%E9%80%9A%E7%94%A8%2D%E7%94%A8%E6%88%B7%E5%88%86%E6%9E%90&utm_campaign=%E9%80%9A%E7%94%A8%E8%AF%8D                                                             198\n",
       "https://www.sensorsdata.cn/?utm_source=baidu&utm_medium=cpc&utm_term=%E7%94%B5%E5%AD%90%E5%95%86%E5%8A%A1%E6%95%B0%E6%8D%AE&utm_content=%E9%80%9A%E7%94%A8%2D%E7%94%B5%E5%95%86%E8%BF%90%E8%90%A5&utm_campaign=%E9%80%9A%E7%94%A8%E8%AF%8D                                           166\n",
       "https://sensorsdata.cn/courses/                                                                                                                                                                                                                                                      163\n",
       "https://www.sensorsdata.cn/courses/play.html?v=segmentiont                                                                                                                                                                                                                           137\n",
       "http://localhost:8080/b-round.html                                                                                                                                                                                                                                                   137\n",
       "                                                                                                                                                                                                                                                                                    ... \n",
       "https://www.sensorsdata.cn/?utm_source=baidu&utm_medium=cpc&utm_term=%E7%BD%91%E7%AB%99%E6%95%B0%E6%8D%AE%E5%88%86%E6%9E%90&utm_campaign=%E6%95%B0%E6%8D%AE%E5%88%86%E6%9E%90                                                                                                          1\n",
       "https://www.sensorsdata.cn/?utm_source=sogou&utm_medium=mcpc&utm_term=%e7%94%a8%e6%88%b7%e6%95%b0%e6%8d%ae&utm_content=%e9%80%9a%e7%94%a8-%e7%94%a8%e6%88%b7%e5%88%86%e6%9e%90&utm_campaign=S-%e9%80%9a%e7%94%a8%e8%af%8d                                                              1\n",
       "https://www.sensorsdata.cn/manual/event_ana.html#d-                                                                                                                                                                                                                                    1\n",
       "https://www.sensorsdata.cn/manual/vtrack_intro.html#11-连接管理界面                                                                                                                                                                                                                          1\n",
       "https://www.sensorsdata.cn/manual/edu_case_core_measure.html#                                                                                                                                                                                                                          1\n",
       "file:///D:/x-certificate!/Sensors%20Analytics%20%E4%BD%BF%E7%94%A8%E6%89%8B%E5%86%8C/Sensors%20Analytics%20%E4%BD%BF%E7%94%A8%E6%89%8B%E5%86%8C/user_identify.html                                                                                                                     1\n",
       "https://www.sensorsdata.cn/?utm_source=baidu&utm_medium=cpc&utm_term=%E7%94%A8%E6%88%B7%E8%A1%8C%E4%B8%BA%E6%8C%96%E6%8E%98&utm_content=%E9%80%9A%E7%94%A8%2D%E7%94%A8%E6%88%B7%E8%A1%8C%E4%B8%BA%E5%88%86%E6%9E%90&utm_campaign=%E9%80%9A%E7%94%A8%E8%AF%8D                           1\n",
       "https://sensorsdata.cn/manual/func_api.html?winzoom=1                                                                                                                                                                                                                                  1\n",
       "https://www.sensorsdata.cn/?utm_source=baidu&utm_medium=cpc&utm_term=%E7%9B%B4%E6%92%AD%E5%B9%B3%E5%8F%B0%E6%95%B0%E6%8D%AE%E5%88%86%E6%9E%90&utm_content=%E9%80%9A%E7%94%A8-%E6%95%B0%E6%8D%AE%E5%88%86%E6%9E%90-%E8%A1%8C%E4%B8%9A&utm_campaign=%E9%80%9A%E7%94%A8%E8%AF%8D          1\n",
       "https://www.sensorsdata.cn/?utm_source=sogou&utm_medium=mcpc&utm_term=%e8%bf%90%e8%90%a5%e6%95%b0%e6%8d%ae%e5%88%86%e6%9e%90%e5%b7%a5%e5%85%b7&utm_content=%e9%80%9a%e7%94%a8-%e6%95%b0%e6%8d%ae%e5%88%86%e6%9e%90-%e4%ba%a7%e5%93%81&utm_campaign=S-%e9%80%9a%e7%94%a8%e8%af%8d       1\n",
       "https://www.sensorsdata.cn/manual/debug_mode.html#                                                                                                                                                                                                                                     1\n",
       "https://www.sensorsdata.cn/?utm_source=sogou&utm_medium=mcpc&utm_term=%e6%95%b0%e6%8d%ae%e5%ad%98%e5%82%a8&utm_content=%e9%80%9a%e7%94%a8-%e6%95%b0%e6%8d%ae%e5%a4%84%e7%90%86&utm_campaign=S-%e9%80%9a%e7%94%a8%e8%af%8d                                                              1\n",
       "https://www.sensorsdata.cn/?utm_source=baidu&utm_medium=cpc&utm_term=%E7%99%BD%E9%A2%86%E7%94%A8%E6%88%B7%E7%94%BB%E5%83%8F&utm_content=%E9%80%9A%E7%94%A8%2D%E7%94%A8%E6%88%B7%E7%94%BB%E5%83%8F%2D%E8%A1%8C%E4%B8%9A&utm_campaign=%E9%80%9A%E7%94%A8%E8%AF%8D                        1\n",
       "https://www.sensorsdata.cn/?utm_source=sogou&utm_medium=mcpc&utm_term=%e5%a4%a7%e6%95%b0%e6%8d%ae%e5%88%86%e6%9e%90&utm_content=%e9%80%9a%e7%94%a8-%e6%95%b0%e6%8d%ae%e5%88%86%e6%9e%90&utm_campaign=S-%e9%80%9a%e7%94%a8%e8%af%8d&from=groupmessage&isappinstalled=1                  1\n",
       "https://www.sensorsdata.cn/manual/sdk_manual.html?winzoom=1                                                                                                                                                                                                                            1\n",
       "https://www.sensorsdata.cn/?utm_source=baidu&utm_medium=cpc&utm_term=%E5%B9%BF%E5%91%8A%E6%95%88%E6%9E%9C%E7%9B%91%E6%B5%8B&utm_content=%E9%80%9A%E7%94%A8-%E5%B9%BF%E5%91%8A%E4%BC%98%E5%8C%96&utm_campaign=%E9%80%9A%E7%94%A8%E8%AF%8D                                               1\n",
       "https://sensorsdata.cn/manual/track_manager.html                                                                                                                                                                                                                                       1\n",
       "https://www.sensorsdata.cn/share/share.html?utm_campaign=keep-cluster&utm_medium=default&utm_source=lingchentian                                                                                                                                                                       1\n",
       "https://www.sensorsdata.cn/?utm_source=baidu&utm_medium=mcpc&utm_campaign=%e7%a5%9e%e7%ad%96-%e7%a7%bb%e5%8a%a8%e6%8e%a8%e5%b9%bf&utm_content=%e9%80%9a%e7%94%a8%e8%af%8d-M&utm_term=%e7%94%a8%e6%88%b7%e6%95%b0%e6%8d%ae%e5%88%86%e6%9e%90                                            1\n",
       "https://www.sensorsdata.cn/?utm_source=baidu&utm_medium=cpc&utm_term=%e7%bd%91%e7%ab%99%e6%b5%81%e9%87%8f%e7%bb%9f%e8%ae%a1&utm_content=%e9%80%9a%e7%94%a8-%e7%bd%91%e7%ab%99%e8%bf%90%e8%90%a5&utm_campaign=%e9%80%9a%e7%94%a8%e8%af%8d                                               1\n",
       "https://www.sensorsdata.cn/?utm_source=baidu&utm_medium=cpc&utm_term=%E7%A5%9E%E7%AD%96%E5%88%86%E6%9E%90&utm_content=%E5%93%81%E7%89%8C-%E7%A5%9E%E7%AD%96&utm_campaign=%E5%93%81%E7%89%8C%E8%AF%8D                                                                                   1\n",
       "https://www.sensorsdata.cn/share/sa_recommend.html?utm_campaign=jrq-standalone&utm_medium=production&utm_source=zhoushunzhou                                                                                                                                                           1\n",
       "http://www.sensorsdata.cn/demo.html                                                                                                                                                                                                                                                    1\n",
       "https://sensorsdata.cn/manual/user_ana.html                                                                                                                                                                                                                                            1\n",
       "https://www.sensorsdata.cn/?utm_source=sogou&utm_medium=mcpc&utm_term=%e6%8f%90%e9%ab%98%e8%bd%ac%e5%8c%96%e7%8e%87&utm_content=%e9%80%9a%e7%94%a8-%e8%bd%ac%e5%8c%96%e4%bc%98%e5%8c%96&utm_campaign=S-%e9%80%9a%e7%94%a8%e8%af%8d                                                     1\n",
       "https://www.sensorsdata.cn/?utm_source=baidu&utm_medium=cpc&utm_term=%E7%94%A8%E6%88%B7%E7%95%99%E5%AD%98%E7%8E%87&utm_content=%E9%80%9A%E7%94%A8-%E7%94%A8%E6%88%B7%E7%95%99%E5%AD%98&utm_campaign=%E9%80%9A%E7%94%A8%E8%AF%8D                                                        1\n",
       "file:///E:/www.sensorsdata.cn/manual/java_sdk_demo.html                                                                                                                                                                                                                                1\n",
       "https://www.sensorsdata.cn/?utm_source=baidu&utm_medium=mcpc&utm_term=%E4%BA%A7%E5%93%81%E6%95%B0%E6%8D%AE%E5%88%86%E6%9E%90&utm_content=%E9%80%9A%E7%94%A8-%E6%95%B0%E6%8D%AE%E5%88%86%E6%9E%90&utm_campaign=%E9%80%9A%E7%94%A8%E8%AF%8D                                              1\n",
       "https://www.sensorsdata.cn/?utm_source=sogou&utm_medium=mcpc&utm_term=%e6%95%b0%e6%8d%ae%e4%bb%93%e5%ba%93&utm_content=%e9%80%9a%e7%94%a8-%e6%95%b0%e6%8d%ae%e4%bb%93%e5%ba%93&utm_campaign=S-%e9%80%9a%e7%94%a8%e8%af%8d                                                              1\n",
       "https://www.sensorsdata.cn/manual/data_model.html#2-event-%E5%AE%9E%E4%BD%93                                                                                                                                                                                                           1\n",
       "Name: url, Length: 1153, dtype: int64"
      ]
     },
     "execution_count": 85,
     "metadata": {},
     "output_type": "execute_result"
    }
   ],
   "source": [
    "df_view.url.value_counts(dropna=True)"
   ]
  },
  {
   "cell_type": "code",
   "execution_count": 86,
   "metadata": {},
   "outputs": [
    {
     "data": {
      "text/plain": [
       "/                                                                                                                                                                     12243\n",
       "/demo.html                                                                                                                                                             4183\n",
       "/manual/                                                                                                                                                               2634\n",
       "/product.html                                                                                                                                                          2473\n",
       "/b-round.html                                                                                                                                                          1907\n",
       "/index.html                                                                                                                                                            1474\n",
       "/about.html                                                                                                                                                            1186\n",
       "/manual/index.html                                                                                                                                                      917\n",
       "/courses/                                                                                                                                                               900\n",
       "/courses/play.html                                                                                                                                                      832\n",
       "/manual/data_model.html                                                                                                                                                 232\n",
       "/courses/index.html                                                                                                                                                     231\n",
       "/manual/js_sdk.html                                                                                                                                                     216\n",
       "/manual/data_schema.html                                                                                                                                                156\n",
       "/manual/event_ana.html                                                                                                                                                  151\n",
       "/tools/url_create.html                                                                                                                                                  147\n",
       "/manual/vtrack_intro.html                                                                                                                                               147\n",
       "/manual/android_sdk.html                                                                                                                                                131\n",
       "/manual/ios_sdk.html                                                                                                                                                    120\n",
       "/manual/eb_case.html                                                                                                                                                    119\n",
       "/manual/data_import.html                                                                                                                                                112\n",
       "/tools/code_auto/                                                                                                                                                       110\n",
       "/manual/use_steps.html                                                                                                                                                  101\n",
       "/D:/xampp/htdocs/%E5%BE%AE%E6%96%AF%E8%AF%BA%E7%A7%91%E6%8A%80%E6%9C%89%E9%99%90%E5%85%AC%E5%8F%B8%E5%AE%98%E7%BD%91/%E7%A8%8B%E5%BA%8F/data.html                        98\n",
       "/manual/user_identify.html                                                                                                                                               98\n",
       "/manual/funnel.html                                                                                                                                                      76\n",
       "/manual/user_segmentation.html                                                                                                                                           76\n",
       "/manual/java_sdk.html                                                                                                                                                    70\n",
       "/manual/retention.html                                                                                                                                                   62\n",
       "/manual/query.html                                                                                                                                                       57\n",
       "                                                                                                                                                                      ...  \n",
       "/D:/x-certificate!/Sensors%20Analytics%20%E4%BD%BF%E7%94%A8%E6%89%8B%E5%86%8C/Sensors%20Analytics%20%E4%BD%BF%E7%94%A8%E6%89%8B%E5%86%8C/about.html                       1\n",
       "/basic_term.html                                                                                                                                                          1\n",
       "/D:/x-certificate!/Sensors%20Analytics%20%E4%BD%BF%E7%94%A8%E6%89%8B%E5%86%8C/Sensors%20Analytics%20%E4%BD%BF%E7%94%A8%E6%89%8B%E5%86%8C/query.html                       1\n",
       "/D:/x-certificate!/Sensors%20Analytics%20%E4%BD%BF%E7%94%A8%E6%89%8B%E5%86%8C/Sensors%20Analytics%20%E4%BD%BF%E7%94%A8%E6%89%8B%E5%86%8C/event_ana.html                   1\n",
       "/manual/android_sdk_faq.html                                                                                                                                              1\n",
       "/funnel.html                                                                                                                                                              1\n",
       "/manual/b2b_homepage_case_data_feed.html                                                                                                                                  1\n",
       "/manual/loading_progress.html                                                                                                                                             1\n",
       "/D:/x-certificate!/%E7%94%A8%E6%88%B7%E8%A1%8C%E4%B8%BA%E5%88%86%E6%9E%90/Sensors%20Analytics%20%E4%BD%BF%E7%94%A8%E6%89%8B%E5%86%8C/changelog.html                       1\n",
       "/W:/DayDir/201703/2017-03-12[0]/sensorsdata%E4%B8%93%E9%A2%98%E5%88%86%E6%9E%90/sensorsdata_manual_doc/use_guide.html                                                     1\n",
       "/D:/x-certificate!/Sensors%20Analytics%20%E4%BD%BF%E7%94%A8%E6%89%8B%E5%86%8C/Sensors%20Analytics%20%E4%BD%BF%E7%94%A8%E6%89%8B%E5%86%8C/import_tool.html                 1\n",
       "/R:/MyTemp/sensorsdata/retention.html                                                                                                                                     1\n",
       "/W:/DayDir/201703/2017-03-12[0]/sensorsdata%E4%B8%93%E9%A2%98%E5%88%86%E6%9E%90/sensorsdata_manual_doc/use_steps.html                                                     1\n",
       "/R:/MyTemp/sensorsdata/funnel.html                                                                                                                                        1\n",
       "/R:/MyTemp/sensorsdata/batch_importer.html                                                                                                                                1\n",
       "/D:/x-certificate!/Sensors%20Analytics%20%E4%BD%BF%E7%94%A8%E6%89%8B%E5%86%8C/Sensors%20Analytics%20%E4%BD%BF%E7%94%A8%E6%89%8B%E5%86%8C/api.html                         1\n",
       "/R:/MyTemp/sensorsdata/sampling_query.html                                                                                                                                1\n",
       "/E:/www.sensorsdata.cn/manual/java_sdk_demo.html                                                                                                                          1\n",
       "/R:/MyTemp/sensorsdata/about.html                                                                                                                                         1\n",
       "/R:/MyTemp/sensorsdata/user_segmentation.html                                                                                                                             1\n",
       "/D:/x-certificate!/Sensors%20Analytics%20%E4%BD%BF%E7%94%A8%E6%89%8B%E5%86%8C/Sensors%20Analytics%20%E4%BD%BF%E7%94%A8%E6%89%8B%E5%86%8C/android_sdk_faq.html             1\n",
       "/manual/access_control_tool.html                                                                                                                                          1\n",
       "/D:/x-certificate!/Sensors%20Analytics%20%E4%BD%BF%E7%94%A8%E6%89%8B%E5%86%8C/Sensors%20Analytics%20%E4%BD%BF%E7%94%A8%E6%89%8B%E5%86%8C/web_channel_tracking.html        1\n",
       "/D:/x-certificate!/Sensors%20Analytics%20%E4%BD%BF%E7%94%A8%E6%89%8B%E5%86%8C/Sensors%20Analytics%20%E4%BD%BF%E7%94%A8%E6%89%8B%E5%86%8C/data_model.html                  1\n",
       "/R:/MyTemp/sensorsdata/event_ana.html                                                                                                                                     1\n",
       "/D:/x-certificate!/Sensors%20Analytics%20%E4%BD%BF%E7%94%A8%E6%89%8B%E5%86%8C/Sensors%20Analytics%20%E4%BD%BF%E7%94%A8%E6%89%8B%E5%86%8C/mp_sdk.html                      1\n",
       "/C:/Users/Sam/Desktop/%E4%BB%8B%E7%BB%8D%20%C2%B7%20Sensors%20Analytics%20%E4%BD%BF%E7%94%A8%E6%89%8B%E5%86%8C.html                                                       1\n",
       "/manual/other_tools.html                                                                                                                                                  1\n",
       "/D:/x-certificate!/%E7%94%A8%E6%88%B7%E8%A1%8C%E4%B8%BA%E5%88%86%E6%9E%90/Sensors%20Analytics%20%E4%BD%BF%E7%94%A8%E6%89%8B%E5%86%8C/about.html                           1\n",
       "/manual/accessories.html                                                                                                                                                  1\n",
       "Name: url_path, Length: 170, dtype: int64"
      ]
     },
     "execution_count": 86,
     "metadata": {},
     "output_type": "execute_result"
    }
   ],
   "source": [
    "df_view.url_path.value_counts(dropna=True)"
   ]
  },
  {
   "cell_type": "code",
   "execution_count": 87,
   "metadata": {},
   "outputs": [
    {
     "data": {
      "text/plain": [
       "神策数据 | Sensors Data - 国内领先的用户行为分析产品                                                                                                                                                                                                                                                                                                                                                                                                                                                                                     13700\n",
       "神策分析|Sensors Analytics-帮你实现数据驱动－demo                                                                                                                                                                                                                                                                                                                                                                                                                                                                                     4148\n",
       "介绍 · Sensors Analytics 使用手册                                                                                                                                                                                                                                                                                                                                                                                                                                                                                              3542\n",
       "神策分析|Sensors Analytics-帮你实现数据驱动－产品                                                                                                                                                                                                                                                                                                                                                                                                                                                                                       2455\n",
       "神策分析|Sensors Analytics-帮你实现数据驱动－B轮融资发布会                                                                                                                                                                                                                                                                                                                                                                                                                                                                                  1899\n",
       "神策分析|Sensors Analytics-帮你实现数据驱动－关于                                                                                                                                                                                                                                                                                                                                                                                                                                                                                       1183\n",
       "神策分析|Sensors Analytics-帮你实现数据驱动-视频列表                                                                                                                                                                                                                                                                                                                                                                                                                                                                                     1129\n",
       "神策分析|Sensors Analytics-帮你实现数据驱动－视频播放                                                                                                                                                                                                                                                                                                                                                                                                                                                                                      830\n",
       "数据模型 · Sensors Analytics 使用手册                                                                                                                                                                                                                                                                                                                                                                                                                                                                                             232\n",
       "JavaScript SDK · Sensors Analytics 使用手册                                                                                                                                                                                                                                                                                                                                                                                                                                                                                   214\n",
       "事件分析 · Sensors Analytics 使用手册                                                                                                                                                                                                                                                                                                                                                                                                                                                                                             152\n",
       "数据格式 · Sensors Analytics 使用手册                                                                                                                                                                                                                                                                                                                                                                                                                                                                                             150\n",
       "可视化埋点 · Sensors Analytics 使用手册                                                                                                                                                                                                                                                                                                                                                                                                                                                                                            148\n",
       "神策分析|Sensors Analytics-帮你实现数据驱动-网址构建工具                                                                                                                                                                                                                                                                                                                                                                                                                                                                                    147\n",
       "weixin://private/setresult/SCENE_FETCHQUEUE&eyJmdW5jIjoibG9nIiwicGFyYW1zIjp7Im1zZyI6Il9ydW5PbjNyZEFwaUxpc3QgOiBtZW51OnNoYXJlOnRpbWVsaW5lLG1lbnU6c2hhcmU6YXBwbWVzc2FnZSxvblZvaWNlUmVjb3JkRW5kLG9uVm9pY2VQbGF5QmVnaW4sb25Wb2ljZVBsYXlFbmQsb25Mb2NhbEltYWdlVXBsb2FkUHJvZ3Jlc3Msb25JbWFnZURvd25sb2FkUHJvZ3Jlc3Msb25Wb2ljZVVwbG9hZFByb2dyZXNzLG9uVm9pY2VEb3dubG9hZFByb2dyZXNzLG1lbnU6c2V0Zm9udCxtZW51OnNoYXJlOndlaWJvLG1lbnU6c2hhcmU6ZW1haWwsd3hkb3dubG9hZDpzdGF0ZV9jaGFuZ2UsaGRPbkRldmljZVN0YXRlQ2hhbmdlZCxhY3Rpdml0eTpz      142\n",
       "数据接入 · Sensors Analytics 使用手册                                                                                                                                                                                                                                                                                                                                                                                                                                                                                             139\n",
       "Android SDK · Sensors Analytics 使用手册                                                                                                                                                                                                                                                                                                                                                                                                                                                                                      132\n",
       "电商类产品 · Sensors Analytics 使用手册                                                                                                                                                                                                                                                                                                                                                                                                                                                                                            120\n",
       "iOS SDK · Sensors Analytics 使用手册                                                                                                                                                                                                                                                                                                                                                                                                                                                                                          118\n",
       "神策分析|Sensors Analytics-帮你实现数据驱动-JavaScript SDK 自动生成工具                                                                                                                                                                                                                                                                                                                                                                                                                                                                     110\n",
       "整体使用流程 · Sensors Analytics 使用手册                                                                                                                                                                                                                                                                                                                                                                                                                                                                                           100\n",
       "如何准确的标识用户 · Sensors Analytics 使用手册                                                                                                                                                                                                                                                                                                                                                                                                                                                                                         96\n",
       "惠州网站建设|惠州网站设计|惠州网站制作|网站设计-微斯诺科技                                                                                                                                                                                                                                                                                                                                                                                                                                                                                            81\n",
       "漏斗分析 · Sensors Analytics 使用手册                                                                                                                                                                                                                                                                                                                                                                                                                                                                                              78\n",
       "用户分群 · Sensors Analytics 使用手册                                                                                                                                                                                                                                                                                                                                                                                                                                                                                              76\n",
       "Java SDK · Sensors Analytics 使用手册                                                                                                                                                                                                                                                                                                                                                                                                                                                                                          67\n",
       "留存分析 · Sensors Analytics 使用手册                                                                                                                                                                                                                                                                                                                                                                                                                                                                                              67\n",
       "weixin://private/setresult/SCENE_HANDLEMSGFROMWX&eyJfX2Vycl9jb2RlIjoiY2I0MDQifQ==                                                                                                                                                                                                                                                                                                                                                                                                                                          60\n",
       "自定义查询 · Sensors Analytics 使用手册                                                                                                                                                                                                                                                                                                                                                                                                                                                                                             58\n",
       "用户路径分析 · Sensors Analytics 使用手册                                                                                                                                                                                                                                                                                                                                                                                                                                                                                            50\n",
       "                                                                                                                                                                                                                                                                                                                                                                                                                                                                                                                        ...  \n",
       "数据接入 API · Sensors Analytics 使用手册                                                                                                                                                                                                                                                                                                                                                                                                                                                                                           7\n",
       "功能 API · Sensors Analytics 使用手册                                                                                                                                                                                                                                                                                                                                                                                                                                                                                             7\n",
       "订阅实时数据 · Sensors Analytics 使用手册                                                                                                                                                                                                                                                                                                                                                                                                                                                                                             7\n",
       "微信小程序 SDK · Sensors Analytics 使用手册                                                                                                                                                                                                                                                                                                                                                                                                                                                                                          7\n",
       "关于我们 · Sensors Analytics 使用手册                                                                                                                                                                                                                                                                                                                                                                                                                                                                                               6\n",
       "从外部 Kafka 接入数据的方案 · Sensors Analytics 使用手册                                                                                                                                                                                                                                                                                                                                                                                                                                                                                  6\n",
       "数据接入基本原则 · Sensors Analytics 使用手册                                                                                                                                                                                                                                                                                                                                                                                                                                                                                           6\n",
       "Ruby SDK · Sensors Analytics 使用手册                                                                                                                                                                                                                                                                                                                                                                                                                                                                                           6\n",
       "推荐分享 · Sensors Analytics 使用手册                                                                                                                                                                                                                                                                                                                                                                                                                                                                                               5\n",
       "CustomUserSegmenter 使用说明 · Sensors Analytics 使用手册                                                                                                                                                                                                                                                                                                                                                                                                                                                                           5\n",
       "第三方登录 · Sensors Analytics 使用手册                                                                                                                                                                                                                                                                                                                                                                                                                                                                                              5\n",
       "APICloud SDK · Sensors Analytics 使用手册                                                                                                                                                                                                                                                                                                                                                                                                                                                                                       4\n",
       "Java SDK Demo · Sensors Analytics 使用手册                                                                                                                                                                                                                                                                                                                                                                                                                                                                                      4\n",
       "基础指标解释和配置 · Sensors Analytics 使用手册                                                                                                                                                                                                                                                                                                                                                                                                                                                                                          3\n",
       "元数据创建工具使用说明 · Sensors Analytics 使用手册                                                                                                                                                                                                                                                                                                                                                                                                                                                                                        3\n",
       "查询抽样 · Sensors Analytics 使用手册                                                                                                                                                                                                                                                                                                                                                                                                                                                                                               3\n",
       "3 神策数据 | Sensors Data - 国内领先的用户行为分析产品                                                                                                                                                                                                                                                                                                                                                                                                                                                                                       3\n",
       "数据校验及元数据创建 · Sensors Analytics 使用手册                                                                                                                                                                                                                                                                                                                                                                                                                                                                                         2\n",
       "导入辅助工具 · Sensors Analytics 使用手册                                                                                                                                                                                                                                                                                                                                                                                                                                                                                             2\n",
       "3 神策分析|Sensors Analytics-帮你实现数据驱动－产品                                                                                                                                                                                                                                                                                                                                                                                                                                                                                        2\n",
       "3 神策分析|Sensors Analytics-帮你实现数据驱动－demo                                                                                                                                                                                                                                                                                                                                                                                                                                                                                      1\n",
       "神策分析 | Sensors Analytics - 帮你实现数据驱动－B 轮融资发布会                                                                                                                                                                                                                                                                                                                                                                                                                                                                                1\n",
       "C SDK · Sensors Analytics 使用手册                                                                                                                                                                                                                                                                                                                                                                                                                                                                                              1\n",
       "分析师事件权限设置工具 · Sensors Analytics 使用手册                                                                                                                                                                                                                                                                                                                                                                                                                                                                                        1\n",
       "4 介绍 · Sensors Analytics 使用手册                                                                                                                                                                                                                                                                                                                                                                                                                                                                                               1\n",
       "进阶使用场景 · Sensors Analytics 使用手册                                                                                                                                                                                                                                                                                                                                                                                                                                                                                             1\n",
       "3 神策分析|Sensors Analytics-帮你实现数据驱动－关于                                                                                                                                                                                                                                                                                                                                                                                                                                                                                        1\n",
       "其他辅助工具 · Sensors Analytics 使用手册                                                                                                                                                                                                                                                                                                                                                                                                                                                                                             1\n",
       "导入状态 · Sensors Analytics 使用手册                                                                                                                                                                                                                                                                                                                                                                                                                                                                                               1\n",
       "Sensor Analytics - help you implement data drivers                                                                                                                                                                                                                                                                                                                                                                                                                                                                          1\n",
       "Name: title, Length: 108, dtype: int64"
      ]
     },
     "execution_count": 87,
     "metadata": {},
     "output_type": "execute_result"
    }
   ],
   "source": [
    "df_view.title.value_counts(dropna=True)"
   ]
  },
  {
   "cell_type": "code",
   "execution_count": 88,
   "metadata": {},
   "outputs": [
    {
     "data": {
      "text/plain": [
       "www.sensorsdata.cn                        12634\n",
       "                                           7091\n",
       "www.baidu.com                              6284\n",
       "sensorsdata.cn                             2764\n",
       "m.baidu.com                                 816\n",
       "www.sogou.com                               352\n",
       "36kr.com                                    208\n",
       "www.google.com.hk                           166\n",
       "www.google.com                              156\n",
       "localhost                                   154\n",
       "m.sogou.com                                 147\n",
       "link.zhihu.com                              146\n",
       "wap.sogou.com                               144\n",
       "image.baidu.com                              67\n",
       "www.so.com                                   67\n",
       "www.google.co.jp                             48\n",
       "ebizdemo.cloud.sensorsdata.cn                41\n",
       "googleads.g.doubleclick.net                  41\n",
       "www.woshipm.com                              34\n",
       "cn.bing.com                                  33\n",
       "zhidao.baidu.com                             23\n",
       "data.isoubu.com                              21\n",
       "sensors.ishansong.com                        21\n",
       "sensorswww.cloud.sensorsdata.cn              20\n",
       "youxuan.baidu.com                            20\n",
       "zhengbangchuangyi.cloud.sensorsdata.cn       20\n",
       "data.corp.36kr.com                           17\n",
       "wapbaike.baidu.com                           17\n",
       "so.m.sm.cn                                   16\n",
       "class.sanjieke.cn                            15\n",
       "wenku.baidu.com                              15\n",
       "sensors.jiedaibao.com                        15\n",
       "www.itjuzi.com                               15\n",
       "tongji.yeshen.com                            14\n",
       "www.google.com.tw                            14\n",
       "www.sanjieke.cn                              14\n",
       "mp.weixinbridge.com                          14\n",
       "c.tieba.baidu.com                            14\n",
       "yandex.ru                                    12\n",
       "saasdemo.cloud.sensorsdata.cn                12\n",
       "cpro.baidu.com                               11\n",
       "sd.int.jumei.com                             11\n",
       "Name: ch, dtype: int64"
      ]
     },
     "execution_count": 88,
     "metadata": {},
     "output_type": "execute_result"
    }
   ],
   "source": [
    "df_view.ch.value_counts()[df_view['ch'].value_counts()>10]"
   ]
  },
  {
   "cell_type": "code",
   "execution_count": 89,
   "metadata": {},
   "outputs": [
    {
     "data": {
      "text/plain": [
       "www.sensorsdata.cn                        12634\n",
       "                                           7091\n",
       "www.baidu.com                              6284\n",
       "sensorsdata.cn                             2764\n",
       "m.baidu.com                                 816\n",
       "www.sogou.com                               352\n",
       "36kr.com                                    208\n",
       "www.google.com.hk                           166\n",
       "www.google.com                              156\n",
       "localhost                                   154\n",
       "m.sogou.com                                 147\n",
       "link.zhihu.com                              146\n",
       "wap.sogou.com                               144\n",
       "image.baidu.com                              67\n",
       "www.so.com                                   67\n",
       "www.google.co.jp                             48\n",
       "ebizdemo.cloud.sensorsdata.cn                41\n",
       "googleads.g.doubleclick.net                  41\n",
       "www.woshipm.com                              34\n",
       "cn.bing.com                                  33\n",
       "zhidao.baidu.com                             23\n",
       "data.isoubu.com                              21\n",
       "sensors.ishansong.com                        21\n",
       "sensorswww.cloud.sensorsdata.cn              20\n",
       "youxuan.baidu.com                            20\n",
       "zhengbangchuangyi.cloud.sensorsdata.cn       20\n",
       "data.corp.36kr.com                           17\n",
       "wapbaike.baidu.com                           17\n",
       "so.m.sm.cn                                   16\n",
       "class.sanjieke.cn                            15\n",
       "wenku.baidu.com                              15\n",
       "sensors.jiedaibao.com                        15\n",
       "www.itjuzi.com                               15\n",
       "tongji.yeshen.com                            14\n",
       "www.google.com.tw                            14\n",
       "www.sanjieke.cn                              14\n",
       "mp.weixinbridge.com                          14\n",
       "c.tieba.baidu.com                            14\n",
       "yandex.ru                                    12\n",
       "saasdemo.cloud.sensorsdata.cn                12\n",
       "cpro.baidu.com                               11\n",
       "sd.int.jumei.com                             11\n",
       "Name: refer_Host, dtype: int64"
      ]
     },
     "execution_count": 89,
     "metadata": {},
     "output_type": "execute_result"
    }
   ],
   "source": [
    "df_view.refer_Host.value_counts()[df_view['refer_Host'].value_counts()>10]"
   ]
  },
  {
   "cell_type": "markdown",
   "metadata": {},
   "source": [
    "refer_Host same as ch"
   ]
  },
  {
   "cell_type": "code",
   "execution_count": 90,
   "metadata": {},
   "outputs": [
    {
     "data": {
      "text/plain": [
       "www.baidu.com                             14770\n",
       "                                           8361\n",
       "www.sensorsdata.cn                         1054\n",
       "m.baidu.com                                 994\n",
       "36kr.com                                    790\n",
       "www.sogou.com                               735\n",
       "www.google.com.hk                           445\n",
       "www.google.com                              372\n",
       "sensorsdata.cn                              293\n",
       "www.so.com                                  234\n",
       "link.zhihu.com                              189\n",
       "m.sogou.com                                 165\n",
       "wap.sogou.com                               150\n",
       "cn.bing.com                                 122\n",
       "www.google.co.jp                            122\n",
       "www.woshipm.com                              64\n",
       "image.baidu.com                              61\n",
       "class.sanjieke.cn                            50\n",
       "www.itjuzi.com                               49\n",
       "googleads.g.doubleclick.net                  43\n",
       "wenku.baidu.com                              28\n",
       "passport.36kr.com                            27\n",
       "zhengbangchuangyi.cloud.sensorsdata.cn       27\n",
       "www.sanjieke.cn                              26\n",
       "mp.weixinbridge.com                          25\n",
       "zhidao.baidu.com                             24\n",
       "so.m.sm.cn                                   23\n",
       "www.mulumu.com                               22\n",
       "youxuan.baidu.com                            22\n",
       "www.google.com.tw                            21\n",
       "www.google.com.sg                            20\n",
       "mail.alibaba-inc.com                         20\n",
       "www.google.com.ph                            20\n",
       "www.linear.vc                                19\n",
       "a.youdao.com                                 18\n",
       "www.google.com.au                            18\n",
       "wapbaike.baidu.com                           17\n",
       "mail.qq.com                                  17\n",
       "qiye.aliyun.com                              16\n",
       "saasdemo.cloud.sensorsdata.cn                14\n",
       "ebizdemo.cloud.sensorsdata.cn                14\n",
       "c.tieba.baidu.com                            14\n",
       "next.36kr.com                                14\n",
       "www.oneapm.com                               14\n",
       "hippter.com                                  12\n",
       "www.digitaling.com                           12\n",
       "cpro.baidu.com                               12\n",
       "google.gg-g.org                              12\n",
       "www.google.nl                                11\n",
       "www.tongdao.io                               11\n",
       "www.qichacha.com                             11\n",
       "wisd.sogou.com                               11\n",
       "Name: screen_rh, dtype: int64"
      ]
     },
     "execution_count": 90,
     "metadata": {},
     "output_type": "execute_result"
    }
   ],
   "source": [
    "df_view.screen_rh.value_counts()[df_view['screen_rh'].value_counts()>10]"
   ]
  },
  {
   "cell_type": "markdown",
   "metadata": {},
   "source": [
    "Session referrer host similar to refer_Host and ch, but more null values\n",
    "Same as the analysis on btnclick and page view, use latest_utm"
   ]
  },
  {
   "cell_type": "markdown",
   "metadata": {},
   "source": [
    "- Analysis on the reason for demo leave\n",
    "- Note that we can find utm_source on other data frame to see if we can find not null values"
   ]
  },
  {
   "cell_type": "code",
   "execution_count": 91,
   "metadata": {},
   "outputs": [],
   "source": [
    "# If you do NOT have geoip2 library installed\n",
    "# Uncomment and run the code below\n",
    "\n",
    "#import sys\n",
    "#!{sys.executable} -m pip install geoip2"
   ]
  },
  {
   "cell_type": "code",
   "execution_count": 92,
   "metadata": {},
   "outputs": [],
   "source": [
    "import geoip2.database"
   ]
  },
  {
   "cell_type": "code",
   "execution_count": 93,
   "metadata": {},
   "outputs": [],
   "source": [
    "# read library from local file\n",
    "reader = geoip2.database.Reader('./data/GeoLite2-Country_20180501/GeoLite2-Country.mmdb')"
   ]
  },
  {
   "cell_type": "code",
   "execution_count": 94,
   "metadata": {},
   "outputs": [],
   "source": [
    "# example usage of geoip2 \n",
    "response = reader.country('219.135.131.99')"
   ]
  },
  {
   "cell_type": "code",
   "execution_count": 95,
   "metadata": {},
   "outputs": [
    {
     "data": {
      "text/plain": [
       "'CN'"
      ]
     },
     "execution_count": 95,
     "metadata": {},
     "output_type": "execute_result"
    }
   ],
   "source": [
    "response.country.iso_code"
   ]
  },
  {
   "cell_type": "markdown",
   "metadata": {},
   "source": [
    "ip address has 8296 unrecognized value"
   ]
  },
  {
   "cell_type": "code",
   "execution_count": 96,
   "metadata": {},
   "outputs": [],
   "source": [
    "# Define CN: user has ip address in China\n",
    "#df['CN'] = df['ip'].apply(lambda row: reader.country(row).country.iso_code == 'CN')\n",
    "CN=[]\n",
    "for i in range(len(df['ip'])):\n",
    "    try:\n",
    "        CN.append ((reader.country(df.loc[i,'ip']).country.iso_code == 'CN') * 1)\n",
    "    except:\n",
    "        CN.append(0)"
   ]
  },
  {
   "cell_type": "code",
   "execution_count": 97,
   "metadata": {},
   "outputs": [],
   "source": [
    "df['CN'] = CN"
   ]
  },
  {
   "cell_type": "code",
   "execution_count": 98,
   "metadata": {},
   "outputs": [
    {
     "data": {
      "text/plain": [
       "1    56401\n",
       "0     9272\n",
       "Name: CN, dtype: int64"
      ]
     },
     "execution_count": 98,
     "metadata": {},
     "output_type": "execute_result"
    }
   ],
   "source": [
    "df.CN.value_counts(dropna=True)"
   ]
  },
  {
   "cell_type": "code",
   "execution_count": 99,
   "metadata": {},
   "outputs": [],
   "source": [
    "import geoip2.database\n",
    "# read library from local file\n",
    "reader = geoip2.database.Reader('./data/GeoLite2-City_20180501/GeoLite2-City.mmdb')"
   ]
  },
  {
   "cell_type": "code",
   "execution_count": 100,
   "metadata": {},
   "outputs": [],
   "source": [
    "CT=[]\n",
    "for i in range(len(df['ip'])):\n",
    "    try:\n",
    "        CT.append (reader.city(df.loc[i,'ip']).city.name) \n",
    "    except:\n",
    "        CT.append('0')"
   ]
  },
  {
   "cell_type": "code",
   "execution_count": 101,
   "metadata": {},
   "outputs": [],
   "source": [
    "df['CT'] = CT"
   ]
  },
  {
   "cell_type": "code",
   "execution_count": 102,
   "metadata": {},
   "outputs": [
    {
     "data": {
      "text/plain": [
       "Beijing           20185\n",
       "0                  8296\n",
       "Shanghai           7196\n",
       "Guangzhou          7063\n",
       "Hangzhou           4183\n",
       "Shenzhen           3736\n",
       "Chengdu            1973\n",
       "Nanjing            1817\n",
       "Haidian            1558\n",
       "Wuhan              1184\n",
       "NaN                1027\n",
       "Tianjin             569\n",
       "Hefei               463\n",
       "Shenyang            375\n",
       "Zhengzhou           297\n",
       "Jinan               284\n",
       "Fuzhou              278\n",
       "Changsha            275\n",
       "Suzhou              260\n",
       "Wenzhou             239\n",
       "Chongqing           236\n",
       "Hebei               195\n",
       "Shantou             175\n",
       "Jinghe              166\n",
       "Xi'an               162\n",
       "Xiamen              148\n",
       "Foshan              129\n",
       "Zhuhai              124\n",
       "Dongguan            122\n",
       "Ürümqi              114\n",
       "                  ...  \n",
       "London                1\n",
       "Shiqi                 1\n",
       "Jiaozuo               1\n",
       "São Paulo             1\n",
       "Ordos                 1\n",
       "Hoest                 1\n",
       "Kunyang               1\n",
       "Cheung Sha Wan        1\n",
       "Dongyang              1\n",
       "Selden                1\n",
       "Jiekou                1\n",
       "Nchelenge             1\n",
       "Korolev               1\n",
       "Redwood City          1\n",
       "Kazan’                1\n",
       "Chiang Mai            1\n",
       "Danyang               1\n",
       "Huai Khwang           1\n",
       "Hippolytushoef        1\n",
       "Pesaro                1\n",
       "Zhangjiakou           1\n",
       "Wafangdian            1\n",
       "Neutral Bay           1\n",
       "Pizhou                1\n",
       "Burnaby               1\n",
       "Depok                 1\n",
       "Kuala Lumpur          1\n",
       "Montpellier           1\n",
       "Walnut                1\n",
       "Guildford             1\n",
       "Name: CT, Length: 242, dtype: int64"
      ]
     },
     "execution_count": 102,
     "metadata": {},
     "output_type": "execute_result"
    }
   ],
   "source": [
    "df['CT'].value_counts(dropna=False)"
   ]
  },
  {
   "cell_type": "code",
   "execution_count": 103,
   "metadata": {},
   "outputs": [],
   "source": [
    "df['weekend'] = ((df.day == '2017-03-11') | (df.day == '2017-03-12')) * 1"
   ]
  },
  {
   "cell_type": "code",
   "execution_count": 104,
   "metadata": {},
   "outputs": [],
   "source": [
    "# define sign up column with users have form submit behavior\n",
    "ind = df.dist_id.isin(df_form.dist_id) *1"
   ]
  },
  {
   "cell_type": "code",
   "execution_count": 105,
   "metadata": {},
   "outputs": [],
   "source": [
    "df['signup'] = ind.tolist()"
   ]
  },
  {
   "cell_type": "code",
   "execution_count": 106,
   "metadata": {},
   "outputs": [],
   "source": [
    "df_select = df.copy()"
   ]
  },
  {
   "cell_type": "code",
   "execution_count": 107,
   "metadata": {},
   "outputs": [],
   "source": [
    "df_select['freq'] = df_select.groupby('dist_id')['dist_id'].transform('count')"
   ]
  },
  {
   "cell_type": "code",
   "execution_count": 108,
   "metadata": {},
   "outputs": [
    {
     "data": {
      "text/plain": [
       "0    57297\n",
       "1     8376\n",
       "Name: weekend, dtype: int64"
      ]
     },
     "execution_count": 108,
     "metadata": {},
     "output_type": "execute_result"
    }
   ],
   "source": [
    "df_select.weekend.value_counts(dropna=True)"
   ]
  },
  {
   "cell_type": "code",
   "execution_count": 109,
   "metadata": {},
   "outputs": [
    {
     "data": {
      "text/plain": [
       "0    53029\n",
       "1    12644\n",
       "Name: signup, dtype: int64"
      ]
     },
     "execution_count": 109,
     "metadata": {},
     "output_type": "execute_result"
    }
   ],
   "source": [
    "df_select.signup.value_counts(dropna=True)"
   ]
  },
  {
   "cell_type": "code",
   "execution_count": 110,
   "metadata": {},
   "outputs": [
    {
     "data": {
      "text/plain": [
       "count    65673.000000\n",
       "mean        25.265467\n",
       "std         36.783402\n",
       "min          1.000000\n",
       "25%          5.000000\n",
       "50%         13.000000\n",
       "75%         30.000000\n",
       "max        254.000000\n",
       "Name: freq, dtype: float64"
      ]
     },
     "execution_count": 110,
     "metadata": {},
     "output_type": "execute_result"
    }
   ],
   "source": [
    "df_select['freq'].describe()"
   ]
  },
  {
   "cell_type": "code",
   "execution_count": 111,
   "metadata": {},
   "outputs": [
    {
     "data": {
      "text/plain": [
       "browser                    0\n",
       "browser_v                  0\n",
       "ch                     33338\n",
       "day                        0\n",
       "dist_id                    0\n",
       "event                      0\n",
       "from_url               64691\n",
       "ip                         0\n",
       "isMsg                  65204\n",
       "isSuccess              64882\n",
       "is_fd                      0\n",
       "is_ft                      0\n",
       "latest_ch              57136\n",
       "latest_r                 811\n",
       "latest_rh                811\n",
       "latest_utm_campaign    25770\n",
       "latest_utm_content     26910\n",
       "latest_utm_m           25982\n",
       "latest_utm_s           25090\n",
       "latest_utm_t           26578\n",
       "model                      0\n",
       "name                   50503\n",
       "nocache                    0\n",
       "os                         0\n",
       "os_version                 0\n",
       "page                   53957\n",
       "pageP                  49183\n",
       "pageS                  48953\n",
       "pageUrl                35317\n",
       "refer_Host             33338\n",
       "referrHostUrl          65204\n",
       "referrer               33339\n",
       "referrerUrl            65204\n",
       "requestBtn             61402\n",
       "result                 64510\n",
       "screen_h                   0\n",
       "screen_r                2627\n",
       "screen_rh               2634\n",
       "screen_w                   0\n",
       "session_p               2907\n",
       "siteUrl                65204\n",
       "site_url               64691\n",
       "time                       0\n",
       "title                  33053\n",
       "tp                         0\n",
       "url                    33075\n",
       "url_path               33053\n",
       "source                     0\n",
       "medium                     0\n",
       "content                    0\n",
       "CN                         0\n",
       "CT                      1027\n",
       "weekend                    0\n",
       "signup                     0\n",
       "freq                       0\n",
       "dtype: int64"
      ]
     },
     "execution_count": 111,
     "metadata": {},
     "output_type": "execute_result"
    }
   ],
   "source": [
    "df_select.isnull().sum()"
   ]
  },
  {
   "cell_type": "code",
   "execution_count": 112,
   "metadata": {},
   "outputs": [],
   "source": [
    "selected_columns = [u'dist_id',u'event',u'browser',u'browser_v',u'day', u'is_fd', \n",
    "                    u'is_ft', u'ip', u'latest_utm_s',u'latest_utm_m',u'latest_utm_content',u'model', u'os', \n",
    "                    u'os_version',u'pageS', u'pageP',u'time', u'CN', u'CT',u'source', u'medium',u'content',\n",
    "                    u'weekend',u'freq',u'signup']"
   ]
  },
  {
   "cell_type": "code",
   "execution_count": 113,
   "metadata": {},
   "outputs": [],
   "source": [
    "cleaned_data_csv = 'data/cleaned_data.csv'\n",
    "df_select[selected_columns].to_csv(cleaned_data_csv, index=False)"
   ]
  },
  {
   "cell_type": "code",
   "execution_count": 114,
   "metadata": {},
   "outputs": [
    {
     "data": {
      "text/html": [
       "<div>\n",
       "<style scoped>\n",
       "    .dataframe tbody tr th:only-of-type {\n",
       "        vertical-align: middle;\n",
       "    }\n",
       "\n",
       "    .dataframe tbody tr th {\n",
       "        vertical-align: top;\n",
       "    }\n",
       "\n",
       "    .dataframe thead th {\n",
       "        text-align: right;\n",
       "    }\n",
       "</style>\n",
       "<table border=\"1\" class=\"dataframe\">\n",
       "  <thead>\n",
       "    <tr style=\"text-align: right;\">\n",
       "      <th></th>\n",
       "      <th>dist_id</th>\n",
       "      <th>latest_utm_s</th>\n",
       "    </tr>\n",
       "  </thead>\n",
       "  <tbody>\n",
       "    <tr>\n",
       "      <th>75079</th>\n",
       "      <td>215110e7713ef7435524bf321fa894e411338c40</td>\n",
       "      <td>None</td>\n",
       "    </tr>\n",
       "    <tr>\n",
       "      <th>75080</th>\n",
       "      <td>215110e7713ef7435524bf321fa894e411338c40</td>\n",
       "      <td>None</td>\n",
       "    </tr>\n",
       "    <tr>\n",
       "      <th>75081</th>\n",
       "      <td>215110e7713ef7435524bf321fa894e411338c40</td>\n",
       "      <td>None</td>\n",
       "    </tr>\n",
       "    <tr>\n",
       "      <th>75082</th>\n",
       "      <td>215110e7713ef7435524bf321fa894e411338c40</td>\n",
       "      <td>None</td>\n",
       "    </tr>\n",
       "    <tr>\n",
       "      <th>75083</th>\n",
       "      <td>215110e7713ef7435524bf321fa894e411338c40</td>\n",
       "      <td>None</td>\n",
       "    </tr>\n",
       "    <tr>\n",
       "      <th>75084</th>\n",
       "      <td>215110e7713ef7435524bf321fa894e411338c40</td>\n",
       "      <td>None</td>\n",
       "    </tr>\n",
       "    <tr>\n",
       "      <th>75085</th>\n",
       "      <td>215110e7713ef7435524bf321fa894e411338c40</td>\n",
       "      <td>None</td>\n",
       "    </tr>\n",
       "    <tr>\n",
       "      <th>75086</th>\n",
       "      <td>215110e7713ef7435524bf321fa894e411338c40</td>\n",
       "      <td>None</td>\n",
       "    </tr>\n",
       "    <tr>\n",
       "      <th>75088</th>\n",
       "      <td>1b384ff8574084ef4a7356a8cd0c36350286e576</td>\n",
       "      <td>None</td>\n",
       "    </tr>\n",
       "    <tr>\n",
       "      <th>75090</th>\n",
       "      <td>3b23eacd700848ff085ec5877df695456bfe6bb3</td>\n",
       "      <td>baidu</td>\n",
       "    </tr>\n",
       "  </tbody>\n",
       "</table>\n",
       "</div>"
      ],
      "text/plain": [
       "                                        dist_id latest_utm_s\n",
       "75079  215110e7713ef7435524bf321fa894e411338c40         None\n",
       "75080  215110e7713ef7435524bf321fa894e411338c40         None\n",
       "75081  215110e7713ef7435524bf321fa894e411338c40         None\n",
       "75082  215110e7713ef7435524bf321fa894e411338c40         None\n",
       "75083  215110e7713ef7435524bf321fa894e411338c40         None\n",
       "75084  215110e7713ef7435524bf321fa894e411338c40         None\n",
       "75085  215110e7713ef7435524bf321fa894e411338c40         None\n",
       "75086  215110e7713ef7435524bf321fa894e411338c40         None\n",
       "75088  1b384ff8574084ef4a7356a8cd0c36350286e576         None\n",
       "75090  3b23eacd700848ff085ec5877df695456bfe6bb3        baidu"
      ]
     },
     "execution_count": 114,
     "metadata": {},
     "output_type": "execute_result"
    }
   ],
   "source": [
    "df_select[['dist_id','latest_utm_s']].tail(10)"
   ]
  },
  {
   "cell_type": "markdown",
   "metadata": {},
   "source": [
    "Try to check if we can use the first time source for anlysis, seems to be the same"
   ]
  },
  {
   "cell_type": "code",
   "execution_count": 115,
   "metadata": {},
   "outputs": [
    {
     "data": {
      "text/plain": [
       "1    514\n",
       "0     86\n",
       "Name: CN, dtype: int64"
      ]
     },
     "execution_count": 115,
     "metadata": {},
     "output_type": "execute_result"
    },
    {
     "data": {
      "image/png": "[encoded data removed]",
      "text/plain": [
       "<Figure size 640x480 with 1 Axes>"
      ]
     },
     "metadata": {},
     "output_type": "display_data"
    }
   ],
   "source": [
    "df_select['CN'].loc[df_select['event'] == 'click_send_cellphone'].value_counts(dropna=False).plot.bar()\n",
    "df_select['CN'].loc[df_select['event'] == 'click_send_cellphone'].value_counts(dropna=False)"
   ]
  },
  {
   "cell_type": "code",
   "execution_count": 116,
   "metadata": {},
   "outputs": [
    {
     "data": {
      "text/plain": [
       "1    441\n",
       "0     72\n",
       "Name: CN, dtype: int64"
      ]
     },
     "execution_count": 116,
     "metadata": {},
     "output_type": "execute_result"
    },
    {
     "data": {
      "image/png": "[encoded data removed]",
      "text/plain": [
       "<Figure size 640x480 with 1 Axes>"
      ]
     },
     "metadata": {},
     "output_type": "display_data"
    }
   ],
   "source": [
    "df_select['CN'].loc[df_select['event'] == 'clickSubmit'].value_counts(dropna=False).plot.bar()\n",
    "df_select['CN'].loc[df_select['event'] == 'clickSubmit'].value_counts(dropna=False)"
   ]
  },
  {
   "cell_type": "code",
   "execution_count": 117,
   "metadata": {},
   "outputs": [
    {
     "data": {
      "text/plain": [
       "1    493\n",
       "0     70\n",
       "Name: CN, dtype: int64"
      ]
     },
     "execution_count": 117,
     "metadata": {},
     "output_type": "execute_result"
    },
    {
     "data": {
      "image/png": "[encoded data removed]",
      "text/plain": [
       "<Figure size 640x480 with 1 Axes>"
      ]
     },
     "metadata": {},
     "output_type": "display_data"
    }
   ],
   "source": [
    "df_select['CN'].loc[df_select['event'] == 'verify_cellphone_code'].value_counts(dropna=False).plot.bar()\n",
    "df_select['CN'].loc[df_select['event'] == 'verify_cellphone_code'].value_counts(dropna=False)"
   ]
  },
  {
   "cell_type": "markdown",
   "metadata": {},
   "source": [
    "Ip address in or not in China, did not influence sign up rate. Users interested in this website can even sign up or use Chinese cellphone number even in abroad. "
   ]
  }
 ],
 "metadata": {
  "kernelspec": {
   "display_name": "Python 3",
   "language": "python",
   "name": "python3"
  },
  "language_info": {
   "codemirror_mode": {
    "name": "ipython",
    "version": 3
   },
   "file_extension": ".py",
   "mimetype": "text/x-python",
   "name": "python",
   "nbconvert_exporter": "python",
   "pygments_lexer": "ipython3",
   "version": "3.6.5"
  }
 },
 "nbformat": 4,
 "nbformat_minor": 2
}
